{
 "cells": [
  {
   "cell_type": "code",
   "execution_count": 1,
   "id": "3b3c2af9-17aa-49c7-b004-aa2de1e424bf",
   "metadata": {
    "tags": []
   },
   "outputs": [
    {
     "name": "stdout",
     "output_type": "stream",
     "text": [
      "Overwriting auto display for cadquery Workplane and Shape\n"
     ]
    }
   ],
   "source": [
    "import cadquery as cq\n",
    "from cadquery import exporters\n",
    "from jupyter_cadquery.cadquery import (PartGroup, Part, Edges, Faces, Vertices, show, \n",
    "                                       replay, enable_replay, disable_replay, reset_replay)\n",
    "from jupyter_cadquery import set_sidecar, set_defaults\n",
    "\n",
    "from math import sin, radians, sqrt\n",
    "\n",
    "import ipywidgets as widgets"
   ]
  },
  {
   "cell_type": "code",
   "execution_count": 2,
   "id": "52d97f87-1294-4c93-8f3f-082d8a4c2835",
   "metadata": {},
   "outputs": [
    {
     "data": {
      "text/html": [
       "<style>\n",
       ".scroll-area {\n",
       "    overflow: scroll !important;\n",
       "    border: unset !important;\n",
       "}\n",
       "\n",
       ".mac-scrollbar::-webkit-scrollbar {\n",
       "    width: 5px !important;\n",
       "    height: 5px !important;\n",
       "}\n",
       "\n",
       ".mac-scrollbar::-webkit-scrollbar-track {\n",
       "    background-color: transparent !important;\n",
       "}\n",
       "\n",
       ".mac-scrollbar .widget-html-content {\n",
       "    overflow-x: visible;\n",
       "    overflow-y: visible;\n",
       "}\n",
       "\n",
       ".tab-content-no-padding .widget-tab-contents {\n",
       "    overflow-x: visible !important;\n",
       "    overflow-y: visible !important;\n",
       "    padding-bottom: 0px !important;\n",
       "}\n",
       "\n",
       ".view_renderer {\n",
       "    border: 1px solid var(--jp-border-color1);\n",
       "    margin-top: 3px;\n",
       "    margin-left: 2px;\n",
       "}\n",
       "\n",
       ".view_tree {\n",
       "    padding: 0px !important;\n",
       "}\n",
       "\n",
       ".view_axes {\n",
       "    width: 60px !important;\n",
       "    margin-left: 5px !important;\n",
       "}\n",
       "\n",
       ".view_zero {\n",
       "    width: 55px !important;\n",
       "}\n",
       "\n",
       ".view_grid {\n",
       "    width: 56px !important;\n",
       "}\n",
       "\n",
       ".view_ortho {\n",
       "    width: 64px !important;\n",
       "}\n",
       "\n",
       ".view_transparent {\n",
       "    width: 125px !important;\n",
       "}\n",
       "\n",
       ".view_black_edges {\n",
       "    width: 105px !important;\n",
       "}\n",
       "\n",
       ".view_button {\n",
       "    padding: 0px !important;\n",
       "}\n",
       "\n",
       ".view_button>img {\n",
       "    height: 28px;\n",
       "    width: 36px;\n",
       "}\n",
       "\n",
       ".node_entry_wrap {\n",
       "    white-space: pre;\n",
       "}\n",
       "\n",
       ".node_entry {\n",
       "    white-space: nowrap;\n",
       "    padding-top: 4px;\n",
       "}\n",
       "\n",
       ".t-caret {\n",
       "    cursor: pointer;\n",
       "    -webkit-user-select: none;\n",
       "    /* Safari 3.1+ */\n",
       "    -moz-user-select: none;\n",
       "    /* Firefox 2+ */\n",
       "    -ms-user-select: none;\n",
       "    /* IE 10+ */\n",
       "    user-select: none;\n",
       "}\n",
       "\n",
       ".t-caret-down::before {\n",
       "    -ms-transform: rotate(90deg);\n",
       "    /* IE 9 */\n",
       "    -webkit-transform: rotate(90deg);\n",
       "    /* Safari */\n",
       "    transform: rotate(90deg);\n",
       "}\n",
       "\n",
       ".toplevel {\n",
       "    list-style-type: none;\n",
       "    padding-inline-start: 0px;\n",
       "}\n",
       "\n",
       ".nested {\n",
       "    display: none;\n",
       "    list-style-type: none;\n",
       "    padding-inline-start: 16px;\n",
       "}\n",
       "\n",
       ".active {\n",
       "    display: block;\n",
       "}\n",
       "\n",
       ".icon {\n",
       "    width: 28px !important;\n",
       "    height: 22px !important;\n",
       "    padding-right: 2px;\n",
       "    vertical-align: middle;\n",
       "}\n",
       "\n",
       ".indent {\n",
       "    margin-left: 12px;\n",
       "}\n",
       "\n",
       ".tree_label {\n",
       "    padding-left: 2px;\n",
       "    font-size: 14px;\n",
       "}\n",
       "\n",
       ".scroll_down {\n",
       "    display: flex;\n",
       "    flex-direction: column-reverse;\n",
       "}\n",
       "\n",
       ".small_table {\n",
       "    line-height: 14px;\n",
       "}\n",
       "\n",
       ".monospace select {\n",
       "    font-family: monospace;\n",
       "}\n",
       "\n",
       "        .t-caret::before {\n",
       "            content: u\"▶\";\n",
       "            font-size: 12px;\n",
       "            color: \"#080808\";\n",
       "            display: inline-block;\n",
       "            margin-right: 2px;\n",
       "        }\n",
       "\n",
       "        .mac-scrollbar::-webkit-scrollbar-thumb {\n",
       "            background-color: rgba(0, 0, 0, 0.2) !important;\n",
       "            border-radius: 100px !important;\n",
       "        }\n",
       "\n",
       "        .mac-scrollbar::-webkit-scrollbar-thumb:hover {\n",
       "            background: rgba(0, 0, 0, 0.4) !important;\n",
       "        }\n",
       "\n",
       "        .mac-scrollbar::-webkit-scrollbar-thumb:active {\n",
       "            background: #181818 !important;\n",
       "        }\n",
       "\n",
       "        .mac-scrollbar::-webkit-scrollbar-corner {\n",
       "            background: white;\n",
       "        }\n",
       "\n",
       "        .view_output {\n",
       "            border: 1px solid var(--jp-border-color1);\n",
       "            margin: 2px 2px 2px 2px !important;\n",
       "            padding-right: 1px !important;\n",
       "            background-color: white;\n",
       "        }\n",
       "    </style>"
      ],
      "text/plain": [
       "<IPython.core.display.HTML object>"
      ]
     },
     "metadata": {},
     "output_type": "display_data"
    },
    {
     "data": {
      "application/vnd.jupyter.widget-view+json": {
       "model_id": "92864950af85457abdd9ab4e844ca0f8",
       "version_major": 2,
       "version_minor": 0
      },
      "text/plain": [
       "Checkbox(value=False, description='Enable Replay')"
      ]
     },
     "metadata": {},
     "output_type": "display_data"
    },
    {
     "data": {
      "application/vnd.jupyter.widget-view+json": {
       "model_id": "1e0ec32bc6ba4371af469517fd0d8577",
       "version_major": 2,
       "version_minor": 0
      },
      "text/plain": [
       "Output()"
      ]
     },
     "metadata": {},
     "output_type": "display_data"
    }
   ],
   "source": [
    "set_defaults(axes=True, grid=True, axes0=True, timeit=False, cad_width=640, height=800)\n",
    "\n",
    "set_sidecar(\"hotbed\", init=True)\n",
    "replay_box = widgets.Checkbox(False, description='Enable Replay')\n",
    "out = widgets.Output()\n",
    "display(replay_box)\n",
    "display(out)\n",
    "\n",
    "@out.capture()\n",
    "def changed(e):\n",
    "    if e[\"new\"]:\n",
    "        enable_replay(warning=False)\n",
    "    else:\n",
    "        disable_replay()\n",
    "\n",
    "replay_box.observe(changed, names='value')"
   ]
  },
  {
   "cell_type": "code",
   "execution_count": 3,
   "id": "2c018442-f49b-49e5-8790-eb7177568529",
   "metadata": {},
   "outputs": [],
   "source": [
    "y_offset1 = 42-20/2"
   ]
  },
  {
   "cell_type": "code",
   "execution_count": 4,
   "id": "f86eed11-512c-4302-a0e8-fd28a66cfa59",
   "metadata": {},
   "outputs": [],
   "source": [
    "m5_d = 5\n",
    "m5_head_h = 5\n",
    "m5_head_d = 8.5\n",
    "screw_spacing = 20\n",
    "screw_length_b = 40-6+2\n",
    "aluminum = 20\n",
    "\n",
    "thickness = 4\n",
    "\n",
    "height = aluminum+4+m5_head_h+8+thickness\n",
    "width = 6*2+screw_spacing"
   ]
  },
  {
   "cell_type": "code",
   "execution_count": 5,
   "id": "e486c3d2-6aca-4988-8597-cb8a097622ce",
   "metadata": {},
   "outputs": [
    {
     "name": "stdout",
     "output_type": "stream",
     "text": [
      "Replay is not enabled. To do so call 'enable_replay()'. Falling back to 'show()'\n",
      "Done, using side car 'Hotbed'\n"
     ]
    },
    {
     "name": "stderr",
     "output_type": "stream",
     "text": [
      "RuntimeWarning: cad_width has to be >= 640, setting to 640\n"
     ]
    },
    {
     "data": {
      "text/plain": [
       "<jupyter_cadquery.cad_display.CadqueryDisplay at 0x7f042fa57160>"
      ]
     },
     "execution_count": 5,
     "metadata": {},
     "output_type": "execute_result"
    }
   ],
   "source": [
    "clamp_a = (\n",
    "    cq.Workplane(\"XY\")\n",
    "    .box(width, m5_head_h+thickness, height)\n",
    "    .faces(\">Y\")\n",
    "    .edges(\"<Z\")\n",
    "    .workplane(centerOption=\"CenterOfMass\")\n",
    "    .center(0, aluminum/2)\n",
    "    .pushPoints([(-screw_spacing/2, 0), (screw_spacing/2, 0)])\n",
    "    .cboreHole(m5_d, m5_head_d, m5_head_h)\n",
    "    .edges(\"|X or |Y or |Z\")\n",
    "    .chamfer(1)\n",
    ")\n",
    "\n",
    "\n",
    "replay(clamp_a)"
   ]
  },
  {
   "cell_type": "code",
   "execution_count": 25,
   "id": "f48c41b6-396c-4708-a80c-ca23be3e46c7",
   "metadata": {},
   "outputs": [
    {
     "name": "stdout",
     "output_type": "stream",
     "text": [
      "Replay is not enabled. To do so call 'enable_replay()'. Falling back to 'show()'\n",
      "Done, using side car 'Hotbed'\n"
     ]
    },
    {
     "name": "stderr",
     "output_type": "stream",
     "text": [
      "RuntimeWarning: cad_width has to be >= 640, setting to 640\n"
     ]
    },
    {
     "data": {
      "text/plain": [
       "<jupyter_cadquery.cad_display.CadqueryDisplay at 0x7f042fa57160>"
      ]
     },
     "execution_count": 25,
     "metadata": {},
     "output_type": "execute_result"
    }
   ],
   "source": [
    "clamp_b = (\n",
    "    cq.Workplane(\"XY\")\n",
    "    .box(width, m5_head_h+thickness, height)\n",
    "    .faces(\">Y\")\n",
    "    .edges(\"<Z\")\n",
    "    .workplane(centerOption=\"CenterOfMass\")\n",
    "    .center(0, aluminum/2)\n",
    "    .rect(width, aluminum)\n",
    "    .extrude(-(m5_head_h+thickness+y_offset1))\n",
    "    .pushPoints([(-screw_spacing/2, 0), (screw_spacing/2, 0)])\n",
    "    .cboreHole(m5_d, m5_head_d, (m5_head_h+thickness+y_offset1)-screw_length_b)\n",
    "    .edges(\"|X or |Y or |Z\")\n",
    "    .chamfer(1)\n",
    ")\n",
    "\n",
    "replay(clamp_b)"
   ]
  },
  {
   "cell_type": "code",
   "execution_count": 38,
   "id": "9a68f75a-a429-4f99-be5a-13ed9f37b53e",
   "metadata": {},
   "outputs": [
    {
     "name": "stdout",
     "output_type": "stream",
     "text": [
      "Replay is not enabled. To do so call 'enable_replay()'. Falling back to 'show()'\n",
      "Done, using side car 'Hotbed'\n"
     ]
    },
    {
     "name": "stderr",
     "output_type": "stream",
     "text": [
      "RuntimeWarning: cad_width has to be >= 640, setting to 640\n"
     ]
    },
    {
     "data": {
      "text/plain": [
       "<jupyter_cadquery.cad_display.CadqueryDisplay at 0x7f042fa57160>"
      ]
     },
     "execution_count": 38,
     "metadata": {},
     "output_type": "execute_result"
    }
   ],
   "source": [
    "clamp_c_w = m5_head_h+thickness\n",
    "clamp_c_w2 = m5_d+thickness*2\n",
    "clamp_c = (\n",
    "    cq.Workplane(\"XY\")\n",
    "    .box(aluminum+clamp_c_w*2+20*2, clamp_c_w2, clamp_c_w)\n",
    "    .faces(\">Z\").workplane(centerOption=\"CenterOfMass\")\n",
    "    .pushPoints([(aluminum/2+20+clamp_c_w/2, 0), (-(aluminum/2+20+clamp_c_w/2), 0)])\n",
    "    .rect(clamp_c_w, clamp_c_w2)\n",
    "    .extrude(height)\n",
    "    .wires(\">Y or <Y or >Z or <Z\")\n",
    "    .chamfer(1)\n",
    "    .faces(\"<Z\").workplane(centerOption=\"CenterOfMass\")\n",
    "    .cboreHole(m5_d, m5_head_d, m5_head_h)\n",
    ")\n",
    "\n",
    "replay(clamp_c)"
   ]
  },
  {
   "cell_type": "code",
   "execution_count": 39,
   "id": "aa9fa136-929d-4fbd-ab58-a7043a880585",
   "metadata": {},
   "outputs": [
    {
     "name": "stdout",
     "output_type": "stream",
     "text": [
      "Done, using side car 'Hotbed'\n"
     ]
    }
   ],
   "source": [
    "show(clamp_a+clamp_b.translate((50, 0, 0))+clamp_c.translate((0, -50, 0)))\n",
    "exporters.export(clamp_a, '/tmp/clamp_a.stl')\n",
    "exporters.export(clamp_b, '/tmp/clamp_b.stl')\n",
    "exporters.export(clamp_c, '/tmp/clamp_c.stl')"
   ]
  },
  {
   "cell_type": "code",
   "execution_count": 9,
   "id": "d257a2cb-b92e-495f-96ac-6152660d2ea9",
   "metadata": {},
   "outputs": [
    {
     "name": "stdout",
     "output_type": "stream",
     "text": [
      "Replay is not enabled. To do so call 'enable_replay()'. Falling back to 'show()'\n",
      "Done, using side car 'Hotbed'\n"
     ]
    },
    {
     "name": "stderr",
     "output_type": "stream",
     "text": [
      "RuntimeWarning: cad_width has to be >= 640, setting to 640\n"
     ]
    }
   ],
   "source": [
    "x = cq.Workplane(\"XY\").sketch()\\\n",
    "    .regularPolygon(7.1/sqrt(3), 6)\\\n",
    "    .finalize()\\\n",
    "    .extrude(10)\n",
    "\n",
    "x = cq.Workplane(\"XY\").circle(15/2).extrude(10).cut(x)\n",
    "\n",
    "replay(x)\n",
    "exporters.export(x, '/tmp/x.stl')"
   ]
  },
  {
   "cell_type": "code",
   "execution_count": null,
   "id": "1e575951-92d0-4e67-853d-7a7faa0adf1f",
   "metadata": {},
   "outputs": [],
   "source": []
  }
 ],
 "metadata": {
  "kernelspec": {
   "display_name": "Python 3 (ipykernel)",
   "language": "python",
   "name": "python3"
  },
  "language_info": {
   "codemirror_mode": {
    "name": "ipython",
    "version": 3
   },
   "file_extension": ".py",
   "mimetype": "text/x-python",
   "name": "python",
   "nbconvert_exporter": "python",
   "pygments_lexer": "ipython3",
   "version": "3.8.5"
  }
 },
 "nbformat": 4,
 "nbformat_minor": 5
}
