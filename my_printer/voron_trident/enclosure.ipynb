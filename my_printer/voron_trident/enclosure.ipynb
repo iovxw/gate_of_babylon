{
 "cells": [
  {
   "cell_type": "code",
   "execution_count": 1,
   "id": "94126f25-2531-4dd6-a6ef-bbef139c4beb",
   "metadata": {
    "tags": []
   },
   "outputs": [
    {
     "name": "stdout",
     "output_type": "stream",
     "text": [
      "Overwriting auto display for cadquery Workplane and Shape\n"
     ]
    }
   ],
   "source": [
    "from math import radians, sin, sqrt\n",
    "\n",
    "import cadquery as cq\n",
    "import ipywidgets as widgets\n",
    "import jupyter_cadquery as jcq\n",
    "from jupyter_cadquery.replay import replay, show"
   ]
  },
  {
   "cell_type": "code",
   "execution_count": 2,
   "id": "7bd5457d-6649-4c4c-9c17-40a558840aa9",
   "metadata": {},
   "outputs": [
    {
     "data": {
      "application/vnd.jupyter.widget-view+json": {
       "model_id": "5ec01a94414b40cb81c32ba0be2d97bf",
       "version_major": 2,
       "version_minor": 0
      },
      "text/plain": [
       "Checkbox(value=False, description='Enable Replay')"
      ]
     },
     "metadata": {},
     "output_type": "display_data"
    },
    {
     "data": {
      "application/vnd.jupyter.widget-view+json": {
       "model_id": "cf46d7ee81b942b9be7fdd9c64f6380c",
       "version_major": 2,
       "version_minor": 0
      },
      "text/plain": [
       "Output()"
      ]
     },
     "metadata": {},
     "output_type": "display_data"
    }
   ],
   "source": [
    "jcq.set_defaults(\n",
    "    control=\"orbit\",\n",
    "    axes=True,\n",
    "    axes0=True,\n",
    "    grid=(True, False, False),\n",
    "    glass=True,\n",
    "    theme=\"browser\",\n",
    ")\n",
    "\n",
    "# open_viewer(\"Cadquery\")\n",
    "replay_box = widgets.Checkbox(False, description=\"Enable Replay\")\n",
    "out = widgets.Output()\n",
    "display(replay_box)\n",
    "display(out)\n",
    "\n",
    "\n",
    "@out.capture()\n",
    "def changed(e):\n",
    "    if e[\"new\"]:\n",
    "        jcq.replay.enable_replay(warning=False)\n",
    "    else:\n",
    "        jcq.replay.disable_replay()\n",
    "\n",
    "\n",
    "replay_box.observe(changed, names=\"value\")"
   ]
  },
  {
   "cell_type": "code",
   "execution_count": 3,
   "id": "4451d548-0e68-4ead-a29e-2a0ff448d0df",
   "metadata": {},
   "outputs": [],
   "source": [
    "# 45, 22\n",
    "tolerance = 0.5\n",
    "extrusions_w = 20\n",
    "tape_w = 10\n",
    "w = extrusions_w + tape_w\n",
    "min_thickness = 1.0\n",
    "safe_distance = 2.0\n",
    "screw_d = 5\n",
    "screw_head_d = 9 + tolerance"
   ]
  },
  {
   "cell_type": "code",
   "execution_count": 4,
   "id": "08fd5732-79c6-4e60-b5ca-1204e9729349",
   "metadata": {
    "tags": []
   },
   "outputs": [
    {
     "name": "stdout",
     "output_type": "stream",
     "text": [
      "Replay is not enabled. To do so call 'enable_replay()'. Falling back to 'show()'\n"
     ]
    },
    {
     "name": "stderr",
     "output_type": "stream",
     "text": [
      "RuntimeWarning: cad_width has to be >= 640, setting to 640\n"
     ]
    },
    {
     "data": {
      "application/vnd.jupyter.widget-view+json": {
       "model_id": "6024e5bde8a74210bae60852f0b98727",
       "version_major": 2,
       "version_minor": 0
      },
      "text/plain": [
       "CadViewerWidget(anchor=None, cad_width=640, glass=True, height=600, pinning=False, theme='browser', title=None…"
      ]
     },
     "metadata": {},
     "output_type": "display_data"
    },
    {
     "data": {
      "text/html": [
       "<div></div>"
      ],
      "text/plain": [
       "<IPython.core.display.HTML object>"
      ]
     },
     "metadata": {},
     "output_type": "display_data"
    },
    {
     "data": {
      "text/plain": [
       "<cad_viewer_widget.widget.CadViewer at 0x7fe4a2b259c0>"
      ]
     },
     "execution_count": 4,
     "metadata": {},
     "output_type": "execute_result"
    }
   ],
   "source": [
    "def make_mount():\n",
    "    x = extrusions_w / 2 - screw_d / 2\n",
    "    mount = (\n",
    "        cq.Workplane(\"XY\")\n",
    "        .box(extrusions_w, extrusions_w, min_thickness + safe_distance)\n",
    "        .faces(\">Z\")\n",
    "        .workplane()\n",
    "        .hole(screw_d)\n",
    "        .pushPoints([(-x, 0), (x, 0)])\n",
    "        .rect(screw_d, screw_d)\n",
    "        .extrude(3)\n",
    "    )\n",
    "    return mount\n",
    "\n",
    "\n",
    "replay(make_mount())"
   ]
  },
  {
   "cell_type": "code",
   "execution_count": 5,
   "id": "a6abd3b4-7e44-491a-b1ef-e050d81cf7a1",
   "metadata": {
    "jupyter": {
     "source_hidden": true
    },
    "tags": []
   },
   "outputs": [
    {
     "name": "stdout",
     "output_type": "stream",
     "text": [
      "Replay is not enabled. To do so call 'enable_replay()'. Falling back to 'show()'\n"
     ]
    },
    {
     "name": "stderr",
     "output_type": "stream",
     "text": [
      "RuntimeWarning: cad_width has to be >= 640, setting to 640\n"
     ]
    },
    {
     "data": {
      "application/vnd.jupyter.widget-view+json": {
       "model_id": "7164ee6fcfe243d78ecf21f0e8728b69",
       "version_major": 2,
       "version_minor": 0
      },
      "text/plain": [
       "CadViewerWidget(anchor=None, cad_width=640, glass=True, height=600, pinning=False, theme='browser', title=None…"
      ]
     },
     "metadata": {},
     "output_type": "display_data"
    },
    {
     "data": {
      "text/html": [
       "<div></div>"
      ],
      "text/plain": [
       "<IPython.core.display.HTML object>"
      ]
     },
     "metadata": {},
     "output_type": "display_data"
    },
    {
     "data": {
      "text/plain": [
       "<cad_viewer_widget.widget.CadViewer at 0x7fe4a2b27e20>"
      ]
     },
     "execution_count": 5,
     "metadata": {},
     "output_type": "execute_result"
    }
   ],
   "source": [
    "def make_tape(l, w):\n",
    "    r = (\n",
    "        cq.Workplane(\"XY\")\n",
    "        .box(l, w, min_thickness)\n",
    "        .vertices(\"<X and <Y and >Z\")\n",
    "        .workplane(centerOption=\"CenterOfMass\")\n",
    "        .rect(l, 0.5, centered=False)\n",
    "        .extrude(safe_distance)\n",
    "    )\n",
    "    return r\n",
    "\n",
    "\n",
    "replay(make_tape(50, 10))"
   ]
  },
  {
   "cell_type": "code",
   "execution_count": 6,
   "id": "6df20046-59f4-402b-9b71-f6130fee6b33",
   "metadata": {
    "jupyter": {
     "source_hidden": true
    },
    "tags": []
   },
   "outputs": [
    {
     "name": "stdout",
     "output_type": "stream",
     "text": [
      "\n",
      "******************************************************************************\n",
      "This program contains Ipopt, a library for large-scale nonlinear optimization.\n",
      " Ipopt is released as open source code under the Eclipse Public License (EPL).\n",
      "         For more information visit https://github.com/coin-or/Ipopt\n",
      "******************************************************************************\n",
      "\n",
      "This is Ipopt version 3.14.4, running with linear solver MUMPS 5.4.1.\n",
      "\n",
      "Number of nonzeros in equality constraint Jacobian...:        0\n",
      "Number of nonzeros in inequality constraint Jacobian.:        0\n",
      "Number of nonzeros in Lagrangian Hessian.............:       18\n",
      "\n",
      "Total number of variables............................:        6\n",
      "                     variables with only lower bounds:        0\n",
      "                variables with lower and upper bounds:        0\n",
      "                     variables with only upper bounds:        0\n",
      "Total number of equality constraints.................:        0\n",
      "Total number of inequality constraints...............:        0\n",
      "        inequality constraints with only lower bounds:        0\n",
      "   inequality constraints with lower and upper bounds:        0\n",
      "        inequality constraints with only upper bounds:        0\n",
      "\n",
      "iter    objective    inf_pr   inf_du lg(mu)  ||d||  lg(rg) alpha_du alpha_pr  ls\n",
      "   0  8.2976338e-02 0.00e+00 6.00e-01  -1.0 0.00e+00    -  0.00e+00 0.00e+00   0\n",
      "   1  2.0262888e-06 0.00e+00 9.43e-03  -1.7 2.77e-01    -  1.00e+00 1.00e+00f  1\n",
      "   2  5.9384386e-15 0.00e+00 1.50e-07  -3.8 2.83e-04    -  1.00e+00 1.00e+00f  1\n",
      "   3  7.6975477e-18 0.00e+00 8.02e-16  -8.6 7.51e-08    -  1.00e+00 1.00e+00f  1\n",
      "\n",
      "Number of Iterations....: 3\n",
      "\n",
      "                                   (scaled)                 (unscaled)\n",
      "Objective...............:   7.6975476839237181e-18    7.6975476839237181e-18\n",
      "Dual infeasibility......:   8.0178700133812593e-16    8.0178700133812593e-16\n",
      "Constraint violation....:   0.0000000000000000e+00    0.0000000000000000e+00\n",
      "Variable bound violation:   0.0000000000000000e+00    0.0000000000000000e+00\n",
      "Complementarity.........:   0.0000000000000000e+00    0.0000000000000000e+00\n",
      "Overall NLP error.......:   8.0178700133812593e-16    8.0178700133812593e-16\n",
      "\n",
      "\n",
      "Number of objective function evaluations             = 4\n",
      "Number of objective gradient evaluations             = 4\n",
      "Number of equality constraint evaluations            = 0\n",
      "Number of inequality constraint evaluations          = 0\n",
      "Number of equality constraint Jacobian evaluations   = 0\n",
      "Number of inequality constraint Jacobian evaluations = 0\n",
      "Number of Lagrangian Hessian evaluations             = 3\n",
      "Total seconds in IPOPT                               = 0.014\n",
      "\n",
      "EXIT: Optimal Solution Found.\n",
      "100% ⋮————————————————————————————————————————————————————————————⋮ (2/2)  0.01s\n"
     ]
    },
    {
     "data": {
      "application/vnd.jupyter.widget-view+json": {
       "model_id": "ed7c5cc126e74a7a8b6ba0b6ce6408bd",
       "version_major": 2,
       "version_minor": 0
      },
      "text/plain": [
       "CadViewerWidget(anchor=None, cad_width=800, glass=True, height=600, pinning=False, theme='browser', title=None…"
      ]
     },
     "metadata": {},
     "output_type": "display_data"
    },
    {
     "data": {
      "text/html": [
       "<div></div>"
      ],
      "text/plain": [
       "<IPython.core.display.HTML object>"
      ]
     },
     "metadata": {},
     "output_type": "display_data"
    },
    {
     "data": {
      "text/plain": [
       "<cad_viewer_widget.widget.CadViewer at 0x7fe4a2b74580>"
      ]
     },
     "execution_count": 6,
     "metadata": {},
     "output_type": "execute_result"
    }
   ],
   "source": [
    "r = (\n",
    "    cq.Assembly()\n",
    "    .add(make_mount(), name=\"mount\")\n",
    "    .add(make_tape(50, 10), name=\"tape\", color=cq.Color(\"green\"))\n",
    ")\n",
    "r.constrain(\"mount@faces@|Z\", \"tape@faces@|Z\", \"Axis\", param=0)\n",
    "r.constrain(\"mount@faces@|Y\", \"tape@faces@|Y\", \"Axis\", param=0)\n",
    "r.constrain(\"mount@edges@>Y and <Z\", \"tape@edges@<Z and <Y\", \"Point\")\n",
    "r.solve()\n",
    "show(r)"
   ]
  },
  {
   "cell_type": "code",
   "execution_count": 25,
   "id": "2cebe264-cc88-4622-ab41-f162c83c7409",
   "metadata": {},
   "outputs": [
    {
     "name": "stdout",
     "output_type": "stream",
     "text": [
      "Use the multi select box below to select one or more steps you want to examine\n"
     ]
    },
    {
     "data": {
      "application/vnd.jupyter.widget-view+json": {
       "model_id": "2689bdfc66ef47d6b48ad017e57d9693",
       "version_major": 2,
       "version_minor": 0
      },
      "text/plain": [
       "HBox(children=(SelectMultiple(_dom_classes=('monospace',), index=(30,), layout=Layout(width='600px'), options=…"
      ]
     },
     "metadata": {},
     "output_type": "display_data"
    },
    {
     "data": {
      "text/plain": [
       "<jupyter_cadquery.replay.Replay at 0x7fe469238580>"
      ]
     },
     "execution_count": 25,
     "metadata": {},
     "output_type": "execute_result"
    }
   ],
   "source": [
    "def make_t_connector_cover(base_only=False):\n",
    "    l1 = 60 + tolerance * 2\n",
    "    l2 = extrusions_w - 1 * 2\n",
    "    l3 = extrusions_w - 1\n",
    "    t1 = 2\n",
    "    t2 = 3\n",
    "    ext = 7  # .5\n",
    "    hole_pos = l1 / 2 + extrusions_w / 2 + ext / 2\n",
    "    half_points = [\n",
    "        (l2 / 2, min_thickness + t1 + t2),\n",
    "        (l1 / 2 + extrusions_w + ext - 0.0001, min_thickness + safe_distance),\n",
    "        (l1 / 2 + extrusions_w + ext, min_thickness + safe_distance),\n",
    "    ]\n",
    "    curve = list(reversed(half_points)) + list(\n",
    "        map(lambda x: (x[0] * -1, x[1]), half_points)\n",
    "    )\n",
    "    side_wire = (\n",
    "        cq.Workplane(\"XZ\")\n",
    "        .spline(curve)\n",
    "        .line(0, -min_thickness - safe_distance)\n",
    "        .lineTo(l1 / 2 + extrusions_w + ext, 0)\n",
    "        .close()\n",
    "    )\n",
    "    r = (\n",
    "        side_wire.extrude(extrusions_w + tape_w)\n",
    "        .faces(\"<Z\")\n",
    "        .vertices(\"<X and<Y\")\n",
    "        .workplane(centerOption=\"CenterOfMass\", invert=True)\n",
    "        .rect(l1 + extrusions_w * 2 + ext * 2, tape_w, centered=False)\n",
    "        .cutBlind(safe_distance)\n",
    "        .faces(\"<Z\")\n",
    "        .workplane(centerOption=\"CenterOfMass\", offset=-(min_thickness + safe_distance))\n",
    "        .pushPoints([(-hole_pos, 0), (hole_pos, 0)])\n",
    "        .hole(screw_head_d)\n",
    "        .faces(\"<Z\")\n",
    "        .workplane()\n",
    "        .pushPoints([(-hole_pos, 0), (hole_pos, 0)])\n",
    "        .hole(screw_d)\n",
    "    )\n",
    "    if not base_only:\n",
    "        r = (\n",
    "            r.faces(\"<Z\")\n",
    "            .edges(\">Y\")\n",
    "            .workplane(centerOption=\"CenterOfMass\")\n",
    "            .rect(l2, extrusions_w + tape_w, centered=(True, False))\n",
    "            .cutBlind(-t1)\n",
    "            .workplane()\n",
    "            .rect(l1, l3, centered=(True, False))\n",
    "            .cutThruAll()\n",
    "            .faces(\">Z[1]\")\n",
    "            .edges(\"<Y\")\n",
    "            .workplane(centerOption=\"CenterOfMass\", invert=True)\n",
    "            .rect(tape_w, tape_w, centered=(True, False))\n",
    "            .cutBlind(t2)\n",
    "        )\n",
    "    return r\n",
    "\n",
    "\n",
    "replay(make_t_connector_cover())"
   ]
  },
  {
   "cell_type": "code",
   "execution_count": 26,
   "id": "bfedc1c1-b5ce-4457-a0f3-d22c89dcf4d3",
   "metadata": {},
   "outputs": [
    {
     "name": "stdout",
     "output_type": "stream",
     "text": [
      "Use the multi select box below to select one or more steps you want to examine\n"
     ]
    },
    {
     "data": {
      "application/vnd.jupyter.widget-view+json": {
       "model_id": "bec476be0a5149eb942f3c782bbbf247",
       "version_major": 2,
       "version_minor": 0
      },
      "text/plain": [
       "HBox(children=(SelectMultiple(_dom_classes=('monospace',), index=(22,), layout=Layout(width='600px'), options=…"
      ]
     },
     "metadata": {},
     "output_type": "display_data"
    },
    {
     "data": {
      "text/plain": [
       "<jupyter_cadquery.replay.Replay at 0x7fe469233970>"
      ]
     },
     "execution_count": 26,
     "metadata": {},
     "output_type": "execute_result"
    }
   ],
   "source": [
    "ptfe_tube_mount = make_t_connector_cover(base_only=True).faces(\">Y\").edges(\"<Z\").workplane(centerOption=\"CenterOfMass\").center(0, 4/2+1).hole(4)\n",
    "\n",
    "replay(ptfe_tube_mount)"
   ]
  },
  {
   "cell_type": "code",
   "execution_count": 9,
   "id": "721e8bc0-08f7-4079-867e-ed476bcf4f4d",
   "metadata": {},
   "outputs": [
    {
     "name": "stdout",
     "output_type": "stream",
     "text": [
      "Replay is not enabled. To do so call 'enable_replay()'. Falling back to 'show()'\n"
     ]
    },
    {
     "name": "stderr",
     "output_type": "stream",
     "text": [
      "RuntimeWarning: cad_width has to be >= 640, setting to 640\n"
     ]
    },
    {
     "data": {
      "application/vnd.jupyter.widget-view+json": {
       "model_id": "9ea4d61d1938400a987dd526b2bf4353",
       "version_major": 2,
       "version_minor": 0
      },
      "text/plain": [
       "CadViewerWidget(anchor=None, cad_width=640, glass=True, height=600, pinning=False, theme='browser', title=None…"
      ]
     },
     "metadata": {},
     "output_type": "display_data"
    },
    {
     "data": {
      "text/html": [
       "<div></div>"
      ],
      "text/plain": [
       "<IPython.core.display.HTML object>"
      ]
     },
     "metadata": {},
     "output_type": "display_data"
    },
    {
     "data": {
      "text/plain": [
       "<cad_viewer_widget.widget.CadViewer at 0x7fe4a2b76590>"
      ]
     },
     "execution_count": 9,
     "metadata": {},
     "output_type": "execute_result"
    }
   ],
   "source": [
    "def make_base(l):\n",
    "    r = (\n",
    "        cq.Workplane(\"XY\")\n",
    "        .rect(w, l, centered=False)\n",
    "        .extrude(min_thickness)\n",
    "        .faces(\">Z\")\n",
    "        .vertices(\"<X and <Y\")\n",
    "        .rect(extrusions_w, l, centered=False)\n",
    "        .extrude(safe_distance)\n",
    "    )\n",
    "    return r\n",
    "\n",
    "\n",
    "replay(make_base(50))"
   ]
  },
  {
   "cell_type": "code",
   "execution_count": 10,
   "id": "801cc436-a5a5-41da-90ee-f36a07b0a962",
   "metadata": {},
   "outputs": [
    {
     "name": "stdout",
     "output_type": "stream",
     "text": [
      "Replay is not enabled. To do so call 'enable_replay()'. Falling back to 'show()'\n"
     ]
    },
    {
     "name": "stderr",
     "output_type": "stream",
     "text": [
      "RuntimeWarning: cad_width has to be >= 640, setting to 640\n"
     ]
    },
    {
     "data": {
      "application/vnd.jupyter.widget-view+json": {
       "model_id": "a4b57cd36fd24f1da666f8bfc3457d9f",
       "version_major": 2,
       "version_minor": 0
      },
      "text/plain": [
       "CadViewerWidget(anchor=None, cad_width=640, glass=True, height=600, pinning=False, theme='browser', title=None…"
      ]
     },
     "metadata": {},
     "output_type": "display_data"
    },
    {
     "data": {
      "text/html": [
       "<div></div>"
      ],
      "text/plain": [
       "<IPython.core.display.HTML object>"
      ]
     },
     "metadata": {},
     "output_type": "display_data"
    },
    {
     "data": {
      "text/plain": [
       "<cad_viewer_widget.widget.CadViewer at 0x7fe4a2bce8f0>"
      ]
     },
     "execution_count": 10,
     "metadata": {},
     "output_type": "execute_result"
    }
   ],
   "source": [
    "def normal(l=50, holes=1):\n",
    "    if holes == 1:\n",
    "        return (\n",
    "            make_base(l)\n",
    "            .faces(\">Z\")\n",
    "            .workplane(centerOption=\"CenterOfBoundBox\")\n",
    "            .hole(screw_d)\n",
    "            .faces(\">Z\")\n",
    "            .workplane(centerOption=\"CenterOfBoundBox\")\n",
    "            .pushPoints([(0, l / 2 - screw_d / 2 - 1), (0, -l / 2 + screw_d / 2 + 1)])\n",
    "            .circle(screw_d / 2)\n",
    "            .extrude(3)\n",
    "        )\n",
    "    else:\n",
    "        pos = [(l - extrusions_w) / (holes - 1) * i for i in range(holes)]\n",
    "        pos = [(0, n - l / 2 + extrusions_w / 2) for n in pos]\n",
    "        print(pos)\n",
    "        return (\n",
    "            make_base(l)\n",
    "            .faces(\">Z\")\n",
    "            .workplane(centerOption=\"CenterOfBoundBox\")\n",
    "            .pushPoints(pos)\n",
    "            .hole(screw_d)\n",
    "        )\n",
    "\n",
    "\n",
    "replay(normal())"
   ]
  },
  {
   "cell_type": "code",
   "execution_count": 11,
   "id": "c5cb6dac-396b-4a23-ac05-b1a0dd92b286",
   "metadata": {},
   "outputs": [
    {
     "name": "stdout",
     "output_type": "stream",
     "text": [
      "[(0, -40.0), (0, 0.0), (0, 40.0)]\n",
      "Replay is not enabled. To do so call 'enable_replay()'. Falling back to 'show()'\n"
     ]
    },
    {
     "name": "stderr",
     "output_type": "stream",
     "text": [
      "RuntimeWarning: cad_width has to be >= 640, setting to 640\n"
     ]
    },
    {
     "data": {
      "application/vnd.jupyter.widget-view+json": {
       "model_id": "28bcbf6fd0a348579626d9c30de79900",
       "version_major": 2,
       "version_minor": 0
      },
      "text/plain": [
       "CadViewerWidget(anchor=None, cad_width=640, glass=True, height=600, pinning=False, theme='browser', title=None…"
      ]
     },
     "metadata": {},
     "output_type": "display_data"
    },
    {
     "data": {
      "text/html": [
       "<div></div>"
      ],
      "text/plain": [
       "<IPython.core.display.HTML object>"
      ]
     },
     "metadata": {},
     "output_type": "display_data"
    },
    {
     "data": {
      "text/plain": [
       "<cad_viewer_widget.widget.CadViewer at 0x7fe4a2cfb790>"
      ]
     },
     "execution_count": 11,
     "metadata": {},
     "output_type": "execute_result"
    }
   ],
   "source": [
    "replay(normal(l=100, holes=3))"
   ]
  },
  {
   "cell_type": "code",
   "execution_count": 12,
   "id": "b15a6c86-e1f2-48d7-9e94-e8593d6714c1",
   "metadata": {},
   "outputs": [
    {
     "name": "stdout",
     "output_type": "stream",
     "text": [
      "Replay is not enabled. To do so call 'enable_replay()'. Falling back to 'show()'\n"
     ]
    },
    {
     "name": "stderr",
     "output_type": "stream",
     "text": [
      "RuntimeWarning: cad_width has to be >= 640, setting to 640\n"
     ]
    },
    {
     "data": {
      "application/vnd.jupyter.widget-view+json": {
       "model_id": "de97e4ece3a540969e8278fdb81d2200",
       "version_major": 2,
       "version_minor": 0
      },
      "text/plain": [
       "CadViewerWidget(anchor=None, cad_width=640, glass=True, height=600, pinning=False, theme='browser', title=None…"
      ]
     },
     "metadata": {},
     "output_type": "display_data"
    },
    {
     "data": {
      "text/html": [
       "<div></div>"
      ],
      "text/plain": [
       "<IPython.core.display.HTML object>"
      ]
     },
     "metadata": {},
     "output_type": "display_data"
    },
    {
     "data": {
      "text/plain": [
       "<cad_viewer_widget.widget.CadViewer at 0x7fe4a2c0d960>"
      ]
     },
     "execution_count": 12,
     "metadata": {},
     "output_type": "execute_result"
    }
   ],
   "source": [
    "def corner(l1=60 + 2 + tolerance, l2=60 + 2 + tolerance, ext=extrusions_w):\n",
    "    l_a = l1 + ext\n",
    "    l_b = l2 + ext\n",
    "    a = (\n",
    "        make_base(l_a)\n",
    "        .faces(\">Z\")\n",
    "        .workplane(centerOption=\"CenterOfBoundBox\")\n",
    "        .pushPoints([(0, l_a / 2 - ext / 2)])\n",
    "        .hole(screw_d)\n",
    "    )\n",
    "    b = (\n",
    "        make_base(l_b)\n",
    "        .faces(\">Z\")\n",
    "        .workplane(centerOption=\"CenterOfBoundBox\")\n",
    "        .pushPoints([(0, -(l_b / 2 - ext / 2))])\n",
    "        .hole(screw_d)\n",
    "        .rotate((0, 0, 0), (0, 0, 1), 90)\n",
    "        .translate((l_b, 0))\n",
    "    )\n",
    "    r = (\n",
    "        cq.Workplane(\"XY\")\n",
    "        .add(a)\n",
    "        .add(b)\n",
    "        .faces(\">Z\")\n",
    "        .workplane()\n",
    "        .rect(extrusions_w - 1, l1, centered=False)\n",
    "        .cutBlind(-99)\n",
    "        .workplane()\n",
    "        .rect(l2, extrusions_w - 1, centered=False)\n",
    "        .cutThruAll()\n",
    "    )\n",
    "    return r\n",
    "\n",
    "\n",
    "replay(corner())"
   ]
  },
  {
   "cell_type": "code",
   "execution_count": 27,
   "id": "aa9fa136-929d-4fbd-ab58-a7043a880585",
   "metadata": {},
   "outputs": [
    {
     "name": "stdout",
     "output_type": "stream",
     "text": [
      "[(0, -162.5), (0, -81.25), (0, 0.0), (0, 81.25), (0, 162.5)]\n",
      "[(0, -61.0), (0, 0.0), (0, 61.0)]\n",
      "[(0, -47.5), (0, 47.5)]\n"
     ]
    }
   ],
   "source": [
    "cq.exporters.export(make_t_connector_cover(), \"/tmp/a.stl\")\n",
    "cq.exporters.export(corner(), \"/tmp/b.stl\")\n",
    "cq.exporters.export(normal(345, holes=5), \"/tmp/c.stl\")\n",
    "cq.exporters.export(normal(142, holes=3), \"/tmp/c142.stl\")\n",
    "cq.exporters.export(normal(115, holes=2), \"/tmp/c115.stl\")\n",
    "cq.exporters.export(normal(26.5, holes=1), \"/tmp/d.stl\")\n",
    "cq.exporters.export(ptfe_tube_mount, \"/tmp/e.stl\")"
   ]
  },
  {
   "cell_type": "code",
   "execution_count": null,
   "id": "6c20ba13-12cc-4374-8dc0-fd5a46cb6a58",
   "metadata": {},
   "outputs": [],
   "source": []
  }
 ],
 "metadata": {
  "kernelspec": {
   "display_name": "Python 3 (ipykernel)",
   "language": "python",
   "name": "python3"
  },
  "language_info": {
   "codemirror_mode": {
    "name": "ipython",
    "version": 3
   },
   "file_extension": ".py",
   "mimetype": "text/x-python",
   "name": "python",
   "nbconvert_exporter": "python",
   "pygments_lexer": "ipython3",
   "version": "3.10.6"
  }
 },
 "nbformat": 4,
 "nbformat_minor": 5
}
