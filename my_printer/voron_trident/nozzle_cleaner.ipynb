{
 "cells": [
  {
   "cell_type": "code",
   "execution_count": 1,
   "id": "94126f25-2531-4dd6-a6ef-bbef139c4beb",
   "metadata": {
    "tags": []
   },
   "outputs": [
    {
     "name": "stdout",
     "output_type": "stream",
     "text": [
      "Overwriting auto display for cadquery Workplane and Shape\n"
     ]
    }
   ],
   "source": [
    "from math import radians, sin, sqrt\n",
    "\n",
    "import cadquery as cq\n",
    "import ipywidgets as widgets\n",
    "import jupyter_cadquery as jcq\n",
    "from jupyter_cadquery.replay import replay, show"
   ]
  },
  {
   "cell_type": "code",
   "execution_count": 2,
   "id": "7bd5457d-6649-4c4c-9c17-40a558840aa9",
   "metadata": {},
   "outputs": [
    {
     "data": {
      "application/vnd.jupyter.widget-view+json": {
       "model_id": "c6484c95b21f43bd8ccd77a7fd190c30",
       "version_major": 2,
       "version_minor": 0
      },
      "text/plain": [
       "Checkbox(value=False, description='Enable Replay')"
      ]
     },
     "metadata": {},
     "output_type": "display_data"
    },
    {
     "data": {
      "application/vnd.jupyter.widget-view+json": {
       "model_id": "a38bc1286a6f4be6957cee1aebb0f6e0",
       "version_major": 2,
       "version_minor": 0
      },
      "text/plain": [
       "Output()"
      ]
     },
     "metadata": {},
     "output_type": "display_data"
    }
   ],
   "source": [
    "jcq.set_defaults(\n",
    "    control=\"orbit\",\n",
    "    axes=True,\n",
    "    axes0=True,\n",
    "    grid=(True, False, False),\n",
    "    glass=True,\n",
    "    theme=\"browser\",\n",
    ")\n",
    "\n",
    "# open_viewer(\"Cadquery\")\n",
    "replay_box = widgets.Checkbox(False, description=\"Enable Replay\")\n",
    "out = widgets.Output()\n",
    "display(replay_box)\n",
    "display(out)\n",
    "\n",
    "\n",
    "@out.capture()\n",
    "def changed(e):\n",
    "    if e[\"new\"]:\n",
    "        jcq.replay.enable_replay(warning=False)\n",
    "    else:\n",
    "        jcq.replay.disable_replay()\n",
    "\n",
    "\n",
    "replay_box.observe(changed, names=\"value\")"
   ]
  },
  {
   "cell_type": "code",
   "execution_count": 3,
   "id": "4451d548-0e68-4ead-a29e-2a0ff448d0df",
   "metadata": {
    "tags": []
   },
   "outputs": [],
   "source": [
    "# 45, 22\n",
    "extrusions_w = 20\n",
    "nozzle_z_distance = 40\n",
    "width = 40\n",
    "screw_d = 5\n",
    "screw_head_d = 9\n",
    "screw2_d = 3 - 0.5\n",
    "screw2_head_d = 6\n",
    "screw2_head_h = 3\n",
    "steel_wire_d = 0.7 + 0.1\n",
    "thickness = 4\n",
    "min_thickness = 2"
   ]
  },
  {
   "cell_type": "code",
   "execution_count": 58,
   "id": "8c5fa914-9649-4707-8cef-7cb24b0c354f",
   "metadata": {},
   "outputs": [
    {
     "name": "stdout",
     "output_type": "stream",
     "text": [
      "Use the multi select box below to select one or more steps you want to examine\n"
     ]
    },
    {
     "data": {
      "application/vnd.jupyter.widget-view+json": {
       "model_id": "1928eb35fed24c668bf9190ec99a6c09",
       "version_major": 2,
       "version_minor": 0
      },
      "text/plain": [
       "HBox(children=(SelectMultiple(_dom_classes=('monospace',), index=(2,), layout=Layout(width='600px'), options=(…"
      ]
     },
     "metadata": {},
     "output_type": "display_data"
    }
   ],
   "source": [
    "# 6 7 35\n",
    "\n",
    "logo = (\n",
    "    cq.importers.importDXF(\"voron_logo.dxf\").wires().toPending().extrude(100)\n",
    ")\n",
    "replay(logo)\n",
    "cq.exporters.export(logo, \"/tmp/logo.stl\")"
   ]
  },
  {
   "cell_type": "code",
   "execution_count": 59,
   "id": "cf50de16-c22a-463e-91a4-1db117a0d93b",
   "metadata": {},
   "outputs": [
    {
     "name": "stdout",
     "output_type": "stream",
     "text": [
      "Use the multi select box below to select one or more steps you want to examine\n"
     ]
    },
    {
     "data": {
      "application/vnd.jupyter.widget-view+json": {
       "model_id": "b4e7f515ea454033b2a3706e19a63fb3",
       "version_major": 2,
       "version_minor": 0
      },
      "text/plain": [
       "HBox(children=(SelectMultiple(_dom_classes=('monospace',), index=(15,), layout=Layout(width='600px'), options=…"
      ]
     },
     "metadata": {},
     "output_type": "display_data"
    },
    {
     "data": {
      "text/plain": [
       "<jupyter_cadquery.replay.Replay at 0x7f7fb11ffe80>"
      ]
     },
     "execution_count": 59,
     "metadata": {},
     "output_type": "execute_result"
    }
   ],
   "source": [
    "guide_height = min_thickness * 2 + screw2_head_d\n",
    "height = extrusions_w + nozzle_z_distance + guide_height / 2\n",
    "screw1_z = height / 2 - extrusions_w / 2\n",
    "screw1_x = width / 2 - screw_head_d / 2 - thickness\n",
    "screw1_pos = [(screw1_x, screw1_z), (-screw1_x, screw1_z)]\n",
    "guide_pos = -height / 2 + guide_height / 2\n",
    "screw2_x_pos = width / 2 - guide_height / 2\n",
    "steel_hole_x_pos = screw2_x_pos + screw2_head_d / 2\n",
    "\n",
    "r = (\n",
    "    cq.Workplane(\"XY\")\n",
    "    .box(width, thickness, height)\n",
    "    .faces(\">Y\")\n",
    "    .workplane()\n",
    "    .pushPoints([(0, guide_pos)])\n",
    "    .rect(width, guide_height)\n",
    "    .extrude(10)\n",
    "    .chamfer(1)\n",
    "    .faces(\"<Y\")\n",
    "    .pushPoints(screw1_pos)\n",
    "    .hole(screw_d)\n",
    "    .faces(\">Y\")\n",
    "    .workplane(centerOption=\"CenterOfMass\")\n",
    "    .pushPoints([(-screw2_x_pos, 0), (screw2_x_pos, 0)])\n",
    "    .cboreHole(screw2_d, screw2_head_d, screw2_head_h)\n",
    "    .pushPoints([(-steel_hole_x_pos, 0), (steel_hole_x_pos, 0)])\n",
    "    .hole(steel_wire_d)\n",
    ")\n",
    "\n",
    "replay(r)"
   ]
  },
  {
   "cell_type": "code",
   "execution_count": 6,
   "id": "aa9fa136-929d-4fbd-ab58-a7043a880585",
   "metadata": {},
   "outputs": [],
   "source": [
    "cq.exporters.export(r, \"/tmp/x.stl\")"
   ]
  },
  {
   "cell_type": "code",
   "execution_count": null,
   "id": "6c20ba13-12cc-4374-8dc0-fd5a46cb6a58",
   "metadata": {},
   "outputs": [],
   "source": []
  }
 ],
 "metadata": {
  "kernelspec": {
   "display_name": "Python 3 (ipykernel)",
   "language": "python",
   "name": "python3"
  },
  "language_info": {
   "codemirror_mode": {
    "name": "ipython",
    "version": 3
   },
   "file_extension": ".py",
   "mimetype": "text/x-python",
   "name": "python",
   "nbconvert_exporter": "python",
   "pygments_lexer": "ipython3",
   "version": "3.10.5"
  }
 },
 "nbformat": 4,
 "nbformat_minor": 5
}
