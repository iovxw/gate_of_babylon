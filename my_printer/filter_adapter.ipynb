{
 "cells": [
  {
   "cell_type": "code",
   "execution_count": 1,
   "id": "3b3c2af9-17aa-49c7-b004-aa2de1e424bf",
   "metadata": {
    "tags": []
   },
   "outputs": [
    {
     "name": "stdout",
     "output_type": "stream",
     "text": [
      "Overwriting auto display for cadquery Workplane and Shape\n"
     ]
    }
   ],
   "source": [
    "from math import sin, radians, sqrt\n",
    "\n",
    "import cadquery as cq\n",
    "from cadquery import exporters\n",
    "from jupyter_cadquery.replay import (replay, enable_replay, disable_replay, reset_replay)\n",
    "from jupyter_cadquery import show, set_sidecar, set_defaults, open_viewer\n",
    "\n",
    "import ipywidgets as widgets"
   ]
  },
  {
   "cell_type": "code",
   "execution_count": 2,
   "id": "52d97f87-1294-4c93-8f3f-082d8a4c2835",
   "metadata": {},
   "outputs": [
    {
     "data": {
      "application/vnd.jupyter.widget-view+json": {
       "model_id": "017c2e92390a47648dd77d21f2bfabb2",
       "version_major": 2,
       "version_minor": 0
      },
      "text/plain": [
       "Checkbox(value=False, description='Enable Replay')"
      ]
     },
     "metadata": {},
     "output_type": "display_data"
    },
    {
     "data": {
      "application/vnd.jupyter.widget-view+json": {
       "model_id": "3ce7e4ccd1fa4b878c19766a9b5298ca",
       "version_major": 2,
       "version_minor": 0
      },
      "text/plain": [
       "Output()"
      ]
     },
     "metadata": {},
     "output_type": "display_data"
    }
   ],
   "source": [
    "open_viewer(\"adapter\")\n",
    "replay_box = widgets.Checkbox(False, description='Enable Replay')\n",
    "out = widgets.Output()\n",
    "display(replay_box)\n",
    "display(out)\n",
    "\n",
    "@out.capture()\n",
    "def changed(e):\n",
    "    if e[\"new\"]:\n",
    "        enable_replay(warning=False)\n",
    "    else:\n",
    "        disable_replay()\n",
    "\n",
    "replay_box.observe(changed, names='value')"
   ]
  },
  {
   "cell_type": "code",
   "execution_count": 3,
   "id": "69cab1fc-dbc6-45fb-a812-24f09b12c265",
   "metadata": {
    "tags": []
   },
   "outputs": [],
   "source": [
    "fan_hole = 120\n",
    "fan_mount_width = 125\n",
    "fan_screw_spacing = 112\n",
    "screw_d = 4\n",
    "screw_head_d = 8\n",
    "insert_nut_d = 4.5\n",
    "\n",
    "thickness = 2.5\n",
    "adapter_body_height = 30\n",
    "\n",
    "filter_length = 108\n",
    "filter_width1 = 59\n",
    "filter_width2 = 75\n",
    "filter_holder_depth = 8\n",
    "filter_holder_edge = 2.5\n",
    "\n",
    "filter_mount_screw_spacing = 95\n",
    "filter_mount_screw_d = 3\n",
    "\n",
    "filter_pts = [(0, filter_width2/2),\n",
    "              (filter_length/2, filter_width1/2),\n",
    "              (filter_length/2, -filter_width1/2),\n",
    "              (0, -filter_width2/2),\n",
    "              (-filter_length/2, -filter_width1/2),\n",
    "              (-filter_length/2, filter_width1/2),\n",
    "              (0, filter_width2/2)]\n",
    "\n",
    "screw_holes = [(fan_screw_spacing/2, fan_screw_spacing/2),\n",
    "               (-fan_screw_spacing/2, fan_screw_spacing/2),\n",
    "               (fan_screw_spacing/2, -fan_screw_spacing/2),\n",
    "               (-fan_screw_spacing/2, -fan_screw_spacing/2)]\n",
    "\n",
    "filter_mount_screw_holes = [(filter_mount_screw_spacing/2, filter_mount_screw_spacing/2),\n",
    "                            (-filter_mount_screw_spacing/2, filter_mount_screw_spacing/2),\n",
    "                            (filter_mount_screw_spacing/2, -filter_mount_screw_spacing/2),\n",
    "                            (-filter_mount_screw_spacing/2, -filter_mount_screw_spacing/2)]"
   ]
  },
  {
   "cell_type": "code",
   "execution_count": 4,
   "id": "1671652c-7efb-435a-8d14-95f074ed2fa9",
   "metadata": {},
   "outputs": [
    {
     "name": "stdout",
     "output_type": "stream",
     "text": [
      "Replay is not enabled. To do so call 'enable_replay()'. Falling back to 'show()'\n",
      "  \n"
     ]
    },
    {
     "name": "stderr",
     "output_type": "stream",
     "text": [
      "RuntimeWarning: cad_width has to be >= 640, setting to 640\n"
     ]
    },
    {
     "data": {
      "text/plain": [
       "<cad_viewer_widget.widget.CadViewer at 0x7f6058602b20>"
      ]
     },
     "execution_count": 4,
     "metadata": {},
     "output_type": "execute_result"
    }
   ],
   "source": [
    "filter_2d = (\n",
    "    cq.Workplane(\"XY\")\n",
    "    .moveTo(0, filter_width2/2)\n",
    "    .lineTo(filter_length/2, filter_width1/2)\n",
    "    .line(0, -filter_width1/2)\n",
    ")\n",
    "replay(filter_2d)"
   ]
  },
  {
   "cell_type": "code",
   "execution_count": 5,
   "id": "0db8e5c2-e516-4ff7-9c76-98bc269e0617",
   "metadata": {},
   "outputs": [
    {
     "name": "stdout",
     "output_type": "stream",
     "text": [
      "Replay is not enabled. To do so call 'enable_replay()'. Falling back to 'show()'\n",
      "  \n"
     ]
    },
    {
     "name": "stderr",
     "output_type": "stream",
     "text": [
      "RuntimeWarning: cad_width has to be >= 640, setting to 640\n"
     ]
    },
    {
     "data": {
      "text/plain": [
       "<cad_viewer_widget.widget.CadViewer at 0x7f6058602b20>"
      ]
     },
     "execution_count": 5,
     "metadata": {},
     "output_type": "execute_result"
    }
   ],
   "source": [
    "filter_2d = cq.Sketch().polygon(filter_pts).vertices().fillet(5)\n",
    "filter_shell_2d = filter_2d.copy().wires().offset(thickness).clean()\n",
    "filter_inner_2d = (\n",
    "    cq.Sketch()\n",
    "    .polygon(filter_pts, tag=\"x\")\n",
    "    .wires().offset(-filter_holder_edge, mode=\"i\")\n",
    "    .select(\"x\").delete()\n",
    "    .vertices().fillet(5-filter_holder_edge)\n",
    ")\n",
    "mount_2d = cq.Sketch().rect(fan_mount_width, fan_mount_width)\n",
    "fan_hole_2d = cq.Sketch().circle(fan_hole/2)\n",
    "\n",
    "replay(filter_inner_2d)"
   ]
  },
  {
   "cell_type": "code",
   "execution_count": 6,
   "id": "1bec39f8-5e5a-4f52-979e-74f92e2f98eb",
   "metadata": {},
   "outputs": [
    {
     "name": "stdout",
     "output_type": "stream",
     "text": [
      "Replay is not enabled. To do so call 'enable_replay()'. Falling back to 'show()'\n",
      " \n"
     ]
    },
    {
     "name": "stderr",
     "output_type": "stream",
     "text": [
      "RuntimeWarning: cad_width has to be >= 640, setting to 640\n"
     ]
    },
    {
     "data": {
      "text/plain": [
       "<cad_viewer_widget.widget.CadViewer at 0x7f6058602b20>"
      ]
     },
     "execution_count": 6,
     "metadata": {},
     "output_type": "execute_result"
    }
   ],
   "source": [
    "body_void = (\n",
    "    cq.Workplane()\n",
    "    .placeSketch(\n",
    "        fan_hole_2d,\n",
    "        filter_inner_2d.moved(cq.Location(cq.Vector(0, 0, adapter_body_height-filter_holder_depth-thickness)))\n",
    "    )\n",
    "    .loft()\n",
    "    .faces(\">Z\").workplane()\n",
    "    .placeSketch(filter_inner_2d)\n",
    "    .extrude(thickness)\n",
    "    .faces(\">Z\").workplane()\n",
    "    .placeSketch(filter_2d)\n",
    "    .extrude(filter_holder_depth)\n",
    ")\n",
    "replay(body_void)"
   ]
  },
  {
   "cell_type": "code",
   "execution_count": 7,
   "id": "b10c0ca1-9719-425b-b4a1-5bd7f3d2e35b",
   "metadata": {},
   "outputs": [
    {
     "name": "stdout",
     "output_type": "stream",
     "text": [
      "Replay is not enabled. To do so call 'enable_replay()'. Falling back to 'show()'\n",
      " \n"
     ]
    },
    {
     "name": "stderr",
     "output_type": "stream",
     "text": [
      "RuntimeWarning: cad_width has to be >= 640, setting to 640\n"
     ]
    },
    {
     "data": {
      "text/plain": [
       "<cad_viewer_widget.widget.CadViewer at 0x7f6058602b20>"
      ]
     },
     "execution_count": 7,
     "metadata": {},
     "output_type": "execute_result"
    }
   ],
   "source": [
    "body = (\n",
    "    cq.Workplane()\n",
    "    .placeSketch(\n",
    "        mount_2d,\n",
    "        mount_2d.moved(cq.Location(cq.Vector(0, 0, thickness))),\n",
    "        filter_shell_2d.moved(cq.Location(cq.Vector(0, 0, adapter_body_height)))\n",
    "    )\n",
    "    .loft(ruled=True)\n",
    "    .cut(body_void)\n",
    "    #############\n",
    "    .faces(\"<Z\").workplane()\n",
    "    .pushPoints(screw_holes)\n",
    "    .hole(screw_d)\n",
    "    .faces(\"<Z\").workplane(offset=-thickness)\n",
    "    .pushPoints(screw_holes)\n",
    "    .hole(screw_head_d)\n",
    ")\n",
    "replay(body)"
   ]
  },
  {
   "cell_type": "code",
   "execution_count": 8,
   "id": "f5ff6f38-7f87-4c0f-8ec8-1ee4e2d65671",
   "metadata": {},
   "outputs": [
    {
     "name": "stdout",
     "output_type": "stream",
     "text": [
      "Replay is not enabled. To do so call 'enable_replay()'. Falling back to 'show()'\n",
      " \n"
     ]
    },
    {
     "name": "stderr",
     "output_type": "stream",
     "text": [
      "RuntimeWarning: cad_width has to be >= 640, setting to 640\n"
     ]
    },
    {
     "data": {
      "text/plain": [
       "<cad_viewer_widget.widget.CadViewer at 0x7f6058602b20>"
      ]
     },
     "execution_count": 8,
     "metadata": {},
     "output_type": "execute_result"
    }
   ],
   "source": [
    "body = (\n",
    "    cq.Workplane()\n",
    "    .placeSketch(\n",
    "        mount_2d,\n",
    "    )\n",
    "    .extrude(10)\n",
    "    #.cut(body_void)\n",
    "    #############\n",
    "    .faces(\">Z\").workplane()\n",
    "    .pushPoints(screw_holes)\n",
    "    .cskHole(screw_d, screw_head_d, 82)\n",
    "    ###############\n",
    "    .faces(\">Z\").workplane()\n",
    "    .pushPoints(filter_mount_screw_holes)\n",
    "    .hole(insert_nut_d)\n",
    "    ###############\n",
    "    .faces(\">Z\").workplane()\n",
    "    .hole(fan_hole)\n",
    ")\n",
    "replay(body)"
   ]
  },
  {
   "cell_type": "code",
   "execution_count": 9,
   "id": "303405f6-c68c-4e68-9fed-4fa3ea4a3533",
   "metadata": {},
   "outputs": [
    {
     "name": "stdout",
     "output_type": "stream",
     "text": [
      "Replay is not enabled. To do so call 'enable_replay()'. Falling back to 'show()'\n",
      "  \n"
     ]
    },
    {
     "name": "stderr",
     "output_type": "stream",
     "text": [
      "RuntimeWarning: cad_width has to be >= 640, setting to 640\n"
     ]
    },
    {
     "data": {
      "text/plain": [
       "<cad_viewer_widget.widget.CadViewer at 0x7f6058602b20>"
      ]
     },
     "execution_count": 9,
     "metadata": {},
     "output_type": "execute_result"
    }
   ],
   "source": [
    "holder_base_2d = (\n",
    "    cq.Sketch()\n",
    "    .circle(fan_hole/2)\n",
    "    .rect(filter_mount_screw_spacing, filter_mount_screw_spacing)\n",
    "    .vertices()\n",
    "    .circle(filter_mount_screw_d)\n",
    ")\n",
    "holder_base = (\n",
    "    cq.Workplane()\n",
    ")\n",
    "\n",
    "replay(holder_base_2d)"
   ]
  },
  {
   "cell_type": "code",
   "execution_count": 10,
   "id": "6aa2163b-d326-4bde-9468-3adc761be319",
   "metadata": {},
   "outputs": [
    {
     "name": "stdout",
     "output_type": "stream",
     "text": [
      "Replay is not enabled. To do so call 'enable_replay()'. Falling back to 'show()'\n",
      "."
     ]
    },
    {
     "name": "stderr",
     "output_type": "stream",
     "text": [
      "RuntimeWarning: cad_width has to be >= 640, setting to 640\n"
     ]
    },
    {
     "name": "stdout",
     "output_type": "stream",
     "text": [
      " \n"
     ]
    },
    {
     "data": {
      "text/plain": [
       "<cad_viewer_widget.widget.CadViewer at 0x7f6058602b20>"
      ]
     },
     "execution_count": 10,
     "metadata": {},
     "output_type": "execute_result"
    }
   ],
   "source": [
    "points = []\n",
    "for i in range(15):\n",
    "    points.extend([(0, 10*i), (0, -10*i)])\n",
    "\n",
    "supports = (\n",
    "    cq.Workplane()\n",
    "    .pushPoints(points)\n",
    "    .rect(filter_length, 1)\n",
    "    .extrude(filter_holder_depth)\n",
    "    .intersect(cq.Workplane().placeSketch(filter_2d).extrude(filter_holder_depth))\n",
    "    .cut(cq.Workplane().rect(10, filter_width2).extrude(filter_holder_depth))\n",
    ")\n",
    "\n",
    "replay(supports)"
   ]
  },
  {
   "cell_type": "code",
   "execution_count": 11,
   "id": "59e4e393-8ee8-4ce2-a672-222488660849",
   "metadata": {},
   "outputs": [
    {
     "name": "stdout",
     "output_type": "stream",
     "text": [
      "Replay is not enabled. To do so call 'enable_replay()'. Falling back to 'show()'\n",
      "  \n"
     ]
    },
    {
     "name": "stderr",
     "output_type": "stream",
     "text": [
      "RuntimeWarning: cad_width has to be >= 640, setting to 640\n"
     ]
    },
    {
     "data": {
      "text/plain": [
       "<cad_viewer_widget.widget.CadViewer at 0x7f6058602b20>"
      ]
     },
     "execution_count": 11,
     "metadata": {},
     "output_type": "execute_result"
    }
   ],
   "source": [
    "outlet_2d = cq.Sketch().circle(10).moved(cq.Location(cq.Vector(filter_length/2-10, 0)))\n",
    "\n",
    "holder = (\n",
    "    cq.Workplane()\n",
    "    .placeSketch(filter_2d)\n",
    "    .extrude(filter_holder_depth)\n",
    "    .faces(\">Z\")\n",
    "    .shell(-thickness)\n",
    "    .faces(\"<Z\")\n",
    "    .rect(40, 40)\n",
    "    .cutThruAll()\n",
    "    .add(supports)\n",
    ")\n",
    "\n",
    "replay(holder)"
   ]
  },
  {
   "cell_type": "code",
   "execution_count": 12,
   "id": "aa9fa136-929d-4fbd-ab58-a7043a880585",
   "metadata": {},
   "outputs": [],
   "source": [
    "exporters.export(body, '/tmp/body.stl')\n",
    "exporters.export(holder, '/tmp/holder.stl')"
   ]
  },
  {
   "cell_type": "code",
   "execution_count": null,
   "id": "1e575951-92d0-4e67-853d-7a7faa0adf1f",
   "metadata": {},
   "outputs": [],
   "source": []
  }
 ],
 "metadata": {
  "kernelspec": {
   "display_name": "Python 3 (ipykernel)",
   "language": "python",
   "name": "python3"
  },
  "language_info": {
   "codemirror_mode": {
    "name": "ipython",
    "version": 3
   },
   "file_extension": ".py",
   "mimetype": "text/x-python",
   "name": "python",
   "nbconvert_exporter": "python",
   "pygments_lexer": "ipython3",
   "version": "3.9.10"
  }
 },
 "nbformat": 4,
 "nbformat_minor": 5
}
