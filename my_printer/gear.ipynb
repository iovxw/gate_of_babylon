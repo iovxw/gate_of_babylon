{
 "cells": [
  {
   "cell_type": "code",
   "execution_count": 10,
   "id": "94126f25-2531-4dd6-a6ef-bbef139c4beb",
   "metadata": {
    "tags": []
   },
   "outputs": [],
   "source": [
    "from math import cos, radians, sin, sqrt\n",
    "\n",
    "import cadquery as cq\n",
    "import cq_gears as gears  # https://github.com/meadiode/cq_gears\n",
    "import ipywidgets as widgets\n",
    "import jupyter_cadquery as jcq\n",
    "from jupyter_cadquery.replay import replay, show"
   ]
  },
  {
   "cell_type": "code",
   "execution_count": 2,
   "id": "7bd5457d-6649-4c4c-9c17-40a558840aa9",
   "metadata": {},
   "outputs": [
    {
     "data": {
      "application/vnd.jupyter.widget-view+json": {
       "model_id": "973b0d192e9d4b02910060ce7d045a5d",
       "version_major": 2,
       "version_minor": 0
      },
      "text/plain": [
       "Checkbox(value=False, description='Enable Replay')"
      ]
     },
     "metadata": {},
     "output_type": "display_data"
    },
    {
     "data": {
      "application/vnd.jupyter.widget-view+json": {
       "model_id": "3870538124b54a7388132c439c4de8ce",
       "version_major": 2,
       "version_minor": 0
      },
      "text/plain": [
       "Output()"
      ]
     },
     "metadata": {},
     "output_type": "display_data"
    }
   ],
   "source": [
    "jcq.set_defaults(\n",
    "    control=\"orbit\",\n",
    "    axes=True,\n",
    "    axes0=True,\n",
    "    grid=(True, False, False),\n",
    "    glass=True,\n",
    "    theme=\"browser\",\n",
    ")\n",
    "\n",
    "# open_viewer(\"Cadquery\")\n",
    "replay_box = widgets.Checkbox(False, description=\"Enable Replay\")\n",
    "out = widgets.Output()\n",
    "display(replay_box)\n",
    "display(out)\n",
    "\n",
    "\n",
    "@out.capture()\n",
    "def changed(e):\n",
    "    if e[\"new\"]:\n",
    "        jcq.replay.enable_replay(warning=False)\n",
    "    else:\n",
    "        jcq.replay.disable_replay()\n",
    "\n",
    "\n",
    "replay_box.observe(changed, names=\"value\")"
   ]
  },
  {
   "cell_type": "code",
   "execution_count": 9,
   "id": "5cf42f45-4e88-401f-b12a-177e912b7c67",
   "metadata": {},
   "outputs": [
    {
     "data": {
      "application/vnd.jupyter.widget-view+json": {
       "model_id": "5e905866515f4a0cafed26c2a9f8b39f",
       "version_major": 2,
       "version_minor": 0
      },
      "text/plain": [
       "CadViewerWidget(anchor=None, cad_width=800, glass=True, height=600, pinning=False, theme='browser', title=None…"
      ]
     },
     "metadata": {},
     "output_type": "display_data"
    },
    {
     "data": {
      "text/html": [
       "<div></div>"
      ],
      "text/plain": [
       "<IPython.core.display.HTML object>"
      ]
     },
     "metadata": {},
     "output_type": "display_data"
    },
    {
     "data": {
      "text/plain": [
       "<cad_viewer_widget.widget.CadViewer at 0x7f1e5a03e7a0>"
      ]
     },
     "execution_count": 9,
     "metadata": {},
     "output_type": "execute_result"
    }
   ],
   "source": [
    "hb_gear = gears.HerringboneGear(\n",
    "    module=1.0, teeth_number=42, width=10.0, helix_angle=-20.0, bore_d=28.0\n",
    ")\n",
    "\n",
    "wp = cq.Workplane(\"XY\").gear(hb_gear)\n",
    "show(wp)"
   ]
  },
  {
   "cell_type": "code",
   "execution_count": 4,
   "id": "aa9fa136-929d-4fbd-ab58-a7043a880585",
   "metadata": {},
   "outputs": [
    {
     "ename": "NameError",
     "evalue": "name 'r' is not defined",
     "output_type": "error",
     "traceback": [
      "\u001b[0;31m---------------------------------------------------------------------------\u001b[0m",
      "\u001b[0;31mNameError\u001b[0m                                 Traceback (most recent call last)",
      "Input \u001b[0;32mIn [4]\u001b[0m, in \u001b[0;36m<cell line: 1>\u001b[0;34m()\u001b[0m\n\u001b[0;32m----> 1\u001b[0m cq\u001b[38;5;241m.\u001b[39mexporters\u001b[38;5;241m.\u001b[39mexport(\u001b[43mr\u001b[49m\u001b[38;5;241m.\u001b[39madd(r2\u001b[38;5;241m.\u001b[39mtranslate([\u001b[38;5;241m20\u001b[39m, \u001b[38;5;241m0\u001b[39m])), \u001b[38;5;124m\"\u001b[39m\u001b[38;5;124m/tmp/x.stl\u001b[39m\u001b[38;5;124m\"\u001b[39m)\n",
      "\u001b[0;31mNameError\u001b[0m: name 'r' is not defined"
     ]
    }
   ],
   "source": [
    "cq.exporters.export(r.add(r2.translate([20, 0])), \"/tmp/x.stl\")"
   ]
  },
  {
   "cell_type": "code",
   "execution_count": null,
   "id": "6c20ba13-12cc-4374-8dc0-fd5a46cb6a58",
   "metadata": {},
   "outputs": [],
   "source": []
  }
 ],
 "metadata": {
  "kernelspec": {
   "display_name": "Python 3 (ipykernel)",
   "language": "python",
   "name": "python3"
  },
  "language_info": {
   "codemirror_mode": {
    "name": "ipython",
    "version": 3
   },
   "file_extension": ".py",
   "mimetype": "text/x-python",
   "name": "python",
   "nbconvert_exporter": "python",
   "pygments_lexer": "ipython3",
   "version": "3.10.5"
  }
 },
 "nbformat": 4,
 "nbformat_minor": 5
}
