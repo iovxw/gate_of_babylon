{
 "cells": [
  {
   "cell_type": "code",
   "execution_count": 1,
   "id": "e2be4f39-0d3c-40e4-b902-2802d9d75d35",
   "metadata": {
    "tags": []
   },
   "outputs": [
    {
     "name": "stdout",
     "output_type": "stream",
     "text": [
      "Overwriting auto display for cadquery Workplane and Shape\n"
     ]
    }
   ],
   "source": [
    "import cadquery as cq\n",
    "from cadquery import exporters\n",
    "from jupyter_cadquery.cadquery import (PartGroup, Part, Edges, Faces, Vertices, show, \n",
    "                                       replay, enable_replay, disable_replay, reset_replay)\n",
    "from jupyter_cadquery import set_sidecar, set_defaults\n",
    "\n",
    "from math import sin, radians, sqrt\n",
    "\n",
    "import ipywidgets as widgets"
   ]
  },
  {
   "cell_type": "code",
   "execution_count": 2,
   "id": "0c5f9b80-fcbd-41eb-b66f-3ddcfffa07a4",
   "metadata": {},
   "outputs": [
    {
     "data": {
      "text/html": [
       "<style>\n",
       ".scroll-area {\n",
       "    overflow: scroll !important;\n",
       "    border: unset !important;\n",
       "}\n",
       "\n",
       ".mac-scrollbar::-webkit-scrollbar {\n",
       "    width: 5px !important;\n",
       "    height: 5px !important;\n",
       "}\n",
       "\n",
       ".mac-scrollbar::-webkit-scrollbar-track {\n",
       "    background-color: transparent !important;\n",
       "}\n",
       "\n",
       ".mac-scrollbar .widget-html-content {\n",
       "    overflow-x: visible;\n",
       "    overflow-y: visible;\n",
       "}\n",
       "\n",
       ".tab-content-no-padding .widget-tab-contents {\n",
       "    overflow-x: visible !important;\n",
       "    overflow-y: visible !important;\n",
       "    padding-bottom: 0px !important;\n",
       "}\n",
       "\n",
       ".view_renderer {\n",
       "    border: 1px solid var(--jp-border-color1);\n",
       "    margin-top: 3px;\n",
       "    margin-left: 2px;\n",
       "}\n",
       "\n",
       ".view_tree {\n",
       "    padding: 0px !important;\n",
       "}\n",
       "\n",
       ".view_axes {\n",
       "    width: 60px !important;\n",
       "    margin-left: 5px !important;\n",
       "}\n",
       "\n",
       ".view_zero {\n",
       "    width: 55px !important;\n",
       "}\n",
       "\n",
       ".view_grid {\n",
       "    width: 56px !important;\n",
       "}\n",
       "\n",
       ".view_ortho {\n",
       "    width: 64px !important;\n",
       "}\n",
       "\n",
       ".view_transparent {\n",
       "    width: 125px !important;\n",
       "}\n",
       "\n",
       ".view_black_edges {\n",
       "    width: 105px !important;\n",
       "}\n",
       "\n",
       ".view_button {\n",
       "    padding: 0px !important;\n",
       "}\n",
       "\n",
       ".view_button>img {\n",
       "    height: 28px;\n",
       "    width: 36px;\n",
       "}\n",
       "\n",
       ".node_entry_wrap {\n",
       "    white-space: pre;\n",
       "}\n",
       "\n",
       ".node_entry {\n",
       "    white-space: nowrap;\n",
       "    padding-top: 4px;\n",
       "}\n",
       "\n",
       ".t-caret {\n",
       "    cursor: pointer;\n",
       "    -webkit-user-select: none;\n",
       "    /* Safari 3.1+ */\n",
       "    -moz-user-select: none;\n",
       "    /* Firefox 2+ */\n",
       "    -ms-user-select: none;\n",
       "    /* IE 10+ */\n",
       "    user-select: none;\n",
       "}\n",
       "\n",
       ".t-caret-down::before {\n",
       "    -ms-transform: rotate(90deg);\n",
       "    /* IE 9 */\n",
       "    -webkit-transform: rotate(90deg);\n",
       "    /* Safari */\n",
       "    transform: rotate(90deg);\n",
       "}\n",
       "\n",
       ".toplevel {\n",
       "    list-style-type: none;\n",
       "    padding-inline-start: 0px;\n",
       "}\n",
       "\n",
       ".nested {\n",
       "    display: none;\n",
       "    list-style-type: none;\n",
       "    padding-inline-start: 16px;\n",
       "}\n",
       "\n",
       ".active {\n",
       "    display: block;\n",
       "}\n",
       "\n",
       ".icon {\n",
       "    width: 28px !important;\n",
       "    height: 22px !important;\n",
       "    padding-right: 2px;\n",
       "    vertical-align: middle;\n",
       "}\n",
       "\n",
       ".indent {\n",
       "    margin-left: 12px;\n",
       "}\n",
       "\n",
       ".tree_label {\n",
       "    padding-left: 2px;\n",
       "    font-size: 14px;\n",
       "}\n",
       "\n",
       ".scroll_down {\n",
       "    display: flex;\n",
       "    flex-direction: column-reverse;\n",
       "}\n",
       "\n",
       ".small_table {\n",
       "    line-height: 14px;\n",
       "}\n",
       "\n",
       ".monospace select {\n",
       "    font-family: monospace;\n",
       "}\n",
       "\n",
       "        .t-caret::before {\n",
       "            content: u\"▶\";\n",
       "            font-size: 12px;\n",
       "            color: \"#080808\";\n",
       "            display: inline-block;\n",
       "            margin-right: 2px;\n",
       "        }\n",
       "\n",
       "        .mac-scrollbar::-webkit-scrollbar-thumb {\n",
       "            background-color: rgba(0, 0, 0, 0.2) !important;\n",
       "            border-radius: 100px !important;\n",
       "        }\n",
       "\n",
       "        .mac-scrollbar::-webkit-scrollbar-thumb:hover {\n",
       "            background: rgba(0, 0, 0, 0.4) !important;\n",
       "        }\n",
       "\n",
       "        .mac-scrollbar::-webkit-scrollbar-thumb:active {\n",
       "            background: #181818 !important;\n",
       "        }\n",
       "\n",
       "        .mac-scrollbar::-webkit-scrollbar-corner {\n",
       "            background: white;\n",
       "        }\n",
       "\n",
       "        .view_output {\n",
       "            border: 1px solid var(--jp-border-color1);\n",
       "            margin: 2px 2px 2px 2px !important;\n",
       "            padding-right: 1px !important;\n",
       "            background-color: white;\n",
       "        }\n",
       "    </style>"
      ],
      "text/plain": [
       "<IPython.core.display.HTML object>"
      ]
     },
     "metadata": {},
     "output_type": "display_data"
    },
    {
     "data": {
      "application/vnd.jupyter.widget-view+json": {
       "model_id": "b89e509e43c64918aca127b26f849226",
       "version_major": 2,
       "version_minor": 0
      },
      "text/plain": [
       "Checkbox(value=False, description='Enable Replay')"
      ]
     },
     "metadata": {},
     "output_type": "display_data"
    },
    {
     "data": {
      "application/vnd.jupyter.widget-view+json": {
       "model_id": "7c3a4f0e2a6e413489b0858f48417397",
       "version_major": 2,
       "version_minor": 0
      },
      "text/plain": [
       "Output()"
      ]
     },
     "metadata": {},
     "output_type": "display_data"
    }
   ],
   "source": [
    "set_defaults(axes=True, grid=True, axes0=True, timeit=False, cad_width=640, height=800)\n",
    "\n",
    "set_sidecar(\"Hotend\", init=True)\n",
    "replay_box = widgets.Checkbox(False, description='Enable Replay')\n",
    "out = widgets.Output()\n",
    "display(replay_box)\n",
    "display(out)\n",
    "\n",
    "@out.capture()\n",
    "def changed(e):\n",
    "    if e[\"new\"]:\n",
    "        enable_replay(warning=False)\n",
    "    else:\n",
    "        disable_replay()\n",
    "\n",
    "replay_box.observe(changed, names='value')"
   ]
  },
  {
   "cell_type": "code",
   "execution_count": 3,
   "id": "8dda7067-bfbf-4474-bc58-641dabe224e2",
   "metadata": {},
   "outputs": [],
   "source": [
    "bearing_space = 38\n",
    "bearing_diameter = 15\n",
    "bearing_length = 45\n",
    "\n",
    "# https://wiki.e3d-online.com/images/b/b5/V6-175-SINK.pdf\n",
    "e3d_sink_d1 = 16\n",
    "e3d_sink_d2 = 12\n",
    "e3d_sink_h1 = 3.7\n",
    "e3d_sink_h2 = 6\n",
    "e3d_sink_h3 = 3\n",
    "\n",
    "hotend_y_offset = -3\n",
    "\n",
    "min_thickness = 3\n",
    "\n",
    "body_x = bearing_length\n",
    "body_y = bearing_space+bearing_diameter+min_thickness*2\n",
    "body_z = 40\n",
    "\n",
    "body_b_y = bearing_diameter+min_thickness*2\n",
    "body_b_z = bearing_diameter+min_thickness*2\n",
    "\n",
    "belt_y1 = 16\n",
    "belt_y2 = 9\n",
    "belt_spacing = 20"
   ]
  },
  {
   "cell_type": "code",
   "execution_count": 4,
   "id": "a01b075b-b08c-41ac-9a25-770c03bc68b0",
   "metadata": {},
   "outputs": [
    {
     "name": "stdout",
     "output_type": "stream",
     "text": [
      "Replay is not enabled. To do so call 'enable_replay()'. Falling back to 'show()'\n",
      "Done, using side car 'Hotend'\n"
     ]
    },
    {
     "name": "stderr",
     "output_type": "stream",
     "text": [
      "RuntimeWarning: cad_width has to be >= 640, setting to 640\n"
     ]
    },
    {
     "data": {
      "text/plain": [
       "<jupyter_cadquery.cad_display.CadqueryDisplay at 0x7f6eca991b20>"
      ]
     },
     "execution_count": 4,
     "metadata": {},
     "output_type": "execute_result"
    }
   ],
   "source": [
    "e3d_sink_void = (\n",
    "    cq.Workplane(\"XY\")\n",
    "    .cylinder(body_z, e3d_sink_d2/2)\n",
    "    .faces(\"<Z\")\n",
    "    .cylinder(e3d_sink_h3, e3d_sink_d1/2, centered=(True, True, False))\n",
    "    .faces(\"<Z[1]\")\n",
    "    .workplane(offset = e3d_sink_h2)\n",
    "    .cylinder(e3d_sink_h1, e3d_sink_d1/2, centered=(True, True, False))\n",
    ")\n",
    "\n",
    "replay(e3d_sink_void)"
   ]
  },
  {
   "cell_type": "code",
   "execution_count": 5,
   "id": "ad36324e-b670-4e51-b36c-e80f887d7f17",
   "metadata": {},
   "outputs": [
    {
     "name": "stdout",
     "output_type": "stream",
     "text": [
      "Replay is not enabled. To do so call 'enable_replay()'. Falling back to 'show()'\n",
      "Done, using side car 'Hotend'\n"
     ]
    },
    {
     "name": "stderr",
     "output_type": "stream",
     "text": [
      "RuntimeWarning: cad_width has to be >= 640, setting to 640\n"
     ]
    },
    {
     "data": {
      "text/plain": [
       "<jupyter_cadquery.cad_display.CadqueryDisplay at 0x7f6eca991b20>"
      ]
     },
     "execution_count": 5,
     "metadata": {},
     "output_type": "execute_result"
    }
   ],
   "source": [
    "belt_width = 1.38 # GT2 belt\n",
    "combined_belt_width = 2\n",
    "belt_height = 5\n",
    "\n",
    "belt_holder1_void_raw = (\n",
    "    cq.Workplane(\"XY\")\n",
    "    .line(0, 2)\n",
    "    .line(2, -2+combined_belt_width/2)\n",
    "    .line(body_x/2, 0)\n",
    "    .line(0, -combined_belt_width/2)\n",
    "    .mirrorX()\n",
    "    .extrude(belt_height)\n",
    ")\n",
    "\n",
    "belt_holder1_void = (\n",
    "    belt_holder1_void_raw\n",
    "    .translate((e3d_sink_d2/2, belt_spacing/2, body_z/2-belt_y1))\n",
    ") + (\n",
    "    belt_holder1_void_raw\n",
    "    .mirror(\"YZ\")\n",
    "    .translate((-e3d_sink_d2/2, belt_spacing/2, body_z/2-belt_y2))\n",
    ")\n",
    "\n",
    "replay(belt_holder1_void)"
   ]
  },
  {
   "cell_type": "code",
   "execution_count": 6,
   "id": "f26929e3-325d-477e-a8bd-70c1f4ee70f6",
   "metadata": {},
   "outputs": [
    {
     "name": "stdout",
     "output_type": "stream",
     "text": [
      "<X and <Y or <X and <Z or <X and >Y or <X and >Z or <Y and <Z or <Y and >Z or >X and <Y or >X and <Z or >X and >Y or >X and >Z or >Y and <Z or >Y and >Z\n"
     ]
    }
   ],
   "source": [
    "directions = [d+a for d in \"<>\" for a in \"XYZ\"]\n",
    "edges = [d1+\" and \"+d2 for d1 in directions for d2 in directions if d1[1] < d2[1]]\n",
    "\n",
    "select_box_edges = \" or \".join(edges)\n",
    "print(select_box_edges)"
   ]
  },
  {
   "cell_type": "code",
   "execution_count": 7,
   "id": "dc0b46d7-1848-4ec6-81c0-305037035091",
   "metadata": {},
   "outputs": [],
   "source": [
    "body_box = (\n",
    "    cq.Workplane(\"XY\")\n",
    "    .box(body_x, body_y, body_z)\n",
    ")"
   ]
  },
  {
   "cell_type": "code",
   "execution_count": 8,
   "id": "43c6bfba-d7f0-419d-86bf-e348b7b6689f",
   "metadata": {},
   "outputs": [
    {
     "name": "stdout",
     "output_type": "stream",
     "text": [
      "Replay is not enabled. To do so call 'enable_replay()'. Falling back to 'show()'\n",
      "Done, using side car 'Hotend'\n"
     ]
    },
    {
     "name": "stderr",
     "output_type": "stream",
     "text": [
      "RuntimeWarning: cad_width has to be >= 640, setting to 640\n"
     ]
    },
    {
     "data": {
      "text/plain": [
       "<jupyter_cadquery.cad_display.CadqueryDisplay at 0x7f6eca991b20>"
      ]
     },
     "execution_count": 8,
     "metadata": {},
     "output_type": "execute_result"
    }
   ],
   "source": [
    "body_splitter1 = (\n",
    "    body_box.faces(\"<X\")\n",
    "    .vertices(\">Y and <Z\")\n",
    "    .workplane(centerOption=\"CenterOfMass\")\n",
    "    .rect(body_b_y, body_b_z, centered=False)\n",
    "    .cutThruAll()\n",
    ")\n",
    "\n",
    "replay(body_splitter1)"
   ]
  },
  {
   "cell_type": "code",
   "execution_count": 9,
   "id": "6485deb3-4dd4-4a8d-92c3-a5f86f5d255b",
   "metadata": {},
   "outputs": [
    {
     "name": "stdout",
     "output_type": "stream",
     "text": [
      "Replay is not enabled. To do so call 'enable_replay()'. Falling back to 'show()'\n",
      "Done, using side car 'Hotend'\n"
     ]
    },
    {
     "name": "stderr",
     "output_type": "stream",
     "text": [
      "RuntimeWarning: cad_width has to be >= 640, setting to 640\n"
     ]
    },
    {
     "data": {
      "text/plain": [
       "<jupyter_cadquery.cad_display.CadqueryDisplay at 0x7f6eca991b20>"
      ]
     },
     "execution_count": 9,
     "metadata": {},
     "output_type": "execute_result"
    }
   ],
   "source": [
    "endstop_l = 13\n",
    "endstop_w = 6\n",
    "endstop_h = 11\n",
    "\n",
    "body = (\n",
    "    body_box\n",
    "    .faces(\">X\")\n",
    "    .workplane()\n",
    "    .center(0, -body_z/2)\n",
    "    .center(0, bearing_diameter/2)\n",
    "    .center(0, min_thickness)\n",
    "    .pushPoints([(-bearing_space/2, 0), (bearing_space/2, 0)])\n",
    "    .circle(bearing_diameter/2)\n",
    "    .cutThruAll()\n",
    "    ## ENDSTOP HOLE\n",
    "    .faces(\"<X\")\n",
    "    .workplane()\n",
    "    .rect(endstop_w, endstop_l)\n",
    "    .cutBlind(-endstop_h)\n",
    "    ## SINK HOLE\n",
    "    .faces(\">Z\")\n",
    "    .workplane(centerOption=\"CenterOfMass\")\n",
    "    .cut(e3d_sink_void.translate((0, hotend_y_offset, 0)))\n",
    "    ## HODEND SETUP HOLE\n",
    "    .faces(\">Z\")\n",
    "    .edges(\">Y\")\n",
    "    .workplane(centerOption=\"CenterOfMass\", invert = True)\n",
    "    .rect(e3d_sink_d2, body_y/2-hotend_y_offset, centered=(True, False))\n",
    "    .cutBlind(body_z-body_b_z)\n",
    "    ## BELT HOLDER\n",
    "    .faces(\">Z\")\n",
    "    .workplane(centerOption=\"CenterOfBoundBox\", invert = True)\n",
    "    .pushPoints([(0, belt_spacing/2)])\n",
    "    .rect(body_x, 1)\n",
    "    .cutBlind(belt_y1)\n",
    "    .cut(belt_holder1_void)\n",
    "    ## CHAMFER\n",
    "    .edges(select_box_edges)\n",
    "    .chamfer(1)\n",
    ")\n",
    "    \n",
    "replay(body)"
   ]
  },
  {
   "cell_type": "code",
   "execution_count": 10,
   "id": "6519c0c4-4fb1-466a-a5f2-1239a8c064ca",
   "metadata": {},
   "outputs": [
    {
     "name": "stdout",
     "output_type": "stream",
     "text": [
      "Done, using side car 'Hotend'\n"
     ]
    },
    {
     "data": {
      "text/plain": [
       "<jupyter_cadquery.cad_display.CadqueryDisplay at 0x7f6eca991b20>"
      ]
     },
     "execution_count": 10,
     "metadata": {},
     "output_type": "execute_result"
    }
   ],
   "source": [
    "(remaining_body1, body_b) = (\n",
    "    body.split(body_splitter1).solids().all()\n",
    ")\n",
    "\n",
    "show(body_b)"
   ]
  },
  {
   "cell_type": "code",
   "execution_count": 12,
   "id": "0e28b216-39df-41a7-ba87-c80cd81f69e9",
   "metadata": {},
   "outputs": [
    {
     "name": "stdout",
     "output_type": "stream",
     "text": [
      "Replay is not enabled. To do so call 'enable_replay()'. Falling back to 'show()'\n",
      "Done, using side car 'Hotend'\n"
     ]
    },
    {
     "name": "stderr",
     "output_type": "stream",
     "text": [
      "RuntimeWarning: cad_width has to be >= 640, setting to 640\n"
     ]
    },
    {
     "data": {
      "text/plain": [
       "<jupyter_cadquery.cad_display.CadqueryDisplay at 0x7f6eca991b20>"
      ]
     },
     "execution_count": 12,
     "metadata": {},
     "output_type": "execute_result"
    }
   ],
   "source": [
    "hotend_screw_d = 3\n",
    "hotend_screw_head_d = 5\n",
    "hotend_screw_head_h = 4\n",
    "hotend_screw_z = e3d_sink_h3 + e3d_sink_h2/2\n",
    "hotend_screw_x = e3d_sink_d2/2 + hotend_screw_d/2 + 1\n",
    "\n",
    "body_c_y = body_y/2 - body_b_y - hotend_y_offset\n",
    "\n",
    "remaining_body2 = (\n",
    "    remaining_body1\n",
    "    .faces(\"<Y[3]\")\n",
    "    .edges(\"<Z\")\n",
    "    .workplane(centerOption=\"CenterOfMass\")\n",
    "    .pushPoints([(hotend_screw_x, hotend_screw_z), (-hotend_screw_x, hotend_screw_z)])\n",
    "    .cboreHole(hotend_screw_d, hotend_screw_head_d, hotend_screw_head_h, depth=body_c_y)\n",
    ")\n",
    "\n",
    "replay(remaining_body2)"
   ]
  },
  {
   "cell_type": "code",
   "execution_count": 13,
   "id": "a5d74240-6ac2-4618-b8c7-7f71fca01d9d",
   "metadata": {},
   "outputs": [
    {
     "name": "stdout",
     "output_type": "stream",
     "text": [
      "Replay is not enabled. To do so call 'enable_replay()'. Falling back to 'show()'\n",
      "Done, using side car 'Hotend'\n"
     ]
    },
    {
     "name": "stderr",
     "output_type": "stream",
     "text": [
      "RuntimeWarning: cad_width has to be >= 640, setting to 640\n"
     ]
    },
    {
     "data": {
      "text/plain": [
       "<jupyter_cadquery.cad_display.CadqueryDisplay at 0x7f6eca991b20>"
      ]
     },
     "execution_count": 13,
     "metadata": {},
     "output_type": "execute_result"
    }
   ],
   "source": [
    "body_splitter2 = (\n",
    "    body_splitter1\n",
    "    .faces(\"<X\")\n",
    "    .workplane(offset=-endstop_h)\n",
    "    .rect(body_b_y+body_c_y, body_b_z, centered=False)\n",
    "    .cutBlind(-body_x)\n",
    "    .faces(\"<X\")\n",
    "    .workplane()\n",
    "    .rect(body_b_y+body_c_y-endstop_w, body_b_z, centered=False)\n",
    "    .cutBlind(-body_x)\n",
    ")\n",
    "\n",
    "replay(body_splitter2)"
   ]
  },
  {
   "cell_type": "code",
   "execution_count": 14,
   "id": "67bf7d1d-5602-43ac-97ad-9d209eadbd8e",
   "metadata": {},
   "outputs": [
    {
     "name": "stdout",
     "output_type": "stream",
     "text": [
      "Done, using side car 'Hotend'\n"
     ]
    },
    {
     "data": {
      "text/plain": [
       "<jupyter_cadquery.cad_display.CadqueryDisplay at 0x7f6eca991b20>"
      ]
     },
     "execution_count": 14,
     "metadata": {},
     "output_type": "execute_result"
    }
   ],
   "source": [
    "(remaining_body3, body_c) = (\n",
    "    remaining_body2.split(body_splitter2).solids().all()\n",
    ")\n",
    "\n",
    "show(body_c)"
   ]
  },
  {
   "cell_type": "code",
   "execution_count": 15,
   "id": "f99b2f1f-2608-40fa-ad0e-5a4efbdb1dc1",
   "metadata": {},
   "outputs": [
    {
     "name": "stdout",
     "output_type": "stream",
     "text": [
      "Replay is not enabled. To do so call 'enable_replay()'. Falling back to 'show()'\n",
      "Done, using side car 'Hotend'\n"
     ]
    },
    {
     "name": "stderr",
     "output_type": "stream",
     "text": [
      "RuntimeWarning: cad_width has to be >= 640, setting to 640\n"
     ]
    },
    {
     "data": {
      "text/plain": [
       "<jupyter_cadquery.cad_display.CadqueryDisplay at 0x7f6eca991b20>"
      ]
     },
     "execution_count": 15,
     "metadata": {},
     "output_type": "execute_result"
    }
   ],
   "source": [
    "remaining_body4 = (\n",
    "    remaining_body3\n",
    ")\n",
    "\n",
    "replay(remaining_body4)"
   ]
  },
  {
   "cell_type": "code",
   "execution_count": null,
   "id": "13f9c4b8-ae5f-4f49-85ae-03d3ae6248c0",
   "metadata": {},
   "outputs": [],
   "source": []
  }
 ],
 "metadata": {
  "kernelspec": {
   "display_name": "Python 3 (ipykernel)",
   "language": "python",
   "name": "python3"
  },
  "language_info": {
   "codemirror_mode": {
    "name": "ipython",
    "version": 3
   },
   "file_extension": ".py",
   "mimetype": "text/x-python",
   "name": "python",
   "nbconvert_exporter": "python",
   "pygments_lexer": "ipython3",
   "version": "3.9.10"
  }
 },
 "nbformat": 4,
 "nbformat_minor": 5
}
