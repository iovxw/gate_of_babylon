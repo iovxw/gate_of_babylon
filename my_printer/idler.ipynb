{
 "cells": [
  {
   "cell_type": "code",
   "execution_count": 1,
   "id": "94126f25-2531-4dd6-a6ef-bbef139c4beb",
   "metadata": {
    "tags": []
   },
   "outputs": [
    {
     "name": "stdout",
     "output_type": "stream",
     "text": [
      "Overwriting auto display for cadquery Workplane and Shape\n"
     ]
    }
   ],
   "source": [
    "from math import radians, sin, sqrt\n",
    "\n",
    "import cadquery as cq\n",
    "import ipywidgets as widgets\n",
    "import jupyter_cadquery as jcq\n",
    "from jupyter_cadquery.replay import replay, show"
   ]
  },
  {
   "cell_type": "code",
   "execution_count": 2,
   "id": "7bd5457d-6649-4c4c-9c17-40a558840aa9",
   "metadata": {},
   "outputs": [
    {
     "data": {
      "application/vnd.jupyter.widget-view+json": {
       "model_id": "007bb769d3fb4bf0a7da9d5fea5bd05f",
       "version_major": 2,
       "version_minor": 0
      },
      "text/plain": [
       "Checkbox(value=False, description='Enable Replay')"
      ]
     },
     "metadata": {},
     "output_type": "display_data"
    },
    {
     "data": {
      "application/vnd.jupyter.widget-view+json": {
       "model_id": "1717b03eba5d40529365280ce83f6439",
       "version_major": 2,
       "version_minor": 0
      },
      "text/plain": [
       "Output()"
      ]
     },
     "metadata": {},
     "output_type": "display_data"
    }
   ],
   "source": [
    "jcq.set_defaults(\n",
    "    control=\"orbit\",\n",
    "    axes=True,\n",
    "    axes0=True,\n",
    "    grid=(True, False, False),\n",
    "    glass=True,\n",
    "    theme=\"browser\",\n",
    ")\n",
    "\n",
    "# open_viewer(\"Cadquery\")\n",
    "replay_box = widgets.Checkbox(False, description=\"Enable Replay\")\n",
    "out = widgets.Output()\n",
    "display(replay_box)\n",
    "display(out)\n",
    "\n",
    "\n",
    "@out.capture()\n",
    "def changed(e):\n",
    "    if e[\"new\"]:\n",
    "        jcq.replay.enable_replay(warning=False)\n",
    "    else:\n",
    "        jcq.replay.disable_replay()\n",
    "\n",
    "\n",
    "replay_box.observe(changed, names=\"value\")"
   ]
  },
  {
   "cell_type": "code",
   "execution_count": 3,
   "id": "74eff3da-9b3e-4ea9-b492-474aadbc3e76",
   "metadata": {},
   "outputs": [
    {
     "name": "stdout",
     "output_type": "stream",
     "text": [
      "Replay is not enabled. To do so call 'enable_replay()'. Falling back to 'show()'\n",
      "100% ⋮————————————————————————————————————————————————————————————⋮ (2/2)  0.01s\n"
     ]
    },
    {
     "name": "stderr",
     "output_type": "stream",
     "text": [
      "RuntimeWarning: cad_width has to be >= 640, setting to 640\n"
     ]
    },
    {
     "data": {
      "application/vnd.jupyter.widget-view+json": {
       "model_id": "6bfbc8f4bcb64744b246d4b724a2663f",
       "version_major": 2,
       "version_minor": 0
      },
      "text/plain": [
       "CadViewerWidget(anchor=None, cad_width=640, glass=True, height=600, pinning=False, theme='browser', title=None…"
      ]
     },
     "metadata": {},
     "output_type": "display_data"
    },
    {
     "data": {
      "text/html": [
       "<div></div>"
      ],
      "text/plain": [
       "<IPython.core.display.HTML object>"
      ]
     },
     "metadata": {},
     "output_type": "display_data"
    },
    {
     "data": {
      "text/plain": [
       "<cad_viewer_widget.widget.CadViewer at 0x7f7761c9a5c0>"
      ]
     },
     "execution_count": 3,
     "metadata": {},
     "output_type": "execute_result"
    }
   ],
   "source": [
    "teeth_pts = [\n",
    "    (0.747183, 0),\n",
    "    (0.647876, 0.037218),\n",
    "    (0.598311, 0.130528),\n",
    "    (0.578556, 0.238423),\n",
    "    (0.547158, 0.343077),\n",
    "    (0.504649, 0.443762),\n",
    "    (0.451556, 0.53975),\n",
    "    (0.358229, 0.636924),\n",
    "    (0.2484, 0.707276),\n",
    "    (0.127259, 0.750044),\n",
    "    (0, 0.76447),\n",
    "    (-0.127259, 0.750044),\n",
    "    (-0.2484, 0.707276),\n",
    "    (-0.358229, 0.636924),\n",
    "    (-0.451556, 0.53975),\n",
    "    (-0.504797, 0.443762),\n",
    "    (-0.547291, 0.343077),\n",
    "    (-0.578605, 0.238423),\n",
    "    (-0.598311, 0.130528),\n",
    "    (-0.648009, 0.037218),\n",
    "    (-0.747183, 0),\n",
    "]\n",
    "\n",
    "one_teeth = (\n",
    "    cq.Workplane(\"XY\")\n",
    "    .moveTo(teeth_pts[0][0], -0.5)\n",
    "    .lineTo(teeth_pts[0][0], teeth_pts[0][1])\n",
    "    .spline(teeth_pts)\n",
    "    .lineTo(-teeth_pts[0][0], -0.5)\n",
    "    .close()\n",
    ")\n",
    "\n",
    "replay(one_teeth.extrude(-1).polyline(teeth_pts))"
   ]
  },
  {
   "cell_type": "code",
   "execution_count": 4,
   "id": "b0ddee15-e6f7-4d0d-b869-16e2a1c9dc42",
   "metadata": {},
   "outputs": [
    {
     "name": "stdout",
     "output_type": "stream",
     "text": [
      "Replay is not enabled. To do so call 'enable_replay()'. Falling back to 'show()'\n",
      "100% ⋮————————————————————————————————————————————————————————————⋮ (2/2)  0.04s\n"
     ]
    },
    {
     "name": "stderr",
     "output_type": "stream",
     "text": [
      "RuntimeWarning: cad_width has to be >= 640, setting to 640\n"
     ]
    },
    {
     "data": {
      "application/vnd.jupyter.widget-view+json": {
       "model_id": "c0e19e9fb9b841ee9e1779577f229da2",
       "version_major": 2,
       "version_minor": 0
      },
      "text/plain": [
       "CadViewerWidget(anchor=None, cad_width=640, glass=True, height=600, pinning=False, theme='browser', title=None…"
      ]
     },
     "metadata": {},
     "output_type": "display_data"
    },
    {
     "data": {
      "text/html": [
       "<div></div>"
      ],
      "text/plain": [
       "<IPython.core.display.HTML object>"
      ]
     },
     "metadata": {},
     "output_type": "display_data"
    },
    {
     "data": {
      "text/plain": [
       "<cad_viewer_widget.widget.CadViewer at 0x7f7761b1db70>"
      ]
     },
     "execution_count": 4,
     "metadata": {},
     "output_type": "execute_result"
    }
   ],
   "source": [
    "teeth = cq.importers.importDXF(\"gt2_27teeth.dxf\")\n",
    "\n",
    "replay(teeth)"
   ]
  },
  {
   "cell_type": "code",
   "execution_count": 8,
   "id": "fb240380-df75-43ba-9882-e288436b8050",
   "metadata": {},
   "outputs": [
    {
     "name": "stdout",
     "output_type": "stream",
     "text": [
      "Replay is not enabled. To do so call 'enable_replay()'. Falling back to 'show()'\n"
     ]
    },
    {
     "name": "stderr",
     "output_type": "stream",
     "text": [
      "RuntimeWarning: cad_width has to be >= 640, setting to 640\n"
     ]
    },
    {
     "data": {
      "application/vnd.jupyter.widget-view+json": {
       "model_id": "05609e17c64d4525af4894a72fa55c90",
       "version_major": 2,
       "version_minor": 0
      },
      "text/plain": [
       "CadViewerWidget(anchor=None, cad_width=640, glass=True, height=600, pinning=False, theme='browser', title=None…"
      ]
     },
     "metadata": {},
     "output_type": "display_data"
    },
    {
     "data": {
      "text/html": [
       "<div></div>"
      ],
      "text/plain": [
       "<IPython.core.display.HTML object>"
      ]
     },
     "metadata": {},
     "output_type": "display_data"
    },
    {
     "name": "stdout",
     "output_type": "stream",
     "text": [
      "Replay is not enabled. To do so call 'enable_replay()'. Falling back to 'show()'\n"
     ]
    },
    {
     "name": "stderr",
     "output_type": "stream",
     "text": [
      "RuntimeWarning: cad_width has to be >= 640, setting to 640\n"
     ]
    },
    {
     "data": {
      "application/vnd.jupyter.widget-view+json": {
       "model_id": "74291f1b78144b8ea7efdcff270360cf",
       "version_major": 2,
       "version_minor": 0
      },
      "text/plain": [
       "CadViewerWidget(anchor=None, cad_width=640, glass=True, height=600, pinning=False, theme='browser', title=None…"
      ]
     },
     "metadata": {},
     "output_type": "display_data"
    },
    {
     "data": {
      "text/html": [
       "<div></div>"
      ],
      "text/plain": [
       "<IPython.core.display.HTML object>"
      ]
     },
     "metadata": {},
     "output_type": "display_data"
    },
    {
     "data": {
      "text/plain": [
       "<cad_viewer_widget.widget.CadViewer at 0x7f7756130370>"
      ]
     },
     "execution_count": 8,
     "metadata": {},
     "output_type": "execute_result"
    }
   ],
   "source": [
    "flange = 19\n",
    "flange_thickness = 1.8\n",
    "r = (\n",
    "    cq.Workplane(\"XY\")\n",
    "    .add(teeth)\n",
    "    .wires()\n",
    "    .toPending()\n",
    "    .extrude(6)\n",
    "    .faces(\">Z\")\n",
    "    .circle(flange / 2)\n",
    "    .extrude(flange_thickness)\n",
    "    .faces(\">Z[1]\")\n",
    "    .edges(\"not %Line\")\n",
    "    .chamfer(0.5)\n",
    "    .faces(\"<Z\")\n",
    "    .workplane()\n",
    "    .cboreHole(9, 10, 4 - flange_thickness - 0.2)\n",
    "    .faces(\">Z\")\n",
    "    .workplane()\n",
    "    .polygon(3, 10 + 2, forConstruction=True)\n",
    "    .vertices()\n",
    "    .hole(2 - 0.2)\n",
    ")\n",
    "\n",
    "r2 = (\n",
    "    cq.Workplane(\"XY\")\n",
    "    .circle(flange / 2)\n",
    "    .extrude(1.5)\n",
    "    .faces(\">Z\")\n",
    "    .edges()\n",
    "    .chamfer(0.5)\n",
    "    .faces(\">Z\")\n",
    "    .hole(10)\n",
    "    .faces(\">Z\")\n",
    "    .workplane()\n",
    "    .polygon(3, 10 + 2, forConstruction=True)\n",
    "    .vertices()\n",
    "    .hole(2)\n",
    ")\n",
    "\n",
    "replay(r)\n",
    "replay(r2)"
   ]
  },
  {
   "cell_type": "code",
   "execution_count": 17,
   "id": "bb7a0175-59ed-4f2f-8572-4eba192bf59a",
   "metadata": {},
   "outputs": [
    {
     "name": "stdout",
     "output_type": "stream",
     "text": [
      "Replay is not enabled. To do so call 'enable_replay()'. Falling back to 'show()'\n"
     ]
    },
    {
     "name": "stderr",
     "output_type": "stream",
     "text": [
      "RuntimeWarning: cad_width has to be >= 640, setting to 640\n"
     ]
    },
    {
     "data": {
      "application/vnd.jupyter.widget-view+json": {
       "model_id": "3fb9eb63ac644937b8933e451c3abdcb",
       "version_major": 2,
       "version_minor": 0
      },
      "text/plain": [
       "CadViewerWidget(anchor=None, cad_width=640, glass=True, height=600, pinning=False, theme='browser', title=None…"
      ]
     },
     "metadata": {},
     "output_type": "display_data"
    },
    {
     "data": {
      "text/html": [
       "<div></div>"
      ],
      "text/plain": [
       "<IPython.core.display.HTML object>"
      ]
     },
     "metadata": {},
     "output_type": "display_data"
    }
   ],
   "source": [
    "mount = (\n",
    "    cq.Workplane(\"XY\")\n",
    "    .box(50, 20, 4)\n",
    "    .faces(\">Z\")\n",
    "    .circle((5 + 2) / 2)\n",
    "    .extrude(2)\n",
    "    .faces(\">Z\")\n",
    "    .workplane()\n",
    "    .hole(4.5)\n",
    "    .faces(\"<Z\")\n",
    "    .workplane()\n",
    "    .pushPoints([(-20, 0), (20, 0)])\n",
    "    .hole(5)\n",
    ")\n",
    "\n",
    "replay(mount)\n",
    "cq.exporters.export(mount, \"/tmp/x.stl\")"
   ]
  },
  {
   "cell_type": "code",
   "execution_count": 9,
   "id": "aa9fa136-929d-4fbd-ab58-a7043a880585",
   "metadata": {},
   "outputs": [],
   "source": [
    "cq.exporters.export(r.add(r2.translate([20, 0])), \"/tmp/x.stl\")"
   ]
  },
  {
   "cell_type": "code",
   "execution_count": null,
   "id": "6c20ba13-12cc-4374-8dc0-fd5a46cb6a58",
   "metadata": {},
   "outputs": [],
   "source": []
  }
 ],
 "metadata": {
  "kernelspec": {
   "display_name": "Python 3 (ipykernel)",
   "language": "python",
   "name": "python3"
  },
  "language_info": {
   "codemirror_mode": {
    "name": "ipython",
    "version": 3
   },
   "file_extension": ".py",
   "mimetype": "text/x-python",
   "name": "python",
   "nbconvert_exporter": "python",
   "pygments_lexer": "ipython3",
   "version": "3.10.5"
  }
 },
 "nbformat": 4,
 "nbformat_minor": 5
}
