{
 "cells": [
  {
   "cell_type": "code",
   "execution_count": 1,
   "id": "94126f25-2531-4dd6-a6ef-bbef139c4beb",
   "metadata": {
    "tags": []
   },
   "outputs": [
    {
     "name": "stdout",
     "output_type": "stream",
     "text": [
      "Overwriting auto display for cadquery Workplane and Shape\n"
     ]
    }
   ],
   "source": [
    "from math import radians, sin, sqrt\n",
    "\n",
    "import cadquery as cq\n",
    "import ipywidgets as widgets\n",
    "import jupyter_cadquery as jcq\n",
    "from jupyter_cadquery.replay import replay, show"
   ]
  },
  {
   "cell_type": "code",
   "execution_count": 16,
   "id": "7bd5457d-6649-4c4c-9c17-40a558840aa9",
   "metadata": {},
   "outputs": [
    {
     "data": {
      "application/vnd.jupyter.widget-view+json": {
       "model_id": "b586bf1ef0cc4bbebd23fcd920a877c7",
       "version_major": 2,
       "version_minor": 0
      },
      "text/plain": [
       "Checkbox(value=False, description='Enable Replay')"
      ]
     },
     "metadata": {},
     "output_type": "display_data"
    },
    {
     "data": {
      "application/vnd.jupyter.widget-view+json": {
       "model_id": "fbcfec4820644efdbae74ccb5fbf3c24",
       "version_major": 2,
       "version_minor": 0
      },
      "text/plain": [
       "Output()"
      ]
     },
     "metadata": {},
     "output_type": "display_data"
    }
   ],
   "source": [
    "jcq.set_defaults(\n",
    "    control=\"orbit\",\n",
    "    axes=True,\n",
    "    axes0=True,\n",
    "    grid=(True, False, False),\n",
    "    glass=True,\n",
    "    theme=\"browser\",\n",
    ")\n",
    "\n",
    "# open_viewer(\"Cadquery\")\n",
    "replay_box = widgets.Checkbox(False, description=\"Enable Replay\")\n",
    "out = widgets.Output()\n",
    "display(replay_box)\n",
    "display(out)\n",
    "\n",
    "\n",
    "@out.capture()\n",
    "def changed(e):\n",
    "    if e[\"new\"]:\n",
    "        jcq.replay.enable_replay(warning=False)\n",
    "    else:\n",
    "        jcq.replay.disable_replay()\n",
    "\n",
    "\n",
    "replay_box.observe(changed, names=\"value\")"
   ]
  },
  {
   "cell_type": "code",
   "execution_count": 8,
   "id": "74eff3da-9b3e-4ea9-b492-474aadbc3e76",
   "metadata": {},
   "outputs": [
    {
     "name": "stdout",
     "output_type": "stream",
     "text": [
      "Use the multi select box below to select one or more steps you want to examine\n"
     ]
    },
    {
     "data": {
      "application/vnd.jupyter.widget-view+json": {
       "model_id": "85f2926f6b77403386c1348f6e2e1bc4",
       "version_major": 2,
       "version_minor": 0
      },
      "text/plain": [
       "HBox(children=(SelectMultiple(_dom_classes=('monospace',), index=(6,), layout=Layout(width='600px'), options=(…"
      ]
     },
     "metadata": {},
     "output_type": "display_data"
    },
    {
     "data": {
      "text/plain": [
       "<jupyter_cadquery.replay.Replay at 0x7fe90f3480a0>"
      ]
     },
     "execution_count": 8,
     "metadata": {},
     "output_type": "execute_result"
    }
   ],
   "source": [
    "teeth_pts = [\n",
    "    (0.747183, 0),\n",
    "    (0.647876, 0.037218),\n",
    "    (0.598311, 0.130528),\n",
    "    (0.578556, 0.238423),\n",
    "    (0.547158, 0.343077),\n",
    "    (0.504649, 0.443762),\n",
    "    (0.451556, 0.53975),\n",
    "    (0.358229, 0.636924),\n",
    "    (0.2484, 0.707276),\n",
    "    (0.127259, 0.750044),\n",
    "    (0, 0.76447),\n",
    "    (-0.127259, 0.750044),\n",
    "    (-0.2484, 0.707276),\n",
    "    (-0.358229, 0.636924),\n",
    "    (-0.451556, 0.53975),\n",
    "    (-0.504797, 0.443762),\n",
    "    (-0.547291, 0.343077),\n",
    "    (-0.578605, 0.238423),\n",
    "    (-0.598311, 0.130528),\n",
    "    (-0.648009, 0.037218),\n",
    "    (-0.747183, 0),\n",
    "]\n",
    "\n",
    "one_teeth = (\n",
    "    cq.Workplane(\"XY\")\n",
    "    .moveTo(teeth_pts[0][0], -0.5)\n",
    "    .lineTo(teeth_pts[0][0], teeth_pts[0][1])\n",
    "    .spline(teeth_pts)\n",
    "    .lineTo(-teeth_pts[0][0], -0.5)\n",
    "    .close()\n",
    ")\n",
    "\n",
    "replay(one_teeth.extrude(-1).polyline(teeth_pts))"
   ]
  },
  {
   "cell_type": "code",
   "execution_count": 9,
   "id": "b0ddee15-e6f7-4d0d-b869-16e2a1c9dc42",
   "metadata": {},
   "outputs": [
    {
     "name": "stdout",
     "output_type": "stream",
     "text": [
      "Use the multi select box below to select one or more steps you want to examine\n"
     ]
    },
    {
     "data": {
      "application/vnd.jupyter.widget-view+json": {
       "model_id": "45b57814a5024e9ebf4950766069895b",
       "version_major": 2,
       "version_minor": 0
      },
      "text/plain": [
       "HBox(children=(SelectMultiple(_dom_classes=('monospace',), index=(0,), layout=Layout(width='600px'), options=(…"
      ]
     },
     "metadata": {},
     "output_type": "display_data"
    },
    {
     "data": {
      "text/plain": [
       "<jupyter_cadquery.replay.Replay at 0x7fe90c0c2b60>"
      ]
     },
     "execution_count": 9,
     "metadata": {},
     "output_type": "execute_result"
    }
   ],
   "source": [
    "teeth = cq.importers.importDXF(\"gt2_27teeth.dxf\")\n",
    "\n",
    "replay(teeth)"
   ]
  },
  {
   "cell_type": "code",
   "execution_count": 10,
   "id": "fb240380-df75-43ba-9882-e288436b8050",
   "metadata": {},
   "outputs": [
    {
     "name": "stdout",
     "output_type": "stream",
     "text": [
      "Use the multi select box below to select one or more steps you want to examine\n"
     ]
    },
    {
     "data": {
      "application/vnd.jupyter.widget-view+json": {
       "model_id": "5fda9220d16b4f2f81307bb61a6737c8",
       "version_major": 2,
       "version_minor": 0
      },
      "text/plain": [
       "HBox(children=(SelectMultiple(_dom_classes=('monospace',), index=(15,), layout=Layout(width='600px'), options=…"
      ]
     },
     "metadata": {},
     "output_type": "display_data"
    },
    {
     "name": "stdout",
     "output_type": "stream",
     "text": [
      "Use the multi select box below to select one or more steps you want to examine\n"
     ]
    },
    {
     "data": {
      "application/vnd.jupyter.widget-view+json": {
       "model_id": "3b177e8223d34d419da3f959eb77fbf6",
       "version_major": 2,
       "version_minor": 0
      },
      "text/plain": [
       "HBox(children=(SelectMultiple(_dom_classes=('monospace',), index=(11,), layout=Layout(width='600px'), options=…"
      ]
     },
     "metadata": {},
     "output_type": "display_data"
    },
    {
     "data": {
      "text/plain": [
       "<jupyter_cadquery.replay.Replay at 0x7fe90f3fc760>"
      ]
     },
     "execution_count": 10,
     "metadata": {},
     "output_type": "execute_result"
    }
   ],
   "source": [
    "flange = 19\n",
    "flange_thickness = 1.8\n",
    "r = (\n",
    "    cq.Workplane(\"XY\")\n",
    "    .add(teeth)\n",
    "    .wires()\n",
    "    .toPending()\n",
    "    .extrude(6)\n",
    "    .faces(\">Z\")\n",
    "    .circle(flange / 2)\n",
    "    .extrude(flange_thickness)\n",
    "    .faces(\">Z[1]\")\n",
    "    .edges(\"not %Line\")\n",
    "    .chamfer(0.5)\n",
    "    .faces(\"<Z\")\n",
    "    .workplane()\n",
    "    .cboreHole(9, 10, 4 - flange_thickness - 0.2)\n",
    "    .faces(\">Z\")\n",
    "    .workplane()\n",
    "    .polygon(3, 10 + 2, forConstruction=True)\n",
    "    .vertices()\n",
    "    .hole(2 - 0.2)\n",
    ")\n",
    "\n",
    "r2 = (\n",
    "    cq.Workplane(\"XY\")\n",
    "    .circle(flange / 2)\n",
    "    .extrude(1.5)\n",
    "    .faces(\">Z\")\n",
    "    .edges()\n",
    "    .chamfer(0.5)\n",
    "    .faces(\">Z\")\n",
    "    .hole(10)\n",
    "    .faces(\">Z\")\n",
    "    .workplane()\n",
    "    .polygon(3, 10 + 2, forConstruction=True)\n",
    "    .vertices()\n",
    "    .hole(2)\n",
    ")\n",
    "\n",
    "replay(r)\n",
    "replay(r2)"
   ]
  },
  {
   "cell_type": "code",
   "execution_count": 12,
   "id": "bb7a0175-59ed-4f2f-8572-4eba192bf59a",
   "metadata": {},
   "outputs": [
    {
     "name": "stdout",
     "output_type": "stream",
     "text": [
      "Use the multi select box below to select one or more steps you want to examine\n"
     ]
    },
    {
     "data": {
      "application/vnd.jupyter.widget-view+json": {
       "model_id": "d5d7762877134bae90edd08b1d2a0269",
       "version_major": 2,
       "version_minor": 0
      },
      "text/plain": [
       "HBox(children=(SelectMultiple(_dom_classes=('monospace',), index=(10,), layout=Layout(width='600px'), options=…"
      ]
     },
     "metadata": {},
     "output_type": "display_data"
    }
   ],
   "source": [
    "mount = (\n",
    "    cq.Workplane(\"XY\")\n",
    "    .box(50, 20, 4)\n",
    "    .faces(\">Z\")\n",
    "    .circle((5 + 2) / 2)\n",
    "    .extrude(2)\n",
    "    .faces(\">Z\")\n",
    "    .workplane()\n",
    "    .hole(4.5)\n",
    "    .faces(\"<Z\")\n",
    "    .workplane()\n",
    "    .pushPoints([(-20, 0), (20, 0)])\n",
    "    .hole(5)\n",
    ")\n",
    "\n",
    "replay(mount)\n",
    "cq.exporters.export(mount, \"/tmp/x.stl\")"
   ]
  },
  {
   "cell_type": "code",
   "execution_count": 7,
   "id": "aa9fa136-929d-4fbd-ab58-a7043a880585",
   "metadata": {},
   "outputs": [],
   "source": [
    "cq.exporters.export(r.add(r2.translate([20, 0])), \"/tmp/x.stl\")"
   ]
  },
  {
   "cell_type": "code",
   "execution_count": null,
   "id": "6c20ba13-12cc-4374-8dc0-fd5a46cb6a58",
   "metadata": {},
   "outputs": [],
   "source": []
  }
 ],
 "metadata": {
  "kernelspec": {
   "display_name": "Python 3 (ipykernel)",
   "language": "python",
   "name": "python3"
  },
  "language_info": {
   "codemirror_mode": {
    "name": "ipython",
    "version": 3
   },
   "file_extension": ".py",
   "mimetype": "text/x-python",
   "name": "python",
   "nbconvert_exporter": "python",
   "pygments_lexer": "ipython3",
   "version": "3.10.8"
  }
 },
 "nbformat": 4,
 "nbformat_minor": 5
}
