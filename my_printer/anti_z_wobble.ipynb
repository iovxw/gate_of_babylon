{
 "cells": [
  {
   "cell_type": "code",
   "execution_count": 3,
   "id": "71e5eb30-e0d6-409b-8483-16320e64786c",
   "metadata": {
    "tags": []
   },
   "outputs": [],
   "source": [
    "from math import sin, radians, sqrt\n",
    "\n",
    "import cadquery as cq\n",
    "from cadquery import exporters\n",
    "from jupyter_cadquery.replay import (replay, enable_replay, disable_replay, reset_replay)\n",
    "from jupyter_cadquery import show, set_sidecar, set_defaults, open_viewer\n",
    "\n",
    "import ipywidgets as widgets"
   ]
  },
  {
   "cell_type": "code",
   "execution_count": 4,
   "id": "52834c87-38ea-401e-9722-fa04f116588f",
   "metadata": {},
   "outputs": [
    {
     "data": {
      "application/vnd.jupyter.widget-view+json": {
       "model_id": "efc14b5b507b47278f4fd3b6176dc67f",
       "version_major": 2,
       "version_minor": 0
      },
      "text/plain": [
       "Checkbox(value=False, description='Enable Replay')"
      ]
     },
     "metadata": {},
     "output_type": "display_data"
    },
    {
     "data": {
      "application/vnd.jupyter.widget-view+json": {
       "model_id": "4c123ae36c8e47dd95da4e905ea4d0f6",
       "version_major": 2,
       "version_minor": 0
      },
      "text/plain": [
       "Output()"
      ]
     },
     "metadata": {},
     "output_type": "display_data"
    }
   ],
   "source": [
    "open_viewer(\"adapter\")\n",
    "replay_box = widgets.Checkbox(False, description='Enable Replay')\n",
    "out = widgets.Output()\n",
    "display(replay_box)\n",
    "display(out)\n",
    "\n",
    "@out.capture()\n",
    "def changed(e):\n",
    "    if e[\"new\"]:\n",
    "        enable_replay(warning=False)\n",
    "    else:\n",
    "        disable_replay()\n",
    "\n",
    "replay_box.observe(changed, names='value')"
   ]
  },
  {
   "cell_type": "code",
   "execution_count": null,
   "id": "51e8285c-f4ee-4a9c-8ace-cc04ce0fc228",
   "metadata": {},
   "outputs": [],
   "source": [
    "# 25 15 40 d=6.5"
   ]
  },
  {
   "cell_type": "code",
   "execution_count": 40,
   "id": "f3175b3e-a97b-4a21-a70f-45cbf338f8d1",
   "metadata": {},
   "outputs": [
    {
     "name": "stdout",
     "output_type": "stream",
     "text": [
      "Use the multi select box below to select one or more steps you want to examine\n"
     ]
    },
    {
     "data": {
      "application/vnd.jupyter.widget-view+json": {
       "model_id": "45f9b2bf00a64fa79ccdda2030e07b7a",
       "version_major": 2,
       "version_minor": 0
      },
      "text/plain": [
       "HBox(children=(SelectMultiple(_dom_classes=('monospace',), index=(8,), layout=Layout(width='600px'), options=(…"
      ]
     },
     "metadata": {},
     "output_type": "display_data"
    },
    {
     "data": {
      "text/plain": [
       "<jupyter_cadquery.replay.Replay at 0x7ff373fc9160>"
      ]
     },
     "execution_count": 40,
     "metadata": {},
     "output_type": "execute_result"
    }
   ],
   "source": [
    "r = (\n",
    "    cq.Workplane(\"XY\")\n",
    "    .box(25, 15, 40)\n",
    "    .faces(\">Y\")\n",
    "    .workplane(centerOption=\"CenterOfMass\")\n",
    "    .hole(7)\n",
    ")\n",
    "d=20\n",
    "x = (\n",
    "    cq.Workplane(\"XY\")\n",
    "    .box(d*2,d*2,d).translate((0,0,-d))\n",
    "    .cut(cq.Workplane(\"XY\").sphere(d))\n",
    ")\n",
    "replay(r.cut(x))"
   ]
  },
  {
   "cell_type": "code",
   "execution_count": 41,
   "id": "48c8a830-9060-4e91-bd48-bdec2fcfc18d",
   "metadata": {},
   "outputs": [],
   "source": [
    "exporters.export(r.cut(x), '/tmp/x.stl')"
   ]
  },
  {
   "cell_type": "code",
   "execution_count": null,
   "id": "2ace47f2-7d84-49ef-9b73-370a9c15e786",
   "metadata": {},
   "outputs": [],
   "source": []
  }
 ],
 "metadata": {
  "kernelspec": {
   "display_name": "Python 3 (ipykernel)",
   "language": "python",
   "name": "python3"
  },
  "language_info": {
   "codemirror_mode": {
    "name": "ipython",
    "version": 3
   },
   "file_extension": ".py",
   "mimetype": "text/x-python",
   "name": "python",
   "nbconvert_exporter": "python",
   "pygments_lexer": "ipython3",
   "version": "3.9.10"
  }
 },
 "nbformat": 4,
 "nbformat_minor": 5
}
