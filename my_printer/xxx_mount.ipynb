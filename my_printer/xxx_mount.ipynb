{
 "cells": [
  {
   "cell_type": "code",
   "execution_count": 1,
   "id": "3b3c2af9-17aa-49c7-b004-aa2de1e424bf",
   "metadata": {
    "tags": []
   },
   "outputs": [
    {
     "name": "stdout",
     "output_type": "stream",
     "text": [
      "Overwriting auto display for cadquery Workplane and Shape\n"
     ]
    },
    {
     "name": "stderr",
     "output_type": "stream",
     "text": [
      "DeprecationWarning: jupyter_cadquery.cadquery is deprecated, please use jupyter_cadquery directly for import and jupyter_cadquery.replay for replay functions\n"
     ]
    }
   ],
   "source": [
    "import cadquery as cq\n",
    "from cadquery import exporters\n",
    "from jupyter_cadquery.cadquery import (PartGroup, Part, Edges, Faces, Vertices, show, \n",
    "                                       replay, enable_replay, disable_replay, reset_replay)\n",
    "from jupyter_cadquery import set_sidecar, set_defaults\n",
    "\n",
    "from math import sin, radians, sqrt\n",
    "\n",
    "import ipywidgets as widgets"
   ]
  },
  {
   "cell_type": "code",
   "execution_count": 2,
   "id": "52d97f87-1294-4c93-8f3f-082d8a4c2835",
   "metadata": {},
   "outputs": [
    {
     "name": "stderr",
     "output_type": "stream",
     "text": [
      "DeprecationWarning: Using bool for grid is deprecated, please use (xy-grid, xz-grid. yz-grid)\n",
      "DeprecationWarning: set_sidecar(title, init=False) is deprecated, please use: open_viewer(title='CadQuery', **kwargs)\n"
     ]
    },
    {
     "data": {
      "application/vnd.jupyter.widget-view+json": {
       "model_id": "e52e008b48a0478da1daf491a8551a2d",
       "version_major": 2,
       "version_minor": 0
      },
      "text/plain": [
       "Checkbox(value=False, description='Enable Replay')"
      ]
     },
     "metadata": {},
     "output_type": "display_data"
    },
    {
     "data": {
      "application/vnd.jupyter.widget-view+json": {
       "model_id": "e7ad9b14efec4c91a110ac33cbfec00d",
       "version_major": 2,
       "version_minor": 0
      },
      "text/plain": [
       "Output()"
      ]
     },
     "metadata": {},
     "output_type": "display_data"
    }
   ],
   "source": [
    "set_defaults(axes=True, grid=True, axes0=True, timeit=False, cad_width=640, height=800)\n",
    "\n",
    "set_sidecar(\"mount\", init=True)\n",
    "replay_box = widgets.Checkbox(False, description='Enable Replay')\n",
    "out = widgets.Output()\n",
    "display(replay_box)\n",
    "display(out)\n",
    "\n",
    "@out.capture()\n",
    "def changed(e):\n",
    "    if e[\"new\"]:\n",
    "        enable_replay(warning=False)\n",
    "    else:\n",
    "        disable_replay()\n",
    "\n",
    "replay_box.observe(changed, names='value')"
   ]
  },
  {
   "cell_type": "code",
   "execution_count": 12,
   "id": "2c018442-f49b-49e5-8790-eb7177568529",
   "metadata": {},
   "outputs": [
    {
     "name": "stdout",
     "output_type": "stream",
     "text": [
      "Replay is not enabled. To do so call 'enable_replay()'. Falling back to 'show()'\n",
      " \n"
     ]
    },
    {
     "name": "stderr",
     "output_type": "stream",
     "text": [
      "RuntimeWarning: cad_width has to be >= 640, setting to 640\n"
     ]
    },
    {
     "data": {
      "text/plain": [
       "<cad_viewer_widget.widget.CadViewer at 0x7f88c05fe9d0>"
      ]
     },
     "execution_count": 12,
     "metadata": {},
     "output_type": "execute_result"
    }
   ],
   "source": [
    "d = 7-0.4\n",
    "h = 25\n",
    "thickness = 2\n",
    "\n",
    "r = (\n",
    "    cq.Workplane(\"XY\")\n",
    "    .rect(15+thickness, 15+thickness, centered=False)\n",
    "    .workplane()\n",
    "    .center(-d/2+thickness, -d/2+thickness)\n",
    "    .circle(d/2+thickness)\n",
    "    .extrude(h+thickness)\n",
    "    .faces(\">Z\")\n",
    "    .workplane()\n",
    "    .circle(d/2)\n",
    "    .cutThruAll()\n",
    "    .faces(\">Z\")\n",
    "    .vertices(\">X and >Y\")\n",
    "    .workplane(centerOption=\"CenterOfMass\")\n",
    "    .move(-15, -15)\n",
    "    .rect(15, 15, centered=False)\n",
    "    .cutBlind(-h)\n",
    ")\n",
    "\n",
    "replay(r)"
   ]
  },
  {
   "cell_type": "code",
   "execution_count": 13,
   "id": "aa9fa136-929d-4fbd-ab58-a7043a880585",
   "metadata": {},
   "outputs": [],
   "source": [
    "exporters.export(r, '/tmp/x.stl')"
   ]
  },
  {
   "cell_type": "code",
   "execution_count": null,
   "id": "1e575951-92d0-4e67-853d-7a7faa0adf1f",
   "metadata": {},
   "outputs": [],
   "source": []
  }
 ],
 "metadata": {
  "kernelspec": {
   "display_name": "Python 3 (ipykernel)",
   "language": "python",
   "name": "python3"
  },
  "language_info": {
   "codemirror_mode": {
    "name": "ipython",
    "version": 3
   },
   "file_extension": ".py",
   "mimetype": "text/x-python",
   "name": "python",
   "nbconvert_exporter": "python",
   "pygments_lexer": "ipython3",
   "version": "3.9.10"
  }
 },
 "nbformat": 4,
 "nbformat_minor": 5
}
