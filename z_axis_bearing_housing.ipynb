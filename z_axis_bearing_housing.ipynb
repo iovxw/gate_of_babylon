{
 "cells": [
  {
   "cell_type": "code",
   "execution_count": 1,
   "id": "3b3c2af9-17aa-49c7-b004-aa2de1e424bf",
   "metadata": {
    "tags": []
   },
   "outputs": [
    {
     "name": "stdout",
     "output_type": "stream",
     "text": [
      "Overwriting auto display for cadquery Workplane and Shape\n"
     ]
    }
   ],
   "source": [
    "import cadquery as cq\n",
    "from cadquery import exporters\n",
    "from jupyter_cadquery.cadquery import (PartGroup, Part, Edges, Faces, Vertices, show, \n",
    "                                       replay, enable_replay, disable_replay, reset_replay)\n",
    "from jupyter_cadquery import set_sidecar, set_defaults\n",
    "\n",
    "from math import sin, radians, sqrt\n",
    "\n",
    "import ipywidgets as widgets"
   ]
  },
  {
   "cell_type": "code",
   "execution_count": 2,
   "id": "52d97f87-1294-4c93-8f3f-082d8a4c2835",
   "metadata": {},
   "outputs": [
    {
     "data": {
      "text/html": [
       "<style>\n",
       ".scroll-area {\n",
       "    overflow: scroll !important;\n",
       "    border: unset !important;\n",
       "}\n",
       "\n",
       ".mac-scrollbar::-webkit-scrollbar {\n",
       "    width: 5px !important;\n",
       "    height: 5px !important;\n",
       "}\n",
       "\n",
       ".mac-scrollbar::-webkit-scrollbar-track {\n",
       "    background-color: transparent !important;\n",
       "}\n",
       "\n",
       ".mac-scrollbar .widget-html-content {\n",
       "    overflow-x: visible;\n",
       "    overflow-y: visible;\n",
       "}\n",
       "\n",
       ".tab-content-no-padding .widget-tab-contents {\n",
       "    overflow-x: visible !important;\n",
       "    overflow-y: visible !important;\n",
       "    padding-bottom: 0px !important;\n",
       "}\n",
       "\n",
       ".view_renderer {\n",
       "    border: 1px solid var(--jp-border-color1);\n",
       "    margin-top: 3px;\n",
       "    margin-left: 2px;\n",
       "}\n",
       "\n",
       ".view_tree {\n",
       "    padding: 0px !important;\n",
       "}\n",
       "\n",
       ".view_axes {\n",
       "    width: 60px !important;\n",
       "    margin-left: 5px !important;\n",
       "}\n",
       "\n",
       ".view_zero {\n",
       "    width: 55px !important;\n",
       "}\n",
       "\n",
       ".view_grid {\n",
       "    width: 56px !important;\n",
       "}\n",
       "\n",
       ".view_ortho {\n",
       "    width: 64px !important;\n",
       "}\n",
       "\n",
       ".view_transparent {\n",
       "    width: 125px !important;\n",
       "}\n",
       "\n",
       ".view_black_edges {\n",
       "    width: 105px !important;\n",
       "}\n",
       "\n",
       ".view_button {\n",
       "    padding: 0px !important;\n",
       "}\n",
       "\n",
       ".view_button>img {\n",
       "    height: 28px;\n",
       "    width: 36px;\n",
       "}\n",
       "\n",
       ".node_entry_wrap {\n",
       "    white-space: pre;\n",
       "}\n",
       "\n",
       ".node_entry {\n",
       "    white-space: nowrap;\n",
       "    padding-top: 4px;\n",
       "}\n",
       "\n",
       ".t-caret {\n",
       "    cursor: pointer;\n",
       "    -webkit-user-select: none;\n",
       "    /* Safari 3.1+ */\n",
       "    -moz-user-select: none;\n",
       "    /* Firefox 2+ */\n",
       "    -ms-user-select: none;\n",
       "    /* IE 10+ */\n",
       "    user-select: none;\n",
       "}\n",
       "\n",
       ".t-caret-down::before {\n",
       "    -ms-transform: rotate(90deg);\n",
       "    /* IE 9 */\n",
       "    -webkit-transform: rotate(90deg);\n",
       "    /* Safari */\n",
       "    transform: rotate(90deg);\n",
       "}\n",
       "\n",
       ".toplevel {\n",
       "    list-style-type: none;\n",
       "    padding-inline-start: 0px;\n",
       "}\n",
       "\n",
       ".nested {\n",
       "    display: none;\n",
       "    list-style-type: none;\n",
       "    padding-inline-start: 16px;\n",
       "}\n",
       "\n",
       ".active {\n",
       "    display: block;\n",
       "}\n",
       "\n",
       ".icon {\n",
       "    width: 28px !important;\n",
       "    height: 22px !important;\n",
       "    padding-right: 2px;\n",
       "    vertical-align: middle;\n",
       "}\n",
       "\n",
       ".indent {\n",
       "    margin-left: 12px;\n",
       "}\n",
       "\n",
       ".tree_label {\n",
       "    padding-left: 2px;\n",
       "    font-size: 14px;\n",
       "}\n",
       "\n",
       ".scroll_down {\n",
       "    display: flex;\n",
       "    flex-direction: column-reverse;\n",
       "}\n",
       "\n",
       ".small_table {\n",
       "    line-height: 14px;\n",
       "}\n",
       "\n",
       ".monospace select {\n",
       "    font-family: monospace;\n",
       "}\n",
       "\n",
       "        .t-caret::before {\n",
       "            content: u\"▶\";\n",
       "            font-size: 12px;\n",
       "            color: \"#080808\";\n",
       "            display: inline-block;\n",
       "            margin-right: 2px;\n",
       "        }\n",
       "\n",
       "        .mac-scrollbar::-webkit-scrollbar-thumb {\n",
       "            background-color: rgba(0, 0, 0, 0.2) !important;\n",
       "            border-radius: 100px !important;\n",
       "        }\n",
       "\n",
       "        .mac-scrollbar::-webkit-scrollbar-thumb:hover {\n",
       "            background: rgba(0, 0, 0, 0.4) !important;\n",
       "        }\n",
       "\n",
       "        .mac-scrollbar::-webkit-scrollbar-thumb:active {\n",
       "            background: #181818 !important;\n",
       "        }\n",
       "\n",
       "        .mac-scrollbar::-webkit-scrollbar-corner {\n",
       "            background: white;\n",
       "        }\n",
       "\n",
       "        .view_output {\n",
       "            border: 1px solid var(--jp-border-color1);\n",
       "            margin: 2px 2px 2px 2px !important;\n",
       "            padding-right: 1px !important;\n",
       "            background-color: white;\n",
       "        }\n",
       "    </style>"
      ],
      "text/plain": [
       "<IPython.core.display.HTML object>"
      ]
     },
     "metadata": {},
     "output_type": "display_data"
    },
    {
     "data": {
      "application/vnd.jupyter.widget-view+json": {
       "model_id": "628e7b2c94bc48a190ac31fda927aa24",
       "version_major": 2,
       "version_minor": 0
      },
      "text/plain": [
       "Checkbox(value=False, description='Enable Replay')"
      ]
     },
     "metadata": {},
     "output_type": "display_data"
    },
    {
     "data": {
      "application/vnd.jupyter.widget-view+json": {
       "model_id": "73d122c37c5a4312b4d076aaf3b3df53",
       "version_major": 2,
       "version_minor": 0
      },
      "text/plain": [
       "Output()"
      ]
     },
     "metadata": {},
     "output_type": "display_data"
    }
   ],
   "source": [
    "set_defaults(axes=True, grid=True, axes0=True, timeit=False, cad_width=640, height=800)\n",
    "\n",
    "set_sidecar(\"Z\", init=True)\n",
    "replay_box = widgets.Checkbox(False, description='Enable Replay')\n",
    "out = widgets.Output()\n",
    "display(replay_box)\n",
    "display(out)\n",
    "\n",
    "@out.capture()\n",
    "def changed(e):\n",
    "    if e[\"new\"]:\n",
    "        enable_replay(warning=False)\n",
    "    else:\n",
    "        disable_replay()\n",
    "\n",
    "replay_box.observe(changed, names='value')"
   ]
  },
  {
   "cell_type": "code",
   "execution_count": 3,
   "id": "4a740975-8904-411c-80f1-8645fd343a8a",
   "metadata": {},
   "outputs": [],
   "source": [
    "d1 = 11.8\n",
    "\n",
    "linear_rod_spacing = 99\n",
    "linear_rod_d = 12\n",
    "linear_rod_bearing_d = 21\n",
    "\n",
    "screw_r = 8.2/2\n",
    "\n",
    "bearing_d = 22\n",
    "bearing_h = 7\n",
    "bearing_y_offset = 1\n",
    "\n",
    "min_thickness = 4"
   ]
  },
  {
   "cell_type": "code",
   "execution_count": 4,
   "id": "7cc21e7c-e405-45db-a115-24f1e4c29d20",
   "metadata": {},
   "outputs": [
    {
     "name": "stdout",
     "output_type": "stream",
     "text": [
      "Replay is not enabled. To do so call 'enable_replay()'. Falling back to 'show()'\n",
      "Done, using side car 'Z'\n"
     ]
    },
    {
     "name": "stderr",
     "output_type": "stream",
     "text": [
      "RuntimeWarning: cad_width has to be >= 640, setting to 640\n"
     ]
    },
    {
     "data": {
      "text/plain": [
       "<jupyter_cadquery.cad_display.CadqueryDisplay at 0x7f24c8ff9a60>"
      ]
     },
     "execution_count": 4,
     "metadata": {},
     "output_type": "execute_result"
    }
   ],
   "source": [
    "def bearing_void(h1, h2=None):\n",
    "    if h2 == None:\n",
    "        h2 = h1\n",
    "    return (\n",
    "        cq.Workplane(\"XY\")\n",
    "        .cylinder(bearing_h, bearing_d/2)\n",
    "        .intersect(cq.Workplane(\"XY\").sphere(bearing_d/2))\n",
    "        .faces(\">Z\")\n",
    "        .workplane()\n",
    "        .cylinder(h1, bearing_d/2-3, centered=(True,True,False))\n",
    "        .faces(\"<Z\")\n",
    "        .workplane()\n",
    "        .cylinder(h2, screw_r+1, centered=(True,True,False))\n",
    "    )\n",
    "\n",
    "replay(bearing_void(10))"
   ]
  },
  {
   "cell_type": "code",
   "execution_count": 5,
   "id": "fb4644ab-4cff-4584-a039-b89787a03a28",
   "metadata": {},
   "outputs": [
    {
     "name": "stdout",
     "output_type": "stream",
     "text": [
      "Replay is not enabled. To do so call 'enable_replay()'. Falling back to 'show()'\n",
      "Done, using side car 'Z'\n"
     ]
    },
    {
     "name": "stderr",
     "output_type": "stream",
     "text": [
      "RuntimeWarning: cad_width has to be >= 640, setting to 640\n"
     ]
    },
    {
     "data": {
      "text/plain": [
       "<jupyter_cadquery.cad_display.CadqueryDisplay at 0x7f24c8ff9a60>"
      ]
     },
     "execution_count": 5,
     "metadata": {},
     "output_type": "execute_result"
    }
   ],
   "source": [
    "m5_r = 5/2\n",
    "m5_hole_depth = 7\n",
    "m5_head_r = 8.5/2\n",
    "m5_nut = (10.4, 6)\n",
    "\n",
    "def m5_hole(h):\n",
    "    return (\n",
    "        cq.Workplane(\"XZ\")\n",
    "        .cylinder(m5_hole_depth, m5_r)\n",
    "        .faces(\">Y\")\n",
    "        .workplane()\n",
    "        .cylinder(h, m5_head_r, centered=(True, True, False))\n",
    "        .faces(\"<Y\")\n",
    "        .workplane()\n",
    "        .box(m5_nut[0], m5_nut[1], h, centered=(True,True,False))\n",
    "    )\n",
    "\n",
    "replay(m5_hole(10))"
   ]
  },
  {
   "cell_type": "code",
   "execution_count": 6,
   "id": "8a36ba23-a40a-4b15-bcd0-c37c7c9abf8c",
   "metadata": {},
   "outputs": [
    {
     "name": "stdout",
     "output_type": "stream",
     "text": [
      "Replay is not enabled. To do so call 'enable_replay()'. Falling back to 'show()'\n",
      "Done, using side car 'Z'\n"
     ]
    },
    {
     "name": "stderr",
     "output_type": "stream",
     "text": [
      "RuntimeWarning: cad_width has to be >= 640, setting to 640\n"
     ]
    },
    {
     "data": {
      "text/plain": [
       "<jupyter_cadquery.cad_display.CadqueryDisplay at 0x7f24c8ff9a60>"
      ]
     },
     "execution_count": 6,
     "metadata": {},
     "output_type": "execute_result"
    }
   ],
   "source": [
    "body_y = bearing_d+bearing_y_offset+min_thickness*2\n",
    "x_extra = (body_y-linear_rod_d)/2\n",
    "body_x = x_extra*2+linear_rod_d+linear_rod_spacing\n",
    "body_z = bearing_h + min_thickness*2\n",
    "\n",
    "body = (\n",
    "    cq.Workplane(\"XY\")\n",
    "    .box(body_x, body_y, body_z)\n",
    "    .edges()\n",
    "    .chamfer(1)\n",
    "    .cut(bearing_void(body_z).translate((0, bearing_y_offset)))\n",
    "    .faces(\">Z\")\n",
    "    .workplane()\n",
    "    .pushPoints([(-linear_rod_spacing/2, 0), (linear_rod_spacing/2, 0)])\n",
    "    .hole(linear_rod_d)\n",
    ")\n",
    "\n",
    "for x in [bearing_d/2+m5_r+5,\n",
    "          linear_rod_spacing/2-linear_rod_d-1.5,\n",
    "          linear_rod_spacing/2+linear_rod_d+1.5]:\n",
    "    for r in [1, -1]:\n",
    "        body = body.cut(m5_hole(body_y).translate((x*r, 0, 0)))\n",
    "\n",
    "replay(body)"
   ]
  },
  {
   "cell_type": "code",
   "execution_count": 63,
   "id": "b9b0572c-e4b2-4d30-8577-fa97f4c468f3",
   "metadata": {},
   "outputs": [
    {
     "name": "stdout",
     "output_type": "stream",
     "text": [
      "Done, using side car 'Z'\n"
     ]
    },
    {
     "data": {
      "text/plain": [
       "<jupyter_cadquery.cad_display.CadqueryDisplay at 0x7fde69f2b5e0>"
      ]
     },
     "execution_count": 63,
     "metadata": {},
     "output_type": "execute_result"
    }
   ],
   "source": [
    "(a, b) = body.faces(\">Y\").workplane(offset = -body_y/2).split(True, True).all()\n",
    "\n",
    "show(a.translate((0, 10)) + b.translate((0, -10)))"
   ]
  },
  {
   "cell_type": "code",
   "execution_count": 51,
   "id": "aa9fa136-929d-4fbd-ab58-a7043a880585",
   "metadata": {},
   "outputs": [],
   "source": [
    "exporters.export(a, '/tmp/a.stl')\n",
    "exporters.export(b, '/tmp/b.stl')"
   ]
  },
  {
   "cell_type": "code",
   "execution_count": null,
   "id": "d257a2cb-b92e-495f-96ac-6152660d2ea9",
   "metadata": {},
   "outputs": [],
   "source": []
  }
 ],
 "metadata": {
  "kernelspec": {
   "display_name": "Python 3 (ipykernel)",
   "language": "python",
   "name": "python3"
  },
  "language_info": {
   "codemirror_mode": {
    "name": "ipython",
    "version": 3
   },
   "file_extension": ".py",
   "mimetype": "text/x-python",
   "name": "python",
   "nbconvert_exporter": "python",
   "pygments_lexer": "ipython3",
   "version": "3.8.5"
  }
 },
 "nbformat": 4,
 "nbformat_minor": 5
}
