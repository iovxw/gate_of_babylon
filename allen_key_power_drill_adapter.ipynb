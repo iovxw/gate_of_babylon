{
 "cells": [
  {
   "cell_type": "code",
   "execution_count": 100,
   "id": "3b3c2af9-17aa-49c7-b004-aa2de1e424bf",
   "metadata": {
    "tags": []
   },
   "outputs": [],
   "source": [
    "import cadquery as cq\n",
    "from cadquery import exporters\n",
    "from jupyter_cadquery.cadquery import (PartGroup, Part, Edges, Faces, Vertices, show, \n",
    "                                       replay, enable_replay, disable_replay, reset_replay)\n",
    "from jupyter_cadquery import set_sidecar, set_defaults\n",
    "\n",
    "from math import sin, radians, sqrt"
   ]
  },
  {
   "cell_type": "code",
   "execution_count": 101,
   "id": "52d97f87-1294-4c93-8f3f-082d8a4c2835",
   "metadata": {},
   "outputs": [
    {
     "data": {
      "text/html": [
       "<style>\n",
       ".scroll-area {\n",
       "    overflow: scroll !important;\n",
       "    border: unset !important;\n",
       "}\n",
       "\n",
       ".mac-scrollbar::-webkit-scrollbar {\n",
       "    width: 5px !important;\n",
       "    height: 5px !important;\n",
       "}\n",
       "\n",
       ".mac-scrollbar::-webkit-scrollbar-track {\n",
       "    background-color: transparent !important;\n",
       "}\n",
       "\n",
       ".mac-scrollbar .widget-html-content {\n",
       "    overflow-x: visible;\n",
       "    overflow-y: visible;\n",
       "}\n",
       "\n",
       ".tab-content-no-padding .widget-tab-contents {\n",
       "    overflow-x: visible !important;\n",
       "    overflow-y: visible !important;\n",
       "    padding-bottom: 0px !important;\n",
       "}\n",
       "\n",
       ".view_renderer {\n",
       "    border: 1px solid var(--jp-border-color1);\n",
       "    margin-top: 3px;\n",
       "    margin-left: 2px;\n",
       "}\n",
       "\n",
       ".view_tree {\n",
       "    padding: 0px !important;\n",
       "}\n",
       "\n",
       ".view_axes {\n",
       "    width: 60px !important;\n",
       "    margin-left: 5px !important;\n",
       "}\n",
       "\n",
       ".view_zero {\n",
       "    width: 55px !important;\n",
       "}\n",
       "\n",
       ".view_grid {\n",
       "    width: 56px !important;\n",
       "}\n",
       "\n",
       ".view_ortho {\n",
       "    width: 64px !important;\n",
       "}\n",
       "\n",
       ".view_transparent {\n",
       "    width: 125px !important;\n",
       "}\n",
       "\n",
       ".view_black_edges {\n",
       "    width: 105px !important;\n",
       "}\n",
       "\n",
       ".view_button {\n",
       "    padding: 0px !important;\n",
       "}\n",
       "\n",
       ".view_button>img {\n",
       "    height: 28px;\n",
       "    width: 36px;\n",
       "}\n",
       "\n",
       ".node_entry_wrap {\n",
       "    white-space: pre;\n",
       "}\n",
       "\n",
       ".node_entry {\n",
       "    white-space: nowrap;\n",
       "    padding-top: 4px;\n",
       "}\n",
       "\n",
       ".t-caret {\n",
       "    cursor: pointer;\n",
       "    -webkit-user-select: none;\n",
       "    /* Safari 3.1+ */\n",
       "    -moz-user-select: none;\n",
       "    /* Firefox 2+ */\n",
       "    -ms-user-select: none;\n",
       "    /* IE 10+ */\n",
       "    user-select: none;\n",
       "}\n",
       "\n",
       ".t-caret-down::before {\n",
       "    -ms-transform: rotate(90deg);\n",
       "    /* IE 9 */\n",
       "    -webkit-transform: rotate(90deg);\n",
       "    /* Safari */\n",
       "    transform: rotate(90deg);\n",
       "}\n",
       "\n",
       ".toplevel {\n",
       "    list-style-type: none;\n",
       "    padding-inline-start: 0px;\n",
       "}\n",
       "\n",
       ".nested {\n",
       "    display: none;\n",
       "    list-style-type: none;\n",
       "    padding-inline-start: 16px;\n",
       "}\n",
       "\n",
       ".active {\n",
       "    display: block;\n",
       "}\n",
       "\n",
       ".icon {\n",
       "    width: 28px !important;\n",
       "    height: 22px !important;\n",
       "    padding-right: 2px;\n",
       "    vertical-align: middle;\n",
       "}\n",
       "\n",
       ".indent {\n",
       "    margin-left: 12px;\n",
       "}\n",
       "\n",
       ".tree_label {\n",
       "    padding-left: 2px;\n",
       "    font-size: 14px;\n",
       "}\n",
       "\n",
       ".scroll_down {\n",
       "    display: flex;\n",
       "    flex-direction: column-reverse;\n",
       "}\n",
       "\n",
       ".small_table {\n",
       "    line-height: 14px;\n",
       "}\n",
       "\n",
       ".monospace select {\n",
       "    font-family: monospace;\n",
       "}\n",
       "\n",
       "        .t-caret::before {\n",
       "            content: u\"▶\";\n",
       "            font-size: 12px;\n",
       "            color: \"#080808\";\n",
       "            display: inline-block;\n",
       "            margin-right: 2px;\n",
       "        }\n",
       "\n",
       "        .mac-scrollbar::-webkit-scrollbar-thumb {\n",
       "            background-color: rgba(0, 0, 0, 0.2) !important;\n",
       "            border-radius: 100px !important;\n",
       "        }\n",
       "\n",
       "        .mac-scrollbar::-webkit-scrollbar-thumb:hover {\n",
       "            background: rgba(0, 0, 0, 0.4) !important;\n",
       "        }\n",
       "\n",
       "        .mac-scrollbar::-webkit-scrollbar-thumb:active {\n",
       "            background: #181818 !important;\n",
       "        }\n",
       "\n",
       "        .mac-scrollbar::-webkit-scrollbar-corner {\n",
       "            background: white;\n",
       "        }\n",
       "\n",
       "        .view_output {\n",
       "            border: 1px solid var(--jp-border-color1);\n",
       "            margin: 2px 2px 2px 2px !important;\n",
       "            padding-right: 1px !important;\n",
       "            background-color: white;\n",
       "        }\n",
       "    </style>"
      ],
      "text/plain": [
       "<IPython.core.display.HTML object>"
      ]
     },
     "metadata": {},
     "output_type": "display_data"
    }
   ],
   "source": [
    "set_defaults(axes=True, grid=True, axes0=True, timeit=False, cad_width=500, height=800)\n",
    "\n",
    "set_sidecar(\"AllenKey\", init=True)"
   ]
  },
  {
   "cell_type": "code",
   "execution_count": 149,
   "id": "4dc52a9b-2407-496e-aba4-54719e6f8b8c",
   "metadata": {
    "tags": []
   },
   "outputs": [
    {
     "name": "stdout",
     "output_type": "stream",
     "text": [
      "\n",
      "Enabling jupyter_cadquery replay\n"
     ]
    }
   ],
   "source": [
    "enable_replay(False)\n",
    "#show_object = replay"
   ]
  },
  {
   "cell_type": "code",
   "execution_count": 146,
   "id": "aa52b26f-f071-41fb-99f8-1297038bbd2b",
   "metadata": {},
   "outputs": [],
   "source": [
    "key_r = 4/2\n",
    "key_r_max = key_r*2/sqrt(3)\n",
    "drill_r = 10/2\n",
    "drill_h = 20\n",
    "extra_h = 30\n",
    "locker_z = 20\n",
    "locker_x = 20\n",
    "size_z = drill_h+locker_z+extra_h"
   ]
  },
  {
   "cell_type": "code",
   "execution_count": 147,
   "id": "8380f48b-0d13-48cb-9cd8-3cc1e0410bad",
   "metadata": {},
   "outputs": [
    {
     "name": "stdout",
     "output_type": "stream",
     "text": [
      "Use the multi select box below to select one or more steps you want to examine\n"
     ]
    },
    {
     "data": {
      "application/vnd.jupyter.widget-view+json": {
       "model_id": "4e98a16061504cb2868d3e84c7efd207",
       "version_major": 2,
       "version_minor": 0
      },
      "text/plain": [
       "HBox(children=(SelectMultiple(_dom_classes=('monospace',), index=(2,), layout=Layout(width='600px'), options=(…"
      ]
     },
     "metadata": {},
     "output_type": "display_data"
    },
    {
     "data": {
      "text/plain": [
       "<jupyter_cadquery.cadquery.replay.Replay at 0x7f1768af0a30>"
      ]
     },
     "execution_count": 147,
     "metadata": {},
     "output_type": "execute_result"
    }
   ],
   "source": [
    "hex_key_void = (\n",
    "    cq.Workplane(\"XY\")\n",
    "    .sketch()\n",
    "    .regularPolygon(key_r_max, 6)\n",
    "    .finalize()\n",
    "    .extrude(extra_h*2)\n",
    "    .workplane(offset = -extra_h)\n",
    "    .box(extra_h, key_r_max*2, key_r*3, centered=(False, True, False))\n",
    ")\n",
    "replay(hex_key_void)"
   ]
  },
  {
   "cell_type": "code",
   "execution_count": 168,
   "id": "abac5988-9c27-4e22-b42d-681edaea984a",
   "metadata": {},
   "outputs": [
    {
     "name": "stdout",
     "output_type": "stream",
     "text": [
      "Done, using side car 'Allenkey'\n"
     ]
    },
    {
     "data": {
      "text/plain": [
       "<jupyter_cadquery.cad_display.CadqueryDisplay at 0x7f176aa76400>"
      ]
     },
     "execution_count": 168,
     "metadata": {},
     "output_type": "execute_result"
    }
   ],
   "source": [
    "splitter = (\n",
    "    cq.Workplane(\"XY\")\n",
    "    .box(locker_x+drill_r, drill_r*2+key_r_max, locker_z+drill_h, centered=False)\n",
    "    .translate((-drill_r, -key_r_max, -drill_h))\n",
    ")\n",
    "\n",
    "show(splitter)"
   ]
  },
  {
   "cell_type": "code",
   "execution_count": 169,
   "id": "45a2c74c-2ebb-46a4-922f-9f05d29afb95",
   "metadata": {},
   "outputs": [
    {
     "name": "stdout",
     "output_type": "stream",
     "text": [
      "Use the multi select box below to select one or more steps you want to examine\n"
     ]
    },
    {
     "data": {
      "application/vnd.jupyter.widget-view+json": {
       "model_id": "64ca8013089f45fea1036ee4f02d3ec0",
       "version_major": 2,
       "version_minor": 0
      },
      "text/plain": [
       "HBox(children=(SelectMultiple(_dom_classes=('monospace',), index=(15,), layout=Layout(width='600px'), options=…"
      ]
     },
     "metadata": {},
     "output_type": "display_data"
    },
    {
     "data": {
      "text/plain": [
       "<jupyter_cadquery.cadquery.replay.Replay at 0x7f173fdebe20>"
      ]
     },
     "execution_count": 169,
     "metadata": {},
     "output_type": "execute_result"
    }
   ],
   "source": [
    "result = (\n",
    "    cq.Workplane(\"XY\")\n",
    "    .sketch()\n",
    "    .regularPolygon(drill_r, 6)\n",
    "    .finalize()\n",
    "    .extrude(size_z)\n",
    "    .translate((0, 0, -drill_h))\n",
    "    .workplane(offset=-size_z/2+drill_h)\n",
    "    .box(locker_x, drill_r*2, locker_z, centered=(False, True, False))\n",
    "    .cut(hex_key_void.translate((0, 0, locker_z/2-key_r*3/2)))\n",
    "    .faces(\">Y\")\n",
    "    .workplane(centerOption=\"CenterOfMass\")\n",
    "    .pushPoints([(0, 5), (0, -5)])\n",
    "    .hole(3)\n",
    "    .split(splitter)\n",
    ")\n",
    "    \n",
    "replay(result)"
   ]
  },
  {
   "cell_type": "code",
   "execution_count": null,
   "id": "aa9fa136-929d-4fbd-ab58-a7043a880585",
   "metadata": {},
   "outputs": [],
   "source": [
    "exporters.export(result, '/tmp/probe.stl')"
   ]
  },
  {
   "cell_type": "code",
   "execution_count": null,
   "id": "d257a2cb-b92e-495f-96ac-6152660d2ea9",
   "metadata": {},
   "outputs": [],
   "source": []
  }
 ],
 "metadata": {
  "kernelspec": {
   "display_name": "Python 3 (ipykernel)",
   "language": "python",
   "name": "python3"
  },
  "language_info": {
   "codemirror_mode": {
    "name": "ipython",
    "version": 3
   },
   "file_extension": ".py",
   "mimetype": "text/x-python",
   "name": "python",
   "nbconvert_exporter": "python",
   "pygments_lexer": "ipython3",
   "version": "3.10.5"
  }
 },
 "nbformat": 4,
 "nbformat_minor": 5
}
