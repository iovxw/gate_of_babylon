{
 "cells": [
  {
   "cell_type": "code",
   "execution_count": 1,
   "id": "94126f25-2531-4dd6-a6ef-bbef139c4beb",
   "metadata": {
    "tags": []
   },
   "outputs": [
    {
     "name": "stdout",
     "output_type": "stream",
     "text": [
      "Overwriting auto display for cadquery Workplane and Shape\n"
     ]
    },
    {
     "name": "stderr",
     "output_type": "stream",
     "text": [
      "DeprecationWarning: jupyter_cadquery.cadquery is deprecated, please use jupyter_cadquery directly for import and jupyter_cadquery.replay for replay functions\n"
     ]
    }
   ],
   "source": [
    "import cadquery as cq\n",
    "from cadquery import exporters\n",
    "from jupyter_cadquery.cadquery import (PartGroup, Part, Edges, Faces, Vertices, show, \n",
    "                                       replay, enable_replay, disable_replay, reset_replay)\n",
    "from jupyter_cadquery import open_viewer, set_defaults\n",
    "\n",
    "from math import sin, radians, sqrt\n",
    "\n",
    "import ipywidgets as widgets"
   ]
  },
  {
   "cell_type": "code",
   "execution_count": 2,
   "id": "7bd5457d-6649-4c4c-9c17-40a558840aa9",
   "metadata": {},
   "outputs": [
    {
     "data": {
      "application/vnd.jupyter.widget-view+json": {
       "model_id": "a4fbdb16f491441b9f44df18777e69e9",
       "version_major": 2,
       "version_minor": 0
      },
      "text/plain": [
       "Checkbox(value=False, description='Enable Replay')"
      ]
     },
     "metadata": {},
     "output_type": "display_data"
    },
    {
     "data": {
      "application/vnd.jupyter.widget-view+json": {
       "model_id": "4c74d3cbc35a4bc18ef491df2da2b65c",
       "version_major": 2,
       "version_minor": 0
      },
      "text/plain": [
       "Output()"
      ]
     },
     "metadata": {},
     "output_type": "display_data"
    }
   ],
   "source": [
    "set_defaults(control=\"orbit\", axes=True, axes0=True, grid=(True, False, False), glass=True)\n",
    "\n",
    "#open_viewer(\"Cadquery\")\n",
    "replay_box = widgets.Checkbox(False, description='Enable Replay')\n",
    "out = widgets.Output()\n",
    "display(replay_box)\n",
    "display(out)\n",
    "\n",
    "@out.capture()\n",
    "def changed(e):\n",
    "    if e[\"new\"]:\n",
    "        enable_replay(warning=False)\n",
    "    else:\n",
    "        disable_replay()\n",
    "\n",
    "replay_box.observe(changed, names='value')"
   ]
  },
  {
   "cell_type": "code",
   "execution_count": 11,
   "id": "4a89d176-1c4d-4e75-bfec-8fbcb4d07ff2",
   "metadata": {},
   "outputs": [
    {
     "name": "stdout",
     "output_type": "stream",
     "text": [
      "Replay is not enabled. To do so call 'enable_replay()'. Falling back to 'show()'\n"
     ]
    },
    {
     "name": "stderr",
     "output_type": "stream",
     "text": [
      "RuntimeWarning: cad_width has to be >= 640, setting to 640\n"
     ]
    },
    {
     "data": {
      "application/vnd.jupyter.widget-view+json": {
       "model_id": "d7bc995cd71e4cff94031fd82f41f572",
       "version_major": 2,
       "version_minor": 0
      },
      "text/plain": [
       "CadViewerWidget(anchor=None, cad_width=640, glass=True, height=600, pinning=False, theme='light', title=None, …"
      ]
     },
     "metadata": {},
     "output_type": "display_data"
    },
    {
     "data": {
      "text/html": [
       "<div></div>"
      ],
      "text/plain": [
       "<IPython.core.display.HTML object>"
      ]
     },
     "metadata": {},
     "output_type": "display_data"
    },
    {
     "data": {
      "text/plain": [
       "<cad_viewer_widget.widget.CadViewer at 0x7fac2015fcd0>"
      ]
     },
     "execution_count": 11,
     "metadata": {},
     "output_type": "execute_result"
    }
   ],
   "source": [
    "# 5 16 100\n",
    "# 8 10.5\n",
    "\n",
    "total_length = 100\n",
    "hole_d = 8+0.2\n",
    "min_d = 10.5\n",
    "nozzle_d = 0.4\n",
    "bearing_d = 16\n",
    "bearing_thickness = 5\n",
    "d = bearing_d+nozzle_d*2\n",
    "washer1_d = bearing_d\n",
    "washer1_thickness = 15\n",
    "washer2_d = hole_d+4*nozzle_d*2\n",
    "\n",
    "washer1 = (\n",
    "    cq.Workplane(\"XY\")\n",
    "    .circle(washer1_d/2)\n",
    "    .workplane(offset=washer1_thickness-2)\n",
    "    .circle(washer1_d/2)\n",
    "    .workplane(offset=2)\n",
    "    .circle(min_d/2)\n",
    "    .loft(ruled=True)\n",
    "    .faces(\">Z\")\n",
    "    .hole(hole_d)\n",
    ")\n",
    "\n",
    "replay(washer1)"
   ]
  },
  {
   "cell_type": "code",
   "execution_count": 12,
   "id": "9855fd04-2a63-45bd-8951-4b754f236b79",
   "metadata": {},
   "outputs": [
    {
     "name": "stdout",
     "output_type": "stream",
     "text": [
      "Replay is not enabled. To do so call 'enable_replay()'. Falling back to 'show()'\n"
     ]
    },
    {
     "name": "stderr",
     "output_type": "stream",
     "text": [
      "RuntimeWarning: cad_width has to be >= 640, setting to 640\n"
     ]
    },
    {
     "data": {
      "application/vnd.jupyter.widget-view+json": {
       "model_id": "4a8454f029734332b62dbf0132c8038e",
       "version_major": 2,
       "version_minor": 0
      },
      "text/plain": [
       "CadViewerWidget(anchor=None, cad_width=640, glass=True, height=600, pinning=False, theme='light', title=None, …"
      ]
     },
     "metadata": {},
     "output_type": "display_data"
    },
    {
     "data": {
      "text/html": [
       "<div></div>"
      ],
      "text/plain": [
       "<IPython.core.display.HTML object>"
      ]
     },
     "metadata": {},
     "output_type": "display_data"
    },
    {
     "data": {
      "text/plain": [
       "<cad_viewer_widget.widget.CadViewer at 0x7fac2016f790>"
      ]
     },
     "execution_count": 12,
     "metadata": {},
     "output_type": "execute_result"
    }
   ],
   "source": [
    "washer2 = (\n",
    "    cq.Workplane(\"XY\")\n",
    "    .circle(washer2_d/2)\n",
    "    .workplane(offset=total_length/2-bearing_thickness-washer1_thickness-2)\n",
    "    .circle(washer2_d/2)\n",
    "    .workplane(offset=2)\n",
    "    .circle(min_d/2)\n",
    "    .loft(ruled=True)\n",
    "    .faces(\">Z\")\n",
    "    .hole(hole_d)\n",
    ")\n",
    "\n",
    "replay(washer2)"
   ]
  },
  {
   "cell_type": "code",
   "execution_count": 13,
   "id": "8afbb36b-fcf6-4d1b-b2a0-b8f42918e0bc",
   "metadata": {},
   "outputs": [
    {
     "name": "stdout",
     "output_type": "stream",
     "text": [
      "Replay is not enabled. To do so call 'enable_replay()'. Falling back to 'show()'\n"
     ]
    },
    {
     "name": "stderr",
     "output_type": "stream",
     "text": [
      "RuntimeWarning: cad_width has to be >= 640, setting to 640\n"
     ]
    },
    {
     "data": {
      "application/vnd.jupyter.widget-view+json": {
       "model_id": "3d355cfbe09f438fbafcfea2fa97e95b",
       "version_major": 2,
       "version_minor": 0
      },
      "text/plain": [
       "CadViewerWidget(anchor=None, cad_width=640, glass=True, height=600, pinning=False, theme='light', title=None, …"
      ]
     },
     "metadata": {},
     "output_type": "display_data"
    },
    {
     "data": {
      "text/html": [
       "<div></div>"
      ],
      "text/plain": [
       "<IPython.core.display.HTML object>"
      ]
     },
     "metadata": {},
     "output_type": "display_data"
    },
    {
     "data": {
      "text/plain": [
       "<cad_viewer_widget.widget.CadViewer at 0x7fac2015ff10>"
      ]
     },
     "execution_count": 13,
     "metadata": {},
     "output_type": "execute_result"
    }
   ],
   "source": [
    "bearing_tire = (\n",
    "    cq.Workplane(\"XY\")\n",
    "    .circle(d/2)\n",
    "    .circle(bearing_d/2)\n",
    "    .extrude(bearing_thickness)\n",
    ")\n",
    "replay(bearing_tire)"
   ]
  },
  {
   "cell_type": "code",
   "execution_count": 14,
   "id": "aa9fa136-929d-4fbd-ab58-a7043a880585",
   "metadata": {},
   "outputs": [],
   "source": [
    "exporters.export(washer1.add(washer2.translate((20, 0)).add(bearing_tire.translate((20, 0)))), '/tmp/x.stl')"
   ]
  }
 ],
 "metadata": {
  "kernelspec": {
   "display_name": "Python 3 (ipykernel)",
   "language": "python",
   "name": "python3"
  },
  "language_info": {
   "codemirror_mode": {
    "name": "ipython",
    "version": 3
   },
   "file_extension": ".py",
   "mimetype": "text/x-python",
   "name": "python",
   "nbconvert_exporter": "python",
   "pygments_lexer": "ipython3",
   "version": "3.10.5"
  }
 },
 "nbformat": 4,
 "nbformat_minor": 5
}
