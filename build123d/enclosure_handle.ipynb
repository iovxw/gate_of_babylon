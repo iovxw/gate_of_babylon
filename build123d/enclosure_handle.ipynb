{
 "cells": [
  {
   "cell_type": "code",
   "execution_count": 70,
   "id": "94126f25-2531-4dd6-a6ef-bbef139c4beb",
   "metadata": {
    "tags": []
   },
   "outputs": [],
   "source": [
    "import math\n",
    "\n",
    "import ipywidgets as widgets\n",
    "import jupyter_cadquery as jcq\n",
    "from jupyter_cadquery.replay import replay, show\n",
    "\n",
    "from build123d import *"
   ]
  },
  {
   "cell_type": "code",
   "execution_count": 71,
   "id": "7bd5457d-6649-4c4c-9c17-40a558840aa9",
   "metadata": {},
   "outputs": [
    {
     "data": {
      "application/vnd.jupyter.widget-view+json": {
       "model_id": "41d18ef9fc6046f49e69cde0fd9a6150",
       "version_major": 2,
       "version_minor": 0
      },
      "text/plain": [
       "Checkbox(value=False, description='Enable Replay')"
      ]
     },
     "metadata": {},
     "output_type": "display_data"
    },
    {
     "data": {
      "application/vnd.jupyter.widget-view+json": {
       "model_id": "0d7ee7bd170d44119bd25ac941efcea4",
       "version_major": 2,
       "version_minor": 0
      },
      "text/plain": [
       "Output()"
      ]
     },
     "metadata": {},
     "output_type": "display_data"
    }
   ],
   "source": [
    "jcq.set_defaults(\n",
    "    control=\"orbit\",\n",
    "    axes=True,\n",
    "    axes0=True,\n",
    "    grid=(True, False, False),\n",
    "    glass=True,\n",
    "    theme=\"browser\",\n",
    ")\n",
    "\n",
    "# open_viewer(\"Cadquery\")\n",
    "replay_box = widgets.Checkbox(False, description=\"Enable Replay\")\n",
    "out = widgets.Output()\n",
    "display(replay_box)\n",
    "display(out)\n",
    "\n",
    "\n",
    "@out.capture()\n",
    "def changed(e):\n",
    "    if e[\"new\"]:\n",
    "        jcq.replay.enable_replay(warning=False)\n",
    "    else:\n",
    "        jcq.replay.disable_replay()\n",
    "\n",
    "\n",
    "replay_box.observe(changed, names=\"value\")"
   ]
  },
  {
   "cell_type": "code",
   "execution_count": 72,
   "id": "71ed4383-dda3-4fdf-8685-5f8b2cd505cc",
   "metadata": {},
   "outputs": [],
   "source": [
    "layer_height = 0.2\n",
    "handle_height = 15\n",
    "handle_length = 40\n",
    "reinforcement_length = 30\n",
    "thickness = 1.5"
   ]
  },
  {
   "cell_type": "code",
   "execution_count": 73,
   "id": "26fd7edb-062b-483b-b30b-9d2ec722a190",
   "metadata": {},
   "outputs": [
    {
     "data": {
      "application/vnd.jupyter.widget-view+json": {
       "model_id": "dcaea976994148fdb3eb8701dfda3b42",
       "version_major": 2,
       "version_minor": 0
      },
      "text/plain": [
       "CadViewerWidget(anchor=None, cad_width=800, glass=True, height=600, pinning=False, theme='browser', title=None…"
      ]
     },
     "metadata": {},
     "output_type": "display_data"
    },
    {
     "data": {
      "text/html": [
       "<div></div>"
      ],
      "text/plain": [
       "<IPython.core.display.HTML object>"
      ]
     },
     "metadata": {},
     "output_type": "display_data"
    },
    {
     "data": {
      "text/plain": [
       "<cad_viewer_widget.widget.CadViewer at 0x7f0a2c0ee830>"
      ]
     },
     "execution_count": 73,
     "metadata": {},
     "output_type": "execute_result"
    }
   ],
   "source": [
    "with BuildLine() as side:\n",
    "    bottom = Line((0, 0), (handle_length, 0))\n",
    "    top = Line(bottom @ 0 + (10, handle_height), bottom @ 1 + (0, handle_height))\n",
    "    c = Line(bottom @ 0, top @ 0)\n",
    "    Offset(bottom, c, top, amount=thickness / 2, kind=Kind.INTERSECTION)\n",
    "\n",
    "show(side.line)"
   ]
  },
  {
   "cell_type": "code",
   "execution_count": 76,
   "id": "9b374a61-2684-40ce-95c8-8899cc8fc617",
   "metadata": {},
   "outputs": [
    {
     "data": {
      "application/vnd.jupyter.widget-view+json": {
       "model_id": "97bdc498695445bb81765360939b6a8b",
       "version_major": 2,
       "version_minor": 0
      },
      "text/plain": [
       "CadViewerWidget(anchor=None, cad_width=800, glass=True, height=600, pinning=False, theme='browser', title=None…"
      ]
     },
     "metadata": {},
     "output_type": "display_data"
    },
    {
     "data": {
      "text/html": [
       "<div></div>"
      ],
      "text/plain": [
       "<IPython.core.display.HTML object>"
      ]
     },
     "metadata": {},
     "output_type": "display_data"
    },
    {
     "data": {
      "text/plain": [
       "<cad_viewer_widget.widget.CadViewer at 0x7f0a24ff6920>"
      ]
     },
     "execution_count": 76,
     "metadata": {},
     "output_type": "execute_result"
    }
   ],
   "source": [
    "with BuildSketch() as side_sk:\n",
    "    with Locations((0, thickness / 2)):\n",
    "        Add(side.line)\n",
    "        MakeFace()\n",
    "    Rectangle(\n",
    "        handle_length,\n",
    "        handle_height + thickness,\n",
    "        align=(Align.MIN, Align.MIN),\n",
    "        mode=Mode.INTERSECT,\n",
    "    )\n",
    "    with BuildLine() as rein_line:\n",
    "        start_pts = side_sk.vertices() << Axis.X\n",
    "        end_point_top = (-reinforcement_length, layer_height)\n",
    "        top_line = Polyline(\n",
    "            (start_pts >> Axis.Y).first.to_vector(),\n",
    "            (-reinforcement_length / 10, thickness),\n",
    "            (-reinforcement_length / 3, max(thickness / 2, layer_height)),\n",
    "            end_point_top,\n",
    "        )\n",
    "        end_point_bottom = (-reinforcement_length, 0)\n",
    "        bottom_line = Line((start_pts << Axis.Y).first.to_vector(), end_point_bottom)\n",
    "        Line(top_line @ 1, bottom_line @ 1)\n",
    "    MakeFace()\n",
    "\n",
    "show(side_sk.sketch)"
   ]
  },
  {
   "cell_type": "code",
   "execution_count": 77,
   "id": "0efcbed5-ef19-43e5-8a95-66ffa1d5ee0c",
   "metadata": {},
   "outputs": [
    {
     "data": {
      "application/vnd.jupyter.widget-view+json": {
       "model_id": "3b38300a7ad84d79b6c3a8f6b06e760b",
       "version_major": 2,
       "version_minor": 0
      },
      "text/plain": [
       "CadViewerWidget(anchor=None, cad_width=800, glass=True, height=600, pinning=False, theme='browser', title=None…"
      ]
     },
     "metadata": {},
     "output_type": "display_data"
    },
    {
     "data": {
      "text/html": [
       "<div></div>"
      ],
      "text/plain": [
       "<IPython.core.display.HTML object>"
      ]
     },
     "metadata": {},
     "output_type": "display_data"
    },
    {
     "name": "stdout",
     "output_type": "stream",
     "text": [
      "\u001b[32;1m\n",
      "*******************************************************************\n",
      "******        Statistics on Transfer (Write)                 ******\u001b[0m\n",
      "\u001b[32;1m\n",
      "*******************************************************************\n",
      "******        Transfer Mode = 0  I.E.  As Is       ******\u001b[0m\n",
      "\u001b[32;1m******        Transferring Shape, ShapeType = 0                      ******\u001b[0m\n",
      "\u001b[32;1m** WorkSession : Sending all data\u001b[0m\n",
      "\u001b[32;1m Step File Name : /tmp/x.step(1694 ents)  Write  Done\u001b[0m\n"
     ]
    },
    {
     "data": {
      "text/plain": [
       "<IFSelect_ReturnStatus.IFSelect_RetDone: 1>"
      ]
     },
     "execution_count": 77,
     "metadata": {},
     "output_type": "execute_result"
    }
   ],
   "source": [
    "with BuildPart() as out:\n",
    "    total_length = reinforcement_length + handle_length\n",
    "    with Locations((reinforcement_length, 0)):\n",
    "        Add(side_sk.sketch)\n",
    "    Extrude(amount=total_length, both=True)\n",
    "    Box(\n",
    "        total_length,\n",
    "        handle_height,\n",
    "        thickness,\n",
    "        align=(Align.MIN, Align.MIN, Align.CENTER),\n",
    "    )\n",
    "    with Workplanes(Plane.XZ):\n",
    "        with BuildSketch() as mask:\n",
    "            RegularPolygon(total_length, side_count=4)\n",
    "            RegularPolygon(\n",
    "                total_length - 10 / math.sin(math.radians(45)),\n",
    "                side_count=4,\n",
    "                mode=Mode.SUBTRACT,\n",
    "            )\n",
    "        Extrude(amount=-(handle_height + thickness), mode=Mode.INTERSECT)\n",
    "\n",
    "show(out.part)\n",
    "out.part.export_step(\"/tmp/x.step\")"
   ]
  },
  {
   "cell_type": "code",
   "execution_count": null,
   "id": "0748452a-9f89-476d-af1a-567faf577d33",
   "metadata": {},
   "outputs": [],
   "source": []
  },
  {
   "cell_type": "code",
   "execution_count": null,
   "id": "859d0199-fd31-4354-95c7-d83e4a0d77d9",
   "metadata": {},
   "outputs": [],
   "source": []
  }
 ],
 "metadata": {
  "kernelspec": {
   "display_name": "Python 3 (ipykernel)",
   "language": "python",
   "name": "python3"
  },
  "language_info": {
   "codemirror_mode": {
    "name": "ipython",
    "version": 3
   },
   "file_extension": ".py",
   "mimetype": "text/x-python",
   "name": "python",
   "nbconvert_exporter": "python",
   "pygments_lexer": "ipython3",
   "version": "3.10.8"
  }
 },
 "nbformat": 4,
 "nbformat_minor": 5
}
