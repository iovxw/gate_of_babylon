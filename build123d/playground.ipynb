{
 "cells": [
  {
   "cell_type": "code",
   "execution_count": 1,
   "id": "94126f25-2531-4dd6-a6ef-bbef139c4beb",
   "metadata": {
    "tags": []
   },
   "outputs": [
    {
     "name": "stdout",
     "output_type": "stream",
     "text": [
      "Overwriting auto display for cadquery Workplane and Shape\n"
     ]
    }
   ],
   "source": [
    "import math\n",
    "\n",
    "import jupyter_cadquery as jcq\n",
    "from jupyter_cadquery.replay import show\n",
    "\n",
    "from build123d import *"
   ]
  },
  {
   "cell_type": "code",
   "execution_count": 2,
   "id": "7bd5457d-6649-4c4c-9c17-40a558840aa9",
   "metadata": {},
   "outputs": [],
   "source": [
    "jcq.set_defaults(\n",
    "    control=\"orbit\",\n",
    "    axes=True,\n",
    "    axes0=True,\n",
    "    grid=(True, False, False),\n",
    "    glass=True,\n",
    "    theme=\"browser\",\n",
    ")"
   ]
  },
  {
   "cell_type": "code",
   "execution_count": 3,
   "id": "07e31b9d",
   "metadata": {
    "vscode": {
     "languageId": "html"
    }
   },
   "outputs": [
    {
     "data": {
      "text/html": [
       "<style>\n",
       ".cell-output-ipywidget-background {\n",
       "   background-color: transparent !important;\n",
       "}\n",
       "</style>\n"
      ],
      "text/plain": [
       "<IPython.core.display.HTML object>"
      ]
     },
     "metadata": {},
     "output_type": "display_data"
    }
   ],
   "source": [
    "%%html\n",
    "<style>\n",
    "/* Fix widget background color in VS Code */\n",
    ".cell-output-ipywidget-background {\n",
    "   background-color: transparent !important;\n",
    "}\n",
    "</style>"
   ]
  },
  {
   "cell_type": "code",
   "execution_count": 4,
   "id": "b376c0e7-5be1-42ac-b737-1717957b65e9",
   "metadata": {},
   "outputs": [
    {
     "data": {
      "application/vnd.jupyter.widget-view+json": {
       "model_id": "86ffc9894d23448280fcfa9f35f5a400",
       "version_major": 2,
       "version_minor": 0
      },
      "text/plain": [
       "CadViewerWidget(anchor=None, cad_width=800, glass=True, height=600, pinning=False, theme='browser', title=None…"
      ]
     },
     "metadata": {},
     "output_type": "display_data"
    },
    {
     "data": {
      "text/html": [
       "<div></div>"
      ],
      "text/plain": [
       "<IPython.core.display.HTML object>"
      ]
     },
     "metadata": {},
     "output_type": "display_data"
    },
    {
     "name": "stdout",
     "output_type": "stream",
     "text": [
      "\u001b[32;1m\n",
      "*******************************************************************\n",
      "******        Statistics on Transfer (Write)                 ******\u001b[0m\n",
      "\u001b[32;1m\n",
      "*******************************************************************\n",
      "******        Transfer Mode = 0  I.E.  As Is       ******\u001b[0m\n",
      "\u001b[32;1m******        Transferring Shape, ShapeType = 0                      ******\u001b[0m\n",
      "\u001b[32;1m** WorkSession : Sending all data\u001b[0m\n",
      "\u001b[32;1m Step File Name : /tmp/x.step(1002 ents)  Write  Done\u001b[0m\n"
     ]
    },
    {
     "data": {
      "text/plain": [
       "<IFSelect_ReturnStatus.IFSelect_RetDone: 1>"
      ]
     },
     "execution_count": 4,
     "metadata": {},
     "output_type": "execute_result"
    }
   ],
   "source": [
    "d = 11\n",
    "hex_d = 14 + 0.2\n",
    "h = 4.5\n",
    "\n",
    "with BuildPart() as nut:\n",
    "    with BuildSketch():\n",
    "        RegularPolygon(hex_d / math.sqrt(3), 6)\n",
    "    Extrude(amount=h)\n",
    "\n",
    "with BuildPart() as r:\n",
    "    Box(30, 20, 30)\n",
    "    Add(nut.part, mode=Mode.SUBTRACT)\n",
    "    Cylinder(height = 30, radius=d/2, mode=Mode.SUBTRACT)\n",
    "\n",
    "show(r.part)\n",
    "\n",
    "r.part.export_step(\"/tmp/x.step\")"
   ]
  },
  {
   "cell_type": "code",
   "execution_count": null,
   "id": "fe1dee08-f6ba-46de-acc3-7a063051328c",
   "metadata": {},
   "outputs": [],
   "source": []
  }
 ],
 "metadata": {
  "kernelspec": {
   "display_name": ".venv",
   "language": "python",
   "name": "python3"
  },
  "language_info": {
   "codemirror_mode": {
    "name": "ipython",
    "version": 3
   },
   "file_extension": ".py",
   "mimetype": "text/x-python",
   "name": "python",
   "nbconvert_exporter": "python",
   "pygments_lexer": "ipython3",
   "version": "3.10.9"
  },
  "vscode": {
   "interpreter": {
    "hash": "332191b3638476c5b82f5a206456fd341a0832eb502804c68bca7bbc2a9da2e1"
   }
  }
 },
 "nbformat": 4,
 "nbformat_minor": 5
}
