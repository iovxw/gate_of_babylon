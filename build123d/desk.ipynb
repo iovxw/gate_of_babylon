{
 "cells": [
  {
   "cell_type": "code",
   "execution_count": 1,
   "id": "94126f25-2531-4dd6-a6ef-bbef139c4beb",
   "metadata": {
    "tags": []
   },
   "outputs": [
    {
     "name": "stdout",
     "output_type": "stream",
     "text": [
      "Overwriting auto display for cadquery Workplane and Shape\n"
     ]
    }
   ],
   "source": [
    "import ipywidgets as widgets\n",
    "import jupyter_cadquery as jcq\n",
    "from jupyter_cadquery.replay import replay, show\n",
    "\n",
    "import build123d as bd"
   ]
  },
  {
   "cell_type": "code",
   "execution_count": 2,
   "id": "7bd5457d-6649-4c4c-9c17-40a558840aa9",
   "metadata": {},
   "outputs": [
    {
     "data": {
      "application/vnd.jupyter.widget-view+json": {
       "model_id": "223272ad575e43118a372e273561f766",
       "version_major": 2,
       "version_minor": 0
      },
      "text/plain": [
       "Checkbox(value=False, description='Enable Replay')"
      ]
     },
     "metadata": {},
     "output_type": "display_data"
    },
    {
     "data": {
      "application/vnd.jupyter.widget-view+json": {
       "model_id": "a65b1e9fbcc147378041bb1a734acfaa",
       "version_major": 2,
       "version_minor": 0
      },
      "text/plain": [
       "Output()"
      ]
     },
     "metadata": {},
     "output_type": "display_data"
    }
   ],
   "source": [
    "jcq.set_defaults(\n",
    "    control=\"orbit\",\n",
    "    axes=True,\n",
    "    axes0=True,\n",
    "    grid=(True, False, False),\n",
    "    glass=True,\n",
    "    theme=\"browser\",\n",
    ")\n",
    "\n",
    "# open_viewer(\"Cadquery\")\n",
    "replay_box = widgets.Checkbox(False, description=\"Enable Replay\")\n",
    "out = widgets.Output()\n",
    "display(replay_box)\n",
    "display(out)\n",
    "\n",
    "\n",
    "@out.capture()\n",
    "def changed(e):\n",
    "    if e[\"new\"]:\n",
    "        jcq.replay.enable_replay(warning=False)\n",
    "    else:\n",
    "        jcq.replay.disable_replay()\n",
    "\n",
    "\n",
    "replay_box.observe(changed, names=\"value\")"
   ]
  },
  {
   "cell_type": "code",
   "execution_count": 3,
   "id": "2c1de74c-49fb-4c14-8c6f-60bbb8fffdc0",
   "metadata": {},
   "outputs": [],
   "source": [
    "leg_w = 50\n",
    "leg_h = 600\n",
    "min_thickness = 20"
   ]
  },
  {
   "cell_type": "code",
   "execution_count": 16,
   "id": "920eafcf-6eba-4deb-8515-e09a5b390eb0",
   "metadata": {},
   "outputs": [
    {
     "data": {
      "application/vnd.jupyter.widget-view+json": {
       "model_id": "bcf3a42c5e444c47bd6e9635379767ea",
       "version_major": 2,
       "version_minor": 0
      },
      "text/plain": [
       "CadViewerWidget(anchor=None, cad_width=800, glass=True, height=600, pinning=False, theme='browser', title=None…"
      ]
     },
     "metadata": {},
     "output_type": "display_data"
    },
    {
     "data": {
      "text/html": [
       "<div></div>"
      ],
      "text/plain": [
       "<IPython.core.display.HTML object>"
      ]
     },
     "metadata": {},
     "output_type": "display_data"
    },
    {
     "name": "stdout",
     "output_type": "stream",
     "text": [
      "\u001b[32;1m\n",
      "*******************************************************************\n",
      "******        Statistics on Transfer (Write)                 ******\u001b[0m\n",
      "\u001b[32;1m\n",
      "*******************************************************************\n",
      "******        Transfer Mode = 0  I.E.  As Is       ******\u001b[0m\n",
      "\u001b[32;1m******        Transferring Shape, ShapeType = 2                      ******\u001b[0m\n",
      "\u001b[32;1m** WorkSession : Sending all data\u001b[0m\n",
      "\u001b[32;1m Step File Name : /tmp/leg.step(350 ents)  Write  Done\u001b[0m\n"
     ]
    },
    {
     "data": {
      "text/plain": [
       "<IFSelect_ReturnStatus.IFSelect_RetDone: 1>"
      ]
     },
     "execution_count": 16,
     "metadata": {},
     "output_type": "execute_result"
    }
   ],
   "source": [
    "with bd.BuildPart() as leg:\n",
    "        with bd.Locations((0, leg_w, 0)):\n",
    "            bd.Box(leg_w,leg_w,leg_h, rotation=(0,40, 45))\n",
    "\n",
    "show(leg)\n",
    "leg.part.export_step(\"/tmp/leg.step\")"
   ]
  },
  {
   "cell_type": "code",
   "execution_count": 42,
   "id": "8b35b70f-03eb-4090-b5fc-0784e467258a",
   "metadata": {},
   "outputs": [
    {
     "data": {
      "application/vnd.jupyter.widget-view+json": {
       "model_id": "810407cb583841e3bca3aa6573b651b1",
       "version_major": 2,
       "version_minor": 0
      },
      "text/plain": [
       "CadViewerWidget(anchor=None, cad_width=800, glass=True, height=600, pinning=False, theme='browser', title=None…"
      ]
     },
     "metadata": {},
     "output_type": "display_data"
    },
    {
     "data": {
      "text/html": [
       "<div></div>"
      ],
      "text/plain": [
       "<IPython.core.display.HTML object>"
      ]
     },
     "metadata": {},
     "output_type": "display_data"
    },
    {
     "name": "stdout",
     "output_type": "stream",
     "text": [
      "\u001b[32;1m\n",
      "*******************************************************************\n",
      "******        Statistics on Transfer (Write)                 ******\u001b[0m\n",
      "\u001b[32;1m\n",
      "*******************************************************************\n",
      "******        Transfer Mode = 0  I.E.  As Is       ******\u001b[0m\n",
      "\u001b[32;1m******        Transferring Shape, ShapeType = 2                      ******\u001b[0m\n",
      "\u001b[32;1m** WorkSession : Sending all data\u001b[0m\n",
      "\u001b[32;1m Step File Name : /tmp/leg.step(350 ents)  Write  Done\u001b[0m\n"
     ]
    },
    {
     "data": {
      "text/plain": [
       "<IFSelect_ReturnStatus.IFSelect_RetDone: 1>"
      ]
     },
     "execution_count": 42,
     "metadata": {},
     "output_type": "execute_result"
    }
   ],
   "source": [
    "with bd.BuildPart() as leg:\n",
    "        with bd.Locations(bd.Location((0, 100, 100), 50)):\n",
    "                bd.Box(leg_w,leg_w,leg_h)\n",
    "\n",
    "show(leg)\n",
    "leg.part.export_step(\"/tmp/leg.step\")"
   ]
  },
  {
   "cell_type": "code",
   "execution_count": 44,
   "id": "f466c381-64ca-40e0-9e2c-985a3de3ad43",
   "metadata": {},
   "outputs": [
    {
     "data": {
      "application/vnd.jupyter.widget-view+json": {
       "model_id": "43e231e0b9cd41759dec1d137b41c3d0",
       "version_major": 2,
       "version_minor": 0
      },
      "text/plain": [
       "CadViewerWidget(anchor=None, cad_width=800, glass=True, height=600, pinning=False, theme='browser', title=None…"
      ]
     },
     "metadata": {},
     "output_type": "display_data"
    },
    {
     "data": {
      "text/html": [
       "<div></div>"
      ],
      "text/plain": [
       "<IPython.core.display.HTML object>"
      ]
     },
     "metadata": {},
     "output_type": "display_data"
    },
    {
     "data": {
      "text/plain": [
       "<cad_viewer_widget.widget.CadViewer at 0x7f09902448e0>"
      ]
     },
     "execution_count": 44,
     "metadata": {},
     "output_type": "execute_result"
    }
   ],
   "source": [
    "with bd.BuildPart() as legs:\n",
    "    with bd.PolarLocations(0, 3):\n",
    "        bd.Add(leg.part)\n",
    "        \n",
    "show(legs)"
   ]
  },
  {
   "cell_type": "code",
   "execution_count": 47,
   "id": "86e74973-effd-4021-a6db-e51236f88e3c",
   "metadata": {},
   "outputs": [
    {
     "data": {
      "application/vnd.jupyter.widget-view+json": {
       "model_id": "43f159cce85f41349916ae49695bf123",
       "version_major": 2,
       "version_minor": 0
      },
      "text/plain": [
       "CadViewerWidget(anchor=None, cad_width=800, glass=True, height=600, pinning=False, theme='browser', title=None…"
      ]
     },
     "metadata": {},
     "output_type": "display_data"
    },
    {
     "data": {
      "text/html": [
       "<div></div>"
      ],
      "text/plain": [
       "<IPython.core.display.HTML object>"
      ]
     },
     "metadata": {},
     "output_type": "display_data"
    },
    {
     "name": "stdout",
     "output_type": "stream",
     "text": [
      "\u001b[32;1m\n",
      "*******************************************************************\n",
      "******        Statistics on Transfer (Write)                 ******\u001b[0m\n",
      "\u001b[32;1m\n",
      "*******************************************************************\n",
      "******        Transfer Mode = 0  I.E.  As Is       ******\u001b[0m\n",
      "\u001b[32;1m******        Transferring Shape, ShapeType = 0                      ******\u001b[0m\n",
      "\u001b[32;1m** WorkSession : Sending all data\u001b[0m\n",
      "\u001b[32;1m Step File Name : /tmp/connector.step(1108 ents)  Write  Done\u001b[0m\n"
     ]
    },
    {
     "data": {
      "text/plain": [
       "<IFSelect_ReturnStatus.IFSelect_RetDone: 1>"
      ]
     },
     "execution_count": 47,
     "metadata": {},
     "output_type": "execute_result"
    }
   ],
   "source": [
    "with bd.BuildPart() as connector:\n",
    "    with bd.BuildSketch():\n",
    "        bd.Circle(leg_w*3)\n",
    "    bd.Extrude(amount=-min_thickness)\n",
    "    with bd.BuildSketch():\n",
    "        bd.Circle(leg_w*2)\n",
    "    bd.Extrude(amount=min_thickness)\n",
    "    bd.Add(legs.part, mode=bd.Mode.SUBTRACT)\n",
    "\n",
    "show(connector)\n",
    "connector.part.export_step(\"/tmp/connector.step\")"
   ]
  },
  {
   "cell_type": "code",
   "execution_count": null,
   "id": "398aecc7-1d6e-40e0-acd0-0c8b8c5d852c",
   "metadata": {},
   "outputs": [],
   "source": []
  }
 ],
 "metadata": {
  "kernelspec": {
   "display_name": "Python 3 (ipykernel)",
   "language": "python",
   "name": "python3"
  },
  "language_info": {
   "codemirror_mode": {
    "name": "ipython",
    "version": 3
   },
   "file_extension": ".py",
   "mimetype": "text/x-python",
   "name": "python",
   "nbconvert_exporter": "python",
   "pygments_lexer": "ipython3",
   "version": "3.10.8"
  }
 },
 "nbformat": 4,
 "nbformat_minor": 5
}
