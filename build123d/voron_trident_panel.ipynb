{
 "cells": [
  {
   "cell_type": "code",
   "execution_count": 1,
   "id": "94126f25-2531-4dd6-a6ef-bbef139c4beb",
   "metadata": {
    "tags": []
   },
   "outputs": [
    {
     "name": "stdout",
     "output_type": "stream",
     "text": [
      "Overwriting auto display for cadquery Workplane and Shape\n"
     ]
    }
   ],
   "source": [
    "import math\n",
    "\n",
    "import jupyter_cadquery as jcq\n",
    "from jupyter_cadquery.replay import show\n",
    "\n",
    "from build123d import *"
   ]
  },
  {
   "cell_type": "code",
   "execution_count": 2,
   "id": "7bd5457d-6649-4c4c-9c17-40a558840aa9",
   "metadata": {},
   "outputs": [],
   "source": [
    "jcq.set_defaults(\n",
    "    control=\"orbit\",\n",
    "    axes=True,\n",
    "    axes0=True,\n",
    "    grid=(True, False, False),\n",
    "    glass=True,\n",
    "    theme=\"browser\",\n",
    ")"
   ]
  },
  {
   "cell_type": "code",
   "execution_count": 3,
   "id": "07e31b9d",
   "metadata": {
    "vscode": {
     "languageId": "html"
    }
   },
   "outputs": [
    {
     "data": {
      "text/html": [
       "<style>\n",
       "   /* Fix widget background color in VS Code */\n",
       "   .cell-output-ipywidget-background {\n",
       "      background-color: transparent !important;\n",
       "   }\n",
       "</style>\n"
      ],
      "text/plain": [
       "<IPython.core.display.HTML object>"
      ]
     },
     "metadata": {},
     "output_type": "display_data"
    }
   ],
   "source": [
    "%%html\n",
    "<style>\n",
    "   /* Fix widget background color in VS Code */\n",
    "   .cell-output-ipywidget-background {\n",
    "      background-color: transparent !important;\n",
    "   }\n",
    "</style>"
   ]
  },
  {
   "cell_type": "code",
   "execution_count": 33,
   "id": "e9c7c80d",
   "metadata": {},
   "outputs": [],
   "source": [
    "panel_w = 469\n",
    "panel_thickness = 3\n",
    "screw_depth = 3\n",
    "screw_r = 3 / 2 + 0.1\n",
    "screw_head_r = 6 / 2\n",
    "motor_mount_flange = 6.5\n",
    "connector_w = 10\n",
    "connector_thickness = panel_thickness / 2"
   ]
  },
  {
   "cell_type": "code",
   "execution_count": 5,
   "id": "fe1dee08-f6ba-46de-acc3-7a063051328c",
   "metadata": {},
   "outputs": [
    {
     "data": {
      "application/vnd.jupyter.widget-view+json": {
       "model_id": "d326b9fb8156490d8c7aad07538f0e6c",
       "version_major": 2,
       "version_minor": 0
      },
      "text/plain": [
       "CadViewerWidget(anchor=None, cad_width=800, glass=True, height=600, pinning=False, theme='browser', title=None…"
      ]
     },
     "metadata": {},
     "output_type": "display_data"
    },
    {
     "data": {
      "text/html": [
       "<div></div>"
      ],
      "text/plain": [
       "<IPython.core.display.HTML object>"
      ]
     },
     "metadata": {},
     "output_type": "display_data"
    },
    {
     "data": {
      "text/plain": [
       "<cad_viewer_widget.widget.CadViewer at 0x7fe9b751c280>"
      ]
     },
     "execution_count": 5,
     "metadata": {},
     "output_type": "execute_result"
    }
   ],
   "source": [
    "with BuildPart() as deck_panel:\n",
    "    with BuildSketch():\n",
    "        with Locations((-(469 - 444), 41.5 + 3)):\n",
    "            edges = import_svg(\"voron_trident_350_deck.svg\")\n",
    "            add(edges)\n",
    "        f = make_face(mode=Mode.PRIVATE)\n",
    "        mirror(f, about=Plane.YZ)\n",
    "    extrude(amount=panel_thickness)\n",
    "show(deck_panel)"
   ]
  },
  {
   "cell_type": "code",
   "execution_count": 8,
   "id": "a2397211",
   "metadata": {},
   "outputs": [
    {
     "data": {
      "application/vnd.jupyter.widget-view+json": {
       "model_id": "34a82eb64de94777a556ea61f226a465",
       "version_major": 2,
       "version_minor": 0
      },
      "text/plain": [
       "CadViewerWidget(anchor=None, cad_width=800, glass=True, height=600, pinning=False, theme='browser', title=None…"
      ]
     },
     "metadata": {},
     "output_type": "display_data"
    },
    {
     "data": {
      "text/html": [
       "<div></div>"
      ],
      "text/plain": [
       "<IPython.core.display.HTML object>"
      ]
     },
     "metadata": {},
     "output_type": "display_data"
    },
    {
     "name": "stdout",
     "output_type": "stream",
     "text": [
      "\u001b[32;1m\n",
      "*******************************************************************\n",
      "******        Statistics on Transfer (Write)                 ******\u001b[0m\n",
      "\u001b[32;1m\n",
      "*******************************************************************\n",
      "******        Transfer Mode = 0  I.E.  As Is       ******\u001b[0m\n",
      "\u001b[32;1m******        Transferring Shape, ShapeType = 0                      ******\u001b[0m\n",
      "\u001b[32;1m** WorkSession : Sending all data\u001b[0m\n",
      "\u001b[32;1m Step File Name : /tmp/panel_front_left.step(1974 ents)  Write  Done\u001b[0m\n",
      "\u001b[32;1m\n",
      "*******************************************************************\n",
      "******        Statistics on Transfer (Write)                 ******\u001b[0m\n",
      "\u001b[32;1m\n",
      "*******************************************************************\n",
      "******        Transfer Mode = 0  I.E.  As Is       ******\u001b[0m\n",
      "\u001b[32;1m******        Transferring Shape, ShapeType = 0                      ******\u001b[0m\n",
      "\u001b[32;1m** WorkSession : Sending all data\u001b[0m\n",
      "\u001b[32;1m Step File Name : /tmp/panel_front_right.step(1992 ents)  Write  Done\u001b[0m\n",
      "\u001b[32;1m\n",
      "*******************************************************************\n",
      "******        Statistics on Transfer (Write)                 ******\u001b[0m\n",
      "\u001b[32;1m\n",
      "*******************************************************************\n",
      "******        Transfer Mode = 0  I.E.  As Is       ******\u001b[0m\n",
      "\u001b[32;1m******        Transferring Shape, ShapeType = 0                      ******\u001b[0m\n",
      "\u001b[32;1m** WorkSession : Sending all data\u001b[0m\n",
      "\u001b[32;1m Step File Name : /tmp/front_connector.step(350 ents)  Write  Done\u001b[0m\n"
     ]
    },
    {
     "data": {
      "text/plain": [
       "<IFSelect_ReturnStatus.IFSelect_RetDone: 1>"
      ]
     },
     "execution_count": 8,
     "metadata": {},
     "output_type": "execute_result"
    }
   ],
   "source": [
    "front_motor_hole_w = 41.5 + 3\n",
    "front_w = front_motor_hole_w + 10\n",
    "with BuildPart() as panel_front_left:\n",
    "    split(deck_panel.part, bisect_by=Plane.XZ.offset(-front_w), keep=Keep.TOP)\n",
    "    split(\n",
    "        panel_front_left.part, bisect_by=Plane.YZ.offset(panel_w / 2), keep=Keep.BOTTOM\n",
    "    )\n",
    "    with Locations((0, front_w)):\n",
    "        with BuildSketch():\n",
    "            Rectangle(screw_depth * 2, 10, align=[Align.MIN, Align.MAX])\n",
    "        extrude(amount=-(20 - panel_thickness))\n",
    "    with Locations(panel_front_left.faces().filter_by(Axis.X)[1]):\n",
    "        with Locations((0, panel_thickness / 2, 0)):\n",
    "            CounterBoreHole(screw_r, screw_head_r, screw_depth)\n",
    "    with Locations((panel_w / 2 - 50, 0)):\n",
    "        with BuildSketch():\n",
    "            Rectangle(10, screw_depth * 2, align=(Align.MAX, Align.MIN))\n",
    "        m = extrude(amount=-(20 - panel_thickness))\n",
    "        with Workplanes(m.faces().filter_by(Axis.Y)[1]):\n",
    "            with Locations((0, -panel_thickness / 2, 0)):\n",
    "                CounterBoreHole(screw_r, screw_head_r, screw_depth)\n",
    "    with Locations((front_w, 0)):\n",
    "        with BuildSketch():\n",
    "            Rectangle(10, screw_depth * 2, align=(Align.MAX, Align.MIN))\n",
    "        m = extrude(amount=-(20 - panel_thickness))\n",
    "        with Workplanes(m.faces().filter_by(Axis.Y)[1]):\n",
    "            with Locations((0, -panel_thickness / 2, 0)):\n",
    "                CounterBoreHole(screw_r, screw_head_r, screw_depth)\n",
    "    with Locations((panel_w / 2, 0)):\n",
    "        with BuildSketch():\n",
    "            Rectangle(connector_w / 2, panel_w, align=(Align.MAX, Align.MIN))\n",
    "        extrude(amount=connector_thickness, mode=Mode.SUBTRACT)\n",
    "\n",
    "show(panel_front_left.part)\n",
    "\n",
    "with BuildPart() as panel_front_right:\n",
    "    mirror(panel_front_left.part, about=Plane.YZ)\n",
    "\n",
    "with BuildPart() as front_connector:\n",
    "    Box(front_w, connector_w, connector_thickness)\n",
    "\n",
    "panel_front_left.part.export_step(\"/tmp/panel_front_left.step\")\n",
    "panel_front_right.part.export_step(\"/tmp/panel_front_right.step\")\n",
    "front_connector.part.export_step(\"/tmp/front_connector.step\")"
   ]
  },
  {
   "cell_type": "code",
   "execution_count": 45,
   "id": "6fe01eeb",
   "metadata": {},
   "outputs": [
    {
     "data": {
      "application/vnd.jupyter.widget-view+json": {
       "model_id": "8f778d1ee9064aab8c56d07276568e4c",
       "version_major": 2,
       "version_minor": 0
      },
      "text/plain": [
       "CadViewerWidget(anchor=None, cad_width=800, glass=True, height=600, pinning=False, theme='browser', title=None…"
      ]
     },
     "metadata": {},
     "output_type": "display_data"
    },
    {
     "data": {
      "text/html": [
       "<div></div>"
      ],
      "text/plain": [
       "<IPython.core.display.HTML object>"
      ]
     },
     "metadata": {},
     "output_type": "display_data"
    },
    {
     "name": "stdout",
     "output_type": "stream",
     "text": [
      "\u001b[32;1m\n",
      "*******************************************************************\n",
      "******        Statistics on Transfer (Write)                 ******\u001b[0m\n",
      "\u001b[32;1m\n",
      "*******************************************************************\n",
      "******        Transfer Mode = 0  I.E.  As Is       ******\u001b[0m\n",
      "\u001b[32;1m******        Transferring Shape, ShapeType = 2                      ******\u001b[0m\n",
      "\u001b[32;1m** WorkSession : Sending all data\u001b[0m\n",
      "\u001b[32;1m Step File Name : /tmp/panel_rear_left.step(2590 ents)  Write  Done\u001b[0m\n",
      "\u001b[32;1m\n",
      "*******************************************************************\n",
      "******        Statistics on Transfer (Write)                 ******\u001b[0m\n",
      "\u001b[32;1m\n",
      "*******************************************************************\n",
      "******        Transfer Mode = 0  I.E.  As Is       ******\u001b[0m\n",
      "\u001b[32;1m******        Transferring Shape, ShapeType = 2                      ******\u001b[0m\n",
      "\u001b[32;1m** WorkSession : Sending all data\u001b[0m\n",
      "\u001b[32;1m Step File Name : /tmp/panel_rear_right.step(2302 ents)  Write  Done\u001b[0m\n"
     ]
    },
    {
     "data": {
      "text/plain": [
       "<IFSelect_ReturnStatus.IFSelect_RetDone: 1>"
      ]
     },
     "execution_count": 45,
     "metadata": {},
     "output_type": "execute_result"
    }
   ],
   "source": [
    "rear_motor_hole = (52, 43)\n",
    "rear_motor_ext = (13, 8.5)\n",
    "rear_w = rear_motor_hole[1] + rear_motor_ext[1] + 10\n",
    "rear_cable_hole = (14,12)\n",
    "with BuildPart() as panel_rear_base:\n",
    "    with Locations((-panel_w / 2, -panel_w + rear_w)):\n",
    "        r = split(\n",
    "            deck_panel.part,\n",
    "            bisect_by=Plane.XZ.offset(-(panel_w - rear_w)),\n",
    "            keep=Keep.BOTTOM,\n",
    "            mode=Mode.PRIVATE,\n",
    "        )\n",
    "        add(r)\n",
    "        # split(panel_rare_left.part, bisect_by=Plane.YZ.offset(panel_w/2), keep=Keep.BOTTOM)\n",
    "\n",
    "with BuildPart() as panel_rear_support_left:\n",
    "    with Locations((-panel_w/2, 0)):\n",
    "        with BuildSketch():\n",
    "            Rectangle(screw_depth * 2, 10, align=[Align.MIN, Align.MIN])\n",
    "        m = extrude(amount=-(20 - panel_thickness))\n",
    "        with Workplanes(m.faces().filter_by(Axis.X)[1]):\n",
    "            with Locations((0, panel_thickness / 2, 0)):\n",
    "                CounterBoreHole(screw_r, screw_head_r, screw_depth)\n",
    "    with Locations((-panel_w/2+rear_cable_hole[0], rear_w)):\n",
    "        with BuildSketch():\n",
    "            Rectangle(10, screw_depth * 2, align=(Align.MIN, Align.MAX))\n",
    "        m = extrude(amount=-(20 - panel_thickness))\n",
    "        with Workplanes(m.faces().filter_by(Axis.Y)[0]):\n",
    "            with Locations((0, panel_thickness / 2, 0)):\n",
    "                CounterBoreHole(screw_r, screw_head_r, screw_depth)\n",
    "    with Locations((-(rear_motor_hole[0]/2+rear_motor_ext[0]), rear_w)):\n",
    "        with BuildSketch():\n",
    "            Rectangle(10, screw_depth * 2, align=(Align.MAX, Align.MAX))\n",
    "        m = extrude(amount=-(20 - panel_thickness))\n",
    "        with Workplanes(m.faces().filter_by(Axis.Y)[0]):\n",
    "            with Locations((0, panel_thickness / 2, 0)):\n",
    "                CounterBoreHole(screw_r, screw_head_r, screw_depth)\n",
    " \n",
    "with BuildPart() as panel_rear:\n",
    "    add(panel_rear_base.part)\n",
    "    with Locations((0, 0)):\n",
    "        with BuildSketch():\n",
    "            Rectangle(connector_w, panel_w, align=(Align.CENTER, Align.MIN))\n",
    "        extrude(amount=connector_thickness, mode=Mode.SUBTRACT)\n",
    "    add(panel_rear_support_left.part)\n",
    "    mirror(panel_rear_support_left.part, about=Plane.YZ)\n",
    "    split(panel_rear.part, bisect_by=Plane.YZ, keep=Keep.BOTH)\n",
    "show(panel_rear)\n",
    "\n",
    "(panel_rear_left, panel_rear_right) = panel_rear.solids().sort_by(Axis.X)\n",
    "\n",
    "panel_rear_left.export_step(\"/tmp/panel_rear_left.step\")\n",
    "panel_rear_right.export_step(\"/tmp/panel_rear_right.step\")"
   ]
  },
  {
   "cell_type": "code",
   "execution_count": 42,
   "id": "ab81ba27",
   "metadata": {},
   "outputs": [
    {
     "data": {
      "application/vnd.jupyter.widget-view+json": {
       "model_id": "93eddf432b9c4fee9e4c6c94e1b34373",
       "version_major": 2,
       "version_minor": 0
      },
      "text/plain": [
       "CadViewerWidget(anchor=None, cad_width=800, glass=True, height=600, pinning=False, theme='browser', title=None…"
      ]
     },
     "metadata": {},
     "output_type": "display_data"
    },
    {
     "data": {
      "text/html": [
       "<div></div>"
      ],
      "text/plain": [
       "<IPython.core.display.HTML object>"
      ]
     },
     "metadata": {},
     "output_type": "display_data"
    },
    {
     "name": "stdout",
     "output_type": "stream",
     "text": [
      "\u001b[32;1m\n",
      "*******************************************************************\n",
      "******        Statistics on Transfer (Write)                 ******\u001b[0m\n",
      "\u001b[32;1m\n",
      "*******************************************************************\n",
      "******        Transfer Mode = 0  I.E.  As Is       ******\u001b[0m\n",
      "\u001b[32;1m******        Transferring Shape, ShapeType = 0                      ******\u001b[0m\n",
      "\u001b[32;1m** WorkSession : Sending all data\u001b[0m\n",
      "\u001b[32;1m Step File Name : /tmp/connector_v2.step(1080 ents)  Write  Done\u001b[0m\n"
     ]
    },
    {
     "data": {
      "text/plain": [
       "<IFSelect_ReturnStatus.IFSelect_RetDone: 1>"
      ]
     },
     "execution_count": 42,
     "metadata": {},
     "output_type": "execute_result"
    }
   ],
   "source": [
    "connector_x = 0.8\n",
    "with BuildPart() as connector_v2:\n",
    "    with BuildSketch() as sk:\n",
    "        Rectangle(\n",
    "            (connector_w + connector_x) / 2,\n",
    "            connector_thickness * 2 + panel_thickness - connector_thickness,\n",
    "            align=(Align.MIN, Align.CENTER),\n",
    "        )\n",
    "        with Locations((connector_x / 2, 0)):\n",
    "            Rectangle(\n",
    "                connector_w / 2,\n",
    "                panel_thickness - connector_thickness + 0.1,\n",
    "                align=(Align.MIN, Align.CENTER),\n",
    "                mode=Mode.SUBTRACT,\n",
    "            )\n",
    "        mirror(sk.sketch, Plane.YZ)\n",
    "    extrude(amount=front_w)\n",
    "    #with Locations((0, (panel_thickness-connector_thickness+0.1)/2, 0)):\n",
    "    #    Box(\n",
    "    #        connector_x + connector_w,\n",
    "    #        connector_thickness,\n",
    "    #        5,\n",
    "    #        align=(Align.CENTER, Align.MIN, Align.MIN),\n",
    "    #        mode=Mode.SUBTRACT\n",
    "    #    )\n",
    "show(connector_v2)\n",
    "connector_v2.part.export_step(\"/tmp/connector_v2.step\")"
   ]
  }
 ],
 "metadata": {
  "kernelspec": {
   "display_name": ".venv",
   "language": "python",
   "name": "python3"
  },
  "language_info": {
   "codemirror_mode": {
    "name": "ipython",
    "version": 3
   },
   "file_extension": ".py",
   "mimetype": "text/x-python",
   "name": "python",
   "nbconvert_exporter": "python",
   "pygments_lexer": "ipython3",
   "version": "3.10.9"
  },
  "vscode": {
   "interpreter": {
    "hash": "332191b3638476c5b82f5a206456fd341a0832eb502804c68bca7bbc2a9da2e1"
   }
  }
 },
 "nbformat": 4,
 "nbformat_minor": 5
}
