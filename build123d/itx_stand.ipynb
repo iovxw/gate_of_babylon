{
 "cells": [
  {
   "cell_type": "code",
   "execution_count": 1,
   "id": "94126f25-2531-4dd6-a6ef-bbef139c4beb",
   "metadata": {
    "tags": []
   },
   "outputs": [
    {
     "name": "stdout",
     "output_type": "stream",
     "text": [
      "Overwriting auto display for cadquery Workplane and Shape\n"
     ]
    }
   ],
   "source": [
    "import math, operator\n",
    "\n",
    "import jupyter_cadquery as jcq\n",
    "from jupyter_cadquery.replay import show\n",
    "\n",
    "from build123d import *"
   ]
  },
  {
   "cell_type": "code",
   "execution_count": 2,
   "id": "7bd5457d-6649-4c4c-9c17-40a558840aa9",
   "metadata": {},
   "outputs": [],
   "source": [
    "jcq.set_defaults(\n",
    "    control=\"orbit\",\n",
    "    axes=True,\n",
    "    axes0=True,\n",
    "    grid=(True, False, False),\n",
    "    glass=True,\n",
    "    theme=\"browser\",\n",
    "    height=400,\n",
    ")"
   ]
  },
  {
   "cell_type": "code",
   "execution_count": 3,
   "id": "07e31b9d",
   "metadata": {
    "vscode": {
     "languageId": "html"
    }
   },
   "outputs": [
    {
     "data": {
      "text/html": [
       "<style>\n",
       "   /* Fix widget background color in VS Code */\n",
       "   .cell-output-ipywidget-background {\n",
       "      background-color: transparent !important;\n",
       "   }\n",
       "</style>\n"
      ],
      "text/plain": [
       "<IPython.core.display.HTML object>"
      ]
     },
     "metadata": {},
     "output_type": "display_data"
    }
   ],
   "source": [
    "%%html\n",
    "<style>\n",
    "   /* Fix widget background color in VS Code */\n",
    "   .cell-output-ipywidget-background {\n",
    "      background-color: transparent !important;\n",
    "   }\n",
    "</style>"
   ]
  },
  {
   "cell_type": "code",
   "execution_count": 4,
   "id": "b376c0e7-5be1-42ac-b737-1717957b65e9",
   "metadata": {},
   "outputs": [
    {
     "data": {
      "application/vnd.jupyter.widget-view+json": {
       "model_id": "d8fdf2f36cea4f09bc805d42c52b58bb",
       "version_major": 2,
       "version_minor": 0
      },
      "text/plain": [
       "CadViewerWidget(anchor=None, cad_width=800, glass=True, height=400, pinning=False, theme='browser', title=None…"
      ]
     },
     "metadata": {},
     "output_type": "display_data"
    },
    {
     "data": {
      "text/html": [
       "<div></div>"
      ],
      "text/plain": [
       "<IPython.core.display.HTML object>"
      ]
     },
     "metadata": {},
     "output_type": "display_data"
    },
    {
     "data": {
      "text/plain": [
       "<cad_viewer_widget.widget.CadViewer at 0x7fb58af666b0>"
      ]
     },
     "execution_count": 4,
     "metadata": {},
     "output_type": "execute_result"
    }
   ],
   "source": [
    "case_size = [76, 200, 200]\n",
    "case_foot_r = 12 / 2 + 0.7\n",
    "case_foot_h = 5 + 0.5\n",
    "case_foot_left_pos = 13 + 4\n",
    "case_foot_right_pos = 16\n",
    "case_foot_top_pos = 12 + 3\n",
    "case_foot_bottom_pos = 12 + 3\n",
    "case_foots = [\n",
    "    (x, y)\n",
    "    for x in [case_foot_left_pos, case_foot_right_pos]\n",
    "    for y in [case_foot_top_pos, case_foot_bottom_pos]\n",
    "]\n",
    "foot_offsets = [\n",
    "    (x, y)\n",
    "    for x in [-case_size[1] / 2, case_size[2] / 2]\n",
    "    for y in [-case_size[1] / 2, case_size[2] / 2]\n",
    "]\n",
    "case_foots = map(\n",
    "    lambda a, b: tuple(\n",
    "        map(lambda p, offset: offset - p if offset > 0 else offset + p, a, b)\n",
    "    ),\n",
    "    case_foots,\n",
    "    foot_offsets,\n",
    ")\n",
    "x_offset_of_power_port = 27\n",
    "y_offset_of_power_port = 16.5\n",
    "power_port_r = 12 / 2\n",
    "power_port_screws_spacing = 18\n",
    "power_port_screw_head_r = 5.5 / 2 + 0.5\n",
    "power_port_screw_head_h = 3+0.2\n",
    "\n",
    "with BuildPart() as the_case:\n",
    "    Box(76, 200, 200)\n",
    "    with BuildSketch(\n",
    "        Plane(the_case.faces().sort_by(Axis.X)[-1].center(), (0, 1, 0), (1, 0, 0))\n",
    "    ):\n",
    "        with Locations(*(case_foots)):\n",
    "            Circle(case_foot_r)\n",
    "    Extrude(amount=case_foot_h)\n",
    "    with BuildPart(\n",
    "        Plane(\n",
    "            (\n",
    "                case_size[0] / 2,\n",
    "                case_size[1] / 2,\n",
    "                -case_size[2] / 2,\n",
    "            ),\n",
    "            (-1, 0, 0),\n",
    "            (0, 1, 0),\n",
    "        )\n",
    "    ):\n",
    "        with Locations((x_offset_of_power_port, y_offset_of_power_port, 0)):\n",
    "            Cylinder(power_port_r, 40)\n",
    "            with BuildSketch():\n",
    "                with Locations(\n",
    "                    (power_port_screws_spacing / 2, 0, 0),\n",
    "                    (-power_port_screws_spacing / 2, 0, 0),\n",
    "                ):\n",
    "                    Circle(power_port_screw_head_r)\n",
    "                MakeHull()\n",
    "            Extrude(amount=power_port_screw_head_h)\n",
    "\n",
    "\n",
    "show(the_case)"
   ]
  },
  {
   "cell_type": "code",
   "execution_count": 5,
   "id": "fb2652eb",
   "metadata": {},
   "outputs": [
    {
     "data": {
      "application/vnd.jupyter.widget-view+json": {
       "model_id": "c7b44629505f4440a80e851aca470f09",
       "version_major": 2,
       "version_minor": 0
      },
      "text/plain": [
       "CadViewerWidget(anchor=None, cad_width=800, glass=True, height=400, pinning=False, theme='browser', title=None…"
      ]
     },
     "metadata": {},
     "output_type": "display_data"
    },
    {
     "data": {
      "text/html": [
       "<div></div>"
      ],
      "text/plain": [
       "<IPython.core.display.HTML object>"
      ]
     },
     "metadata": {},
     "output_type": "display_data"
    }
   ],
   "source": [
    "class StandBlock(BasePartObject):\n",
    "    def __init__(\n",
    "        self,\n",
    "        size: float,\n",
    "        pad_r: float,\n",
    "        pad_depth: float,\n",
    "        rotation: RotationLike = (0, 0, 0),\n",
    "        align: tuple[Align, Align] = (Align.CENTER, Align.CENTER, Align.CENTER),\n",
    "        mode: Mode = Mode.ADD,\n",
    "    ):\n",
    "        with BuildPart() as b:\n",
    "            Box(size, size, size)\n",
    "            with BuildSketch(b.faces().sort_by(Axis.Z)[0]):\n",
    "                Circle(pad_r)\n",
    "            Extrude(amount=-pad_depth, mode=Mode.SUBTRACT)\n",
    "        super().__init__(solid=b.part, rotation=rotation, align=align, mode=mode)\n",
    "\n",
    "\n",
    "with BuildPart():\n",
    "    show(StandBlock(10, 5, 1))"
   ]
  },
  {
   "cell_type": "code",
   "execution_count": 6,
   "id": "17b812f1",
   "metadata": {},
   "outputs": [],
   "source": [
    "stand_block_size = 40\n",
    "block_offset = 10\n",
    "block_thickness = stand_block_size/2-block_offset\n",
    "foot_pad_r = 15\n",
    "foot_pad_depth = 1"
   ]
  },
  {
   "cell_type": "code",
   "execution_count": 7,
   "id": "9878e7b0",
   "metadata": {},
   "outputs": [
    {
     "data": {
      "application/vnd.jupyter.widget-view+json": {
       "model_id": "e84633621264486c8c841d11fc318ac1",
       "version_major": 2,
       "version_minor": 0
      },
      "text/plain": [
       "CadViewerWidget(anchor=None, cad_width=800, glass=True, height=400, pinning=False, theme='browser', title=None…"
      ]
     },
     "metadata": {},
     "output_type": "display_data"
    },
    {
     "data": {
      "text/html": [
       "<div></div>"
      ],
      "text/plain": [
       "<IPython.core.display.HTML object>"
      ]
     },
     "metadata": {},
     "output_type": "display_data"
    },
    {
     "data": {
      "text/plain": [
       "<cad_viewer_widget.widget.CadViewer at 0x7fb607d6e0b0>"
      ]
     },
     "execution_count": 7,
     "metadata": {},
     "output_type": "execute_result"
    }
   ],
   "source": [
    "\n",
    "with BuildPart() as stand_f:\n",
    "    with GridLocations(\n",
    "        x_spacing=case_size[0] - block_offset * 2, y_spacing=0, x_count=2, y_count=1\n",
    "    ):\n",
    "        StandBlock(stand_block_size, foot_pad_r, foot_pad_depth)\n",
    "    with BuildSketch() as sk:\n",
    "        Rectangle(stand_block_size/2, block_thickness, align=(Align.CENTER, Align.MAX))\n",
    "    with Locations((0, stand_block_size/2, -10)):\n",
    "        # https://github.com/gumyr/build123d/issues/142\n",
    "        Extrude(*sk.faces(), amount=-1)\n",
    "    with Locations(\n",
    "        (0, case_size[1] / 2 - block_offset, case_size[2] / 2 - block_offset)\n",
    "    ):\n",
    "        Add(the_case.part, mode=Mode.SUBTRACT)\n",
    " \n",
    "show(stand_f.part)"
   ]
  },
  {
   "cell_type": "code",
   "execution_count": 8,
   "id": "abf2e65f",
   "metadata": {},
   "outputs": [
    {
     "data": {
      "application/vnd.jupyter.widget-view+json": {
       "model_id": "ddbc11af4eb6435eadf711e358f8f705",
       "version_major": 2,
       "version_minor": 0
      },
      "text/plain": [
       "CadViewerWidget(anchor=None, cad_width=800, glass=True, height=400, pinning=False, theme='browser', title=None…"
      ]
     },
     "metadata": {},
     "output_type": "display_data"
    },
    {
     "data": {
      "text/html": [
       "<div></div>"
      ],
      "text/plain": [
       "<IPython.core.display.HTML object>"
      ]
     },
     "metadata": {},
     "output_type": "display_data"
    },
    {
     "data": {
      "text/plain": [
       "<cad_viewer_widget.widget.CadViewer at 0x7fb58af50340>"
      ]
     },
     "execution_count": 8,
     "metadata": {},
     "output_type": "execute_result"
    }
   ],
   "source": [
    "with BuildPart() as stand_b:\n",
    "    with GridLocations(\n",
    "        x_spacing=case_size[0] - block_offset * 2, y_spacing=0, x_count=2, y_count=1\n",
    "    ):\n",
    "        StandBlock(stand_block_size, foot_pad_r, foot_pad_depth)\n",
    "    with BuildSketch() as sk:\n",
    "        Rectangle(stand_block_size/2, block_thickness, align=(Align.CENTER, Align.MAX))\n",
    "    with Locations((0, stand_block_size/2, -10)):\n",
    "        # https://github.com/gumyr/build123d/issues/142\n",
    "        r = Extrude(*sk.faces(), amount=-1, mode=Mode.PRIVATE)\n",
    "        Mirror(r, about=Plane.XZ)\n",
    "    with Locations(\n",
    "        (0, -case_size[1] / 2 + block_offset, case_size[2] / 2 - block_offset)\n",
    "    ):\n",
    "        Add(the_case.part, mode=Mode.SUBTRACT)\n",
    "\n",
    "show(stand_b.part)"
   ]
  },
  {
   "cell_type": "code",
   "execution_count": 10,
   "id": "fe1dee08-f6ba-46de-acc3-7a063051328c",
   "metadata": {},
   "outputs": [
    {
     "name": "stdout",
     "output_type": "stream",
     "text": [
      "\u001b[32;1m\n",
      "*******************************************************************\n",
      "******        Statistics on Transfer (Write)                 ******\u001b[0m\n",
      "\u001b[32;1m\n",
      "*******************************************************************\n",
      "******        Transfer Mode = 0  I.E.  As Is       ******\u001b[0m\n",
      "\u001b[32;1m******        Transferring Shape, ShapeType = 0                      ******\u001b[0m\n",
      "\u001b[32;1m** WorkSession : Sending all data\u001b[0m\n",
      "\u001b[32;1m Step File Name : /tmp/f.step(1538 ents)  Write  Done\u001b[0m\n",
      "\u001b[32;1m\n",
      "*******************************************************************\n",
      "******        Statistics on Transfer (Write)                 ******\u001b[0m\n",
      "\u001b[32;1m\n",
      "*******************************************************************\n",
      "******        Transfer Mode = 0  I.E.  As Is       ******\u001b[0m\n",
      "\u001b[32;1m******        Transferring Shape, ShapeType = 0                      ******\u001b[0m\n",
      "\u001b[32;1m** WorkSession : Sending all data\u001b[0m\n",
      "\u001b[32;1m Step File Name : /tmp/b.step(2002 ents)  Write  Done\u001b[0m\n",
      "\u001b[32;1m\n",
      "*******************************************************************\n",
      "******        Statistics on Transfer (Write)                 ******\u001b[0m\n",
      "\u001b[32;1m\n",
      "*******************************************************************\n",
      "******        Transfer Mode = 0  I.E.  As Is       ******\u001b[0m\n",
      "\u001b[32;1m******        Transferring Shape, ShapeType = 0                      ******\u001b[0m\n",
      "\u001b[32;1m** WorkSession : Sending all data\u001b[0m\n"
     ]
    },
    {
     "data": {
      "text/plain": [
       "<IFSelect_ReturnStatus.IFSelect_RetDone: 1>"
      ]
     },
     "execution_count": 10,
     "metadata": {},
     "output_type": "execute_result"
    },
    {
     "name": "stdout",
     "output_type": "stream",
     "text": [
      "\u001b[32;1m Step File Name : /tmp/x.step(1424 ents)  Write  Done\u001b[0m\n"
     ]
    }
   ],
   "source": [
    "stand_f.part.export_step(\"/tmp/f.step\")\n",
    "stand_b.part.export_step(\"/tmp/b.step\")\n",
    "the_case.part.export_step(\"/tmp/x.step\")"
   ]
  }
 ],
 "metadata": {
  "kernelspec": {
   "display_name": ".venv",
   "language": "python",
   "name": "python3"
  },
  "language_info": {
   "codemirror_mode": {
    "name": "ipython",
    "version": 3
   },
   "file_extension": ".py",
   "mimetype": "text/x-python",
   "name": "python",
   "nbconvert_exporter": "python",
   "pygments_lexer": "ipython3",
   "version": "3.10.9"
  },
  "vscode": {
   "interpreter": {
    "hash": "332191b3638476c5b82f5a206456fd341a0832eb502804c68bca7bbc2a9da2e1"
   }
  }
 },
 "nbformat": 4,
 "nbformat_minor": 5
}
